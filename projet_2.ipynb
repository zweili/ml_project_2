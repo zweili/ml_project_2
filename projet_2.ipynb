{
 "cells": [
  {
   "cell_type": "code",
   "execution_count": 5,
   "metadata": {},
   "outputs": [],
   "source": [
    "import numpy as np\n",
    "import pandas as pd\n",
    "import matplotlib.pyplot as plt\n",
    "from sklearn.metrics import r2_score\n",
    "from sklearn.decomposition import PCA\n",
    "from sklearn.neural_network import MLPRegressor\n",
    "from sklearn.linear_model import LinearRegression, Ridge\n",
    "from sklearn.model_selection import cross_val_score, train_test_split"
   ]
  },
  {
   "cell_type": "code",
   "execution_count": 2,
   "metadata": {},
   "outputs": [],
   "source": [
    "data = \"../data\""
   ]
  },
  {
   "cell_type": "code",
   "execution_count": 3,
   "metadata": {},
   "outputs": [],
   "source": [
    "df_meas = pd.read_csv(data + \"/IMPROVE_2015_measures_cs433.csv\")\n",
    "df_spec = pd.read_csv(data + \"/IMPROVE_2015_raw_spectra_cs433.csv\")\n",
    "df_split = pd.read_csv(data + \"/IMPROVE_2015_train_test_split_cs433.csv\")\n",
    "df_derive = pd.read_csv(data + \"/IMPROVE_2015_2nd-derivative_spectra_cs433.csv\")"
   ]
  },
  {
   "cell_type": "markdown",
   "metadata": {},
   "source": [
    "## Data Exploration"
   ]
  },
  {
   "cell_type": "code",
   "execution_count": 8,
   "metadata": {},
   "outputs": [
    {
     "data": {
      "text/html": [
       "<div>\n",
       "<style scoped>\n",
       "    .dataframe tbody tr th:only-of-type {\n",
       "        vertical-align: middle;\n",
       "    }\n",
       "\n",
       "    .dataframe tbody tr th {\n",
       "        vertical-align: top;\n",
       "    }\n",
       "\n",
       "    .dataframe thead th {\n",
       "        text-align: right;\n",
       "    }\n",
       "</style>\n",
       "<table border=\"1\" class=\"dataframe\">\n",
       "  <thead>\n",
       "    <tr style=\"text-align: right;\">\n",
       "      <th></th>\n",
       "      <th>Unnamed: 0</th>\n",
       "      <th>site</th>\n",
       "      <th>SiteCode</th>\n",
       "      <th>Date</th>\n",
       "      <th>flag</th>\n",
       "      <th>Latitude</th>\n",
       "      <th>Longitude</th>\n",
       "      <th>ECf:Value</th>\n",
       "      <th>ECf:Unc</th>\n",
       "      <th>MF:Value</th>\n",
       "      <th>MF:Unc</th>\n",
       "      <th>OCf:Value</th>\n",
       "      <th>OCf:Unc</th>\n",
       "      <th>SO4f:Value</th>\n",
       "      <th>SO4f:Unc</th>\n",
       "      <th>NO3f:Value</th>\n",
       "      <th>NO3f:Unc</th>\n",
       "      <th>DUSTf:Value</th>\n",
       "      <th>DUSTf:Unc</th>\n",
       "    </tr>\n",
       "  </thead>\n",
       "  <tbody>\n",
       "    <tr>\n",
       "      <th>0</th>\n",
       "      <td>0</td>\n",
       "      <td>CRLA1_04_21_2015_NM_0_csv</td>\n",
       "      <td>CRLA1</td>\n",
       "      <td>20150421</td>\n",
       "      <td>NM</td>\n",
       "      <td>42.8958</td>\n",
       "      <td>-122.1361</td>\n",
       "      <td>1.844414</td>\n",
       "      <td>1.023308</td>\n",
       "      <td>76.541793</td>\n",
       "      <td>2.718720</td>\n",
       "      <td>23.343977</td>\n",
       "      <td>3.196060</td>\n",
       "      <td>6.800987</td>\n",
       "      <td>0.142307</td>\n",
       "      <td>1.642580</td>\n",
       "      <td>0.095802</td>\n",
       "      <td>8.725530</td>\n",
       "      <td>0.758188</td>\n",
       "    </tr>\n",
       "    <tr>\n",
       "      <th>1</th>\n",
       "      <td>1</td>\n",
       "      <td>TONT1_05_09_2015_NM_0_csv</td>\n",
       "      <td>TONT1</td>\n",
       "      <td>20150509</td>\n",
       "      <td>NM</td>\n",
       "      <td>33.6548</td>\n",
       "      <td>-111.1068</td>\n",
       "      <td>0.218577</td>\n",
       "      <td>0.203142</td>\n",
       "      <td>23.273289</td>\n",
       "      <td>1.597004</td>\n",
       "      <td>3.774399</td>\n",
       "      <td>0.868154</td>\n",
       "      <td>3.132621</td>\n",
       "      <td>0.075339</td>\n",
       "      <td>2.733602</td>\n",
       "      <td>0.136727</td>\n",
       "      <td>4.686666</td>\n",
       "      <td>0.445060</td>\n",
       "    </tr>\n",
       "    <tr>\n",
       "      <th>2</th>\n",
       "      <td>2</td>\n",
       "      <td>BADL1_11_26_2015_NM_0_csv</td>\n",
       "      <td>BADL1</td>\n",
       "      <td>20151126</td>\n",
       "      <td>NM</td>\n",
       "      <td>43.7435</td>\n",
       "      <td>-101.9412</td>\n",
       "      <td>0.057109</td>\n",
       "      <td>0.178062</td>\n",
       "      <td>11.188888</td>\n",
       "      <td>1.473206</td>\n",
       "      <td>1.902453</td>\n",
       "      <td>0.738827</td>\n",
       "      <td>4.275544</td>\n",
       "      <td>0.113381</td>\n",
       "      <td>2.193672</td>\n",
       "      <td>0.136355</td>\n",
       "      <td>1.007311</td>\n",
       "      <td>0.121622</td>\n",
       "    </tr>\n",
       "    <tr>\n",
       "      <th>3</th>\n",
       "      <td>3</td>\n",
       "      <td>BRID1_10_27_2015_NM_0_csv</td>\n",
       "      <td>BRID1</td>\n",
       "      <td>20151027</td>\n",
       "      <td>NM</td>\n",
       "      <td>42.9749</td>\n",
       "      <td>-109.7579</td>\n",
       "      <td>0.090872</td>\n",
       "      <td>0.144012</td>\n",
       "      <td>6.564180</td>\n",
       "      <td>1.504830</td>\n",
       "      <td>1.569566</td>\n",
       "      <td>0.834177</td>\n",
       "      <td>0.788829</td>\n",
       "      <td>0.036832</td>\n",
       "      <td>0.556859</td>\n",
       "      <td>0.107056</td>\n",
       "      <td>0.337955</td>\n",
       "      <td>0.107560</td>\n",
       "    </tr>\n",
       "    <tr>\n",
       "      <th>4</th>\n",
       "      <td>4</td>\n",
       "      <td>SEQU1_04_03_2015_NM_0_csv</td>\n",
       "      <td>SEQU1</td>\n",
       "      <td>20150403</td>\n",
       "      <td>NM</td>\n",
       "      <td>36.4894</td>\n",
       "      <td>-118.8291</td>\n",
       "      <td>1.623977</td>\n",
       "      <td>0.971745</td>\n",
       "      <td>60.448977</td>\n",
       "      <td>2.306680</td>\n",
       "      <td>16.223032</td>\n",
       "      <td>2.258965</td>\n",
       "      <td>8.185925</td>\n",
       "      <td>0.169281</td>\n",
       "      <td>7.541357</td>\n",
       "      <td>0.309728</td>\n",
       "      <td>8.532945</td>\n",
       "      <td>0.735361</td>\n",
       "    </tr>\n",
       "  </tbody>\n",
       "</table>\n",
       "</div>"
      ],
      "text/plain": [
       "   Unnamed: 0                       site SiteCode      Date flag  Latitude  \\\n",
       "0           0  CRLA1_04_21_2015_NM_0_csv    CRLA1  20150421   NM   42.8958   \n",
       "1           1  TONT1_05_09_2015_NM_0_csv    TONT1  20150509   NM   33.6548   \n",
       "2           2  BADL1_11_26_2015_NM_0_csv    BADL1  20151126   NM   43.7435   \n",
       "3           3  BRID1_10_27_2015_NM_0_csv    BRID1  20151027   NM   42.9749   \n",
       "4           4  SEQU1_04_03_2015_NM_0_csv    SEQU1  20150403   NM   36.4894   \n",
       "\n",
       "   Longitude  ECf:Value   ECf:Unc   MF:Value    MF:Unc  OCf:Value   OCf:Unc  \\\n",
       "0  -122.1361   1.844414  1.023308  76.541793  2.718720  23.343977  3.196060   \n",
       "1  -111.1068   0.218577  0.203142  23.273289  1.597004   3.774399  0.868154   \n",
       "2  -101.9412   0.057109  0.178062  11.188888  1.473206   1.902453  0.738827   \n",
       "3  -109.7579   0.090872  0.144012   6.564180  1.504830   1.569566  0.834177   \n",
       "4  -118.8291   1.623977  0.971745  60.448977  2.306680  16.223032  2.258965   \n",
       "\n",
       "   SO4f:Value  SO4f:Unc  NO3f:Value  NO3f:Unc  DUSTf:Value  DUSTf:Unc  \n",
       "0    6.800987  0.142307    1.642580  0.095802     8.725530   0.758188  \n",
       "1    3.132621  0.075339    2.733602  0.136727     4.686666   0.445060  \n",
       "2    4.275544  0.113381    2.193672  0.136355     1.007311   0.121622  \n",
       "3    0.788829  0.036832    0.556859  0.107056     0.337955   0.107560  \n",
       "4    8.185925  0.169281    7.541357  0.309728     8.532945   0.735361  "
      ]
     },
     "execution_count": 8,
     "metadata": {},
     "output_type": "execute_result"
    }
   ],
   "source": [
    "df_meas.head()"
   ]
  },
  {
   "cell_type": "code",
   "execution_count": 9,
   "metadata": {},
   "outputs": [],
   "source": [
    "df_meas = df_meas.set_index(\"site\")"
   ]
  },
  {
   "cell_type": "code",
   "execution_count": 10,
   "metadata": {},
   "outputs": [],
   "source": [
    "df_OC = pd.DataFrame(df_meas[[\"OCf:Value\",\"OCf:Unc\"]]) #df_meas.loc[df_meas.flag == \"NM\",[\"OCf:Value\",\"OCf:Unc\"]] "
   ]
  },
  {
   "cell_type": "code",
   "execution_count": 11,
   "metadata": {},
   "outputs": [
    {
     "data": {
      "text/html": [
       "<div>\n",
       "<style scoped>\n",
       "    .dataframe tbody tr th:only-of-type {\n",
       "        vertical-align: middle;\n",
       "    }\n",
       "\n",
       "    .dataframe tbody tr th {\n",
       "        vertical-align: top;\n",
       "    }\n",
       "\n",
       "    .dataframe thead th {\n",
       "        text-align: right;\n",
       "    }\n",
       "</style>\n",
       "<table border=\"1\" class=\"dataframe\">\n",
       "  <thead>\n",
       "    <tr style=\"text-align: right;\">\n",
       "      <th></th>\n",
       "      <th>wavenumber</th>\n",
       "      <th>ACAD1_01_06_2015_NM_0_csv</th>\n",
       "      <th>ACAD1_01_09_2015_NM_0_csv</th>\n",
       "      <th>ACAD1_01_12_2015_NM_0_csv</th>\n",
       "      <th>ACAD1_01_15_2015_NM_0_csv</th>\n",
       "      <th>ACAD1_01_18_2015_NM_0_csv</th>\n",
       "      <th>ACAD1_01_21_2015_NM_0_csv</th>\n",
       "      <th>ACAD1_01_24_2015_NM_0_csv</th>\n",
       "      <th>ACAD1_01_27_2015_NM_0_csv</th>\n",
       "      <th>ACAD1_01_30_2015_NM_0_csv</th>\n",
       "      <th>...</th>\n",
       "      <th>YOSE1_07_02_2015_FB_0_csv</th>\n",
       "      <th>YOSEX_01_15_2015_FB_0_csv</th>\n",
       "      <th>YOSEX_02_05_2015_FB_0_csv</th>\n",
       "      <th>YOSEX_05_21_2015_FB_0_csv</th>\n",
       "      <th>YOSEX_06_11_2015_FB_0_csv</th>\n",
       "      <th>YOSEX_09_03_2015_FB_0_csv</th>\n",
       "      <th>YOSEX_10_15_2015_FB_0_csv</th>\n",
       "      <th>YOSEX_11_05_2015_FB_0_csv</th>\n",
       "      <th>ZICA1_08_13_2015_FB_0_csv</th>\n",
       "      <th>ZICA1_09_03_2015_FB_0_csv</th>\n",
       "    </tr>\n",
       "  </thead>\n",
       "  <tbody>\n",
       "    <tr>\n",
       "      <th>0</th>\n",
       "      <td>3998.423206</td>\n",
       "      <td>0.35778</td>\n",
       "      <td>0.58858</td>\n",
       "      <td>0.55091</td>\n",
       "      <td>0.49739</td>\n",
       "      <td>0.46597</td>\n",
       "      <td>0.42318</td>\n",
       "      <td>0.41571</td>\n",
       "      <td>0.34475</td>\n",
       "      <td>0.62313</td>\n",
       "      <td>...</td>\n",
       "      <td>0.24296</td>\n",
       "      <td>0.29209</td>\n",
       "      <td>0.40211</td>\n",
       "      <td>0.63614</td>\n",
       "      <td>0.54269</td>\n",
       "      <td>0.67122</td>\n",
       "      <td>0.53922</td>\n",
       "      <td>0.64828</td>\n",
       "      <td>0.40594</td>\n",
       "      <td>0.52207</td>\n",
       "    </tr>\n",
       "    <tr>\n",
       "      <th>1</th>\n",
       "      <td>3997.137539</td>\n",
       "      <td>0.35760</td>\n",
       "      <td>0.58832</td>\n",
       "      <td>0.55055</td>\n",
       "      <td>0.49715</td>\n",
       "      <td>0.46570</td>\n",
       "      <td>0.42296</td>\n",
       "      <td>0.41546</td>\n",
       "      <td>0.34452</td>\n",
       "      <td>0.62289</td>\n",
       "      <td>...</td>\n",
       "      <td>0.24282</td>\n",
       "      <td>0.29193</td>\n",
       "      <td>0.40188</td>\n",
       "      <td>0.63588</td>\n",
       "      <td>0.54250</td>\n",
       "      <td>0.67098</td>\n",
       "      <td>0.53898</td>\n",
       "      <td>0.64796</td>\n",
       "      <td>0.40579</td>\n",
       "      <td>0.52184</td>\n",
       "    </tr>\n",
       "    <tr>\n",
       "      <th>2</th>\n",
       "      <td>3995.851872</td>\n",
       "      <td>0.35743</td>\n",
       "      <td>0.58806</td>\n",
       "      <td>0.55019</td>\n",
       "      <td>0.49690</td>\n",
       "      <td>0.46543</td>\n",
       "      <td>0.42273</td>\n",
       "      <td>0.41520</td>\n",
       "      <td>0.34430</td>\n",
       "      <td>0.62265</td>\n",
       "      <td>...</td>\n",
       "      <td>0.24269</td>\n",
       "      <td>0.29177</td>\n",
       "      <td>0.40166</td>\n",
       "      <td>0.63563</td>\n",
       "      <td>0.54231</td>\n",
       "      <td>0.67074</td>\n",
       "      <td>0.53873</td>\n",
       "      <td>0.64762</td>\n",
       "      <td>0.40565</td>\n",
       "      <td>0.52161</td>\n",
       "    </tr>\n",
       "    <tr>\n",
       "      <th>3</th>\n",
       "      <td>3994.566206</td>\n",
       "      <td>0.35725</td>\n",
       "      <td>0.58781</td>\n",
       "      <td>0.54984</td>\n",
       "      <td>0.49665</td>\n",
       "      <td>0.46516</td>\n",
       "      <td>0.42250</td>\n",
       "      <td>0.41493</td>\n",
       "      <td>0.34407</td>\n",
       "      <td>0.62240</td>\n",
       "      <td>...</td>\n",
       "      <td>0.24255</td>\n",
       "      <td>0.29161</td>\n",
       "      <td>0.40143</td>\n",
       "      <td>0.63538</td>\n",
       "      <td>0.54213</td>\n",
       "      <td>0.67051</td>\n",
       "      <td>0.53848</td>\n",
       "      <td>0.64729</td>\n",
       "      <td>0.40550</td>\n",
       "      <td>0.52138</td>\n",
       "    </tr>\n",
       "    <tr>\n",
       "      <th>4</th>\n",
       "      <td>3993.280539</td>\n",
       "      <td>0.35708</td>\n",
       "      <td>0.58756</td>\n",
       "      <td>0.54948</td>\n",
       "      <td>0.49640</td>\n",
       "      <td>0.46489</td>\n",
       "      <td>0.42227</td>\n",
       "      <td>0.41466</td>\n",
       "      <td>0.34384</td>\n",
       "      <td>0.62215</td>\n",
       "      <td>...</td>\n",
       "      <td>0.24241</td>\n",
       "      <td>0.29145</td>\n",
       "      <td>0.40120</td>\n",
       "      <td>0.63512</td>\n",
       "      <td>0.54196</td>\n",
       "      <td>0.67027</td>\n",
       "      <td>0.53823</td>\n",
       "      <td>0.64696</td>\n",
       "      <td>0.40535</td>\n",
       "      <td>0.52114</td>\n",
       "    </tr>\n",
       "  </tbody>\n",
       "</table>\n",
       "<p>5 rows × 19939 columns</p>\n",
       "</div>"
      ],
      "text/plain": [
       "    wavenumber  ACAD1_01_06_2015_NM_0_csv  ACAD1_01_09_2015_NM_0_csv  \\\n",
       "0  3998.423206                    0.35778                    0.58858   \n",
       "1  3997.137539                    0.35760                    0.58832   \n",
       "2  3995.851872                    0.35743                    0.58806   \n",
       "3  3994.566206                    0.35725                    0.58781   \n",
       "4  3993.280539                    0.35708                    0.58756   \n",
       "\n",
       "   ACAD1_01_12_2015_NM_0_csv  ACAD1_01_15_2015_NM_0_csv  \\\n",
       "0                    0.55091                    0.49739   \n",
       "1                    0.55055                    0.49715   \n",
       "2                    0.55019                    0.49690   \n",
       "3                    0.54984                    0.49665   \n",
       "4                    0.54948                    0.49640   \n",
       "\n",
       "   ACAD1_01_18_2015_NM_0_csv  ACAD1_01_21_2015_NM_0_csv  \\\n",
       "0                    0.46597                    0.42318   \n",
       "1                    0.46570                    0.42296   \n",
       "2                    0.46543                    0.42273   \n",
       "3                    0.46516                    0.42250   \n",
       "4                    0.46489                    0.42227   \n",
       "\n",
       "   ACAD1_01_24_2015_NM_0_csv  ACAD1_01_27_2015_NM_0_csv  \\\n",
       "0                    0.41571                    0.34475   \n",
       "1                    0.41546                    0.34452   \n",
       "2                    0.41520                    0.34430   \n",
       "3                    0.41493                    0.34407   \n",
       "4                    0.41466                    0.34384   \n",
       "\n",
       "   ACAD1_01_30_2015_NM_0_csv            ...              \\\n",
       "0                    0.62313            ...               \n",
       "1                    0.62289            ...               \n",
       "2                    0.62265            ...               \n",
       "3                    0.62240            ...               \n",
       "4                    0.62215            ...               \n",
       "\n",
       "   YOSE1_07_02_2015_FB_0_csv  YOSEX_01_15_2015_FB_0_csv  \\\n",
       "0                    0.24296                    0.29209   \n",
       "1                    0.24282                    0.29193   \n",
       "2                    0.24269                    0.29177   \n",
       "3                    0.24255                    0.29161   \n",
       "4                    0.24241                    0.29145   \n",
       "\n",
       "   YOSEX_02_05_2015_FB_0_csv  YOSEX_05_21_2015_FB_0_csv  \\\n",
       "0                    0.40211                    0.63614   \n",
       "1                    0.40188                    0.63588   \n",
       "2                    0.40166                    0.63563   \n",
       "3                    0.40143                    0.63538   \n",
       "4                    0.40120                    0.63512   \n",
       "\n",
       "   YOSEX_06_11_2015_FB_0_csv  YOSEX_09_03_2015_FB_0_csv  \\\n",
       "0                    0.54269                    0.67122   \n",
       "1                    0.54250                    0.67098   \n",
       "2                    0.54231                    0.67074   \n",
       "3                    0.54213                    0.67051   \n",
       "4                    0.54196                    0.67027   \n",
       "\n",
       "   YOSEX_10_15_2015_FB_0_csv  YOSEX_11_05_2015_FB_0_csv  \\\n",
       "0                    0.53922                    0.64828   \n",
       "1                    0.53898                    0.64796   \n",
       "2                    0.53873                    0.64762   \n",
       "3                    0.53848                    0.64729   \n",
       "4                    0.53823                    0.64696   \n",
       "\n",
       "   ZICA1_08_13_2015_FB_0_csv  ZICA1_09_03_2015_FB_0_csv  \n",
       "0                    0.40594                    0.52207  \n",
       "1                    0.40579                    0.52184  \n",
       "2                    0.40565                    0.52161  \n",
       "3                    0.40550                    0.52138  \n",
       "4                    0.40535                    0.52114  \n",
       "\n",
       "[5 rows x 19939 columns]"
      ]
     },
     "execution_count": 11,
     "metadata": {},
     "output_type": "execute_result"
    }
   ],
   "source": [
    "df_spec.head()"
   ]
  },
  {
   "cell_type": "markdown",
   "metadata": {},
   "source": [
    "## Data Processing"
   ]
  },
  {
   "cell_type": "code",
   "execution_count": 12,
   "metadata": {},
   "outputs": [],
   "source": [
    "df_spec = df_spec.T"
   ]
  },
  {
   "cell_type": "code",
   "execution_count": 13,
   "metadata": {},
   "outputs": [
    {
     "data": {
      "text/html": [
       "<div>\n",
       "<style scoped>\n",
       "    .dataframe tbody tr th:only-of-type {\n",
       "        vertical-align: middle;\n",
       "    }\n",
       "\n",
       "    .dataframe tbody tr th {\n",
       "        vertical-align: top;\n",
       "    }\n",
       "\n",
       "    .dataframe thead th {\n",
       "        text-align: right;\n",
       "    }\n",
       "</style>\n",
       "<table border=\"1\" class=\"dataframe\">\n",
       "  <thead>\n",
       "    <tr style=\"text-align: right;\">\n",
       "      <th></th>\n",
       "      <th>0</th>\n",
       "      <th>1</th>\n",
       "      <th>2</th>\n",
       "      <th>3</th>\n",
       "      <th>4</th>\n",
       "      <th>5</th>\n",
       "      <th>6</th>\n",
       "      <th>7</th>\n",
       "      <th>8</th>\n",
       "      <th>9</th>\n",
       "      <th>...</th>\n",
       "      <th>2774</th>\n",
       "      <th>2775</th>\n",
       "      <th>2776</th>\n",
       "      <th>2777</th>\n",
       "      <th>2778</th>\n",
       "      <th>2779</th>\n",
       "      <th>2780</th>\n",
       "      <th>2781</th>\n",
       "      <th>2782</th>\n",
       "      <th>2783</th>\n",
       "    </tr>\n",
       "  </thead>\n",
       "  <tbody>\n",
       "    <tr>\n",
       "      <th>wavenumber</th>\n",
       "      <td>3998.423206</td>\n",
       "      <td>3997.137539</td>\n",
       "      <td>3995.851872</td>\n",
       "      <td>3994.566206</td>\n",
       "      <td>3993.280539</td>\n",
       "      <td>3991.994872</td>\n",
       "      <td>3990.709206</td>\n",
       "      <td>3989.423539</td>\n",
       "      <td>3988.137873</td>\n",
       "      <td>3986.852206</td>\n",
       "      <td>...</td>\n",
       "      <td>431.983986</td>\n",
       "      <td>430.698320</td>\n",
       "      <td>429.412653</td>\n",
       "      <td>428.126986</td>\n",
       "      <td>426.841320</td>\n",
       "      <td>425.555653</td>\n",
       "      <td>424.269986</td>\n",
       "      <td>422.984320</td>\n",
       "      <td>421.698653</td>\n",
       "      <td>420.412987</td>\n",
       "    </tr>\n",
       "    <tr>\n",
       "      <th>ACAD1_01_06_2015_NM_0_csv</th>\n",
       "      <td>0.357780</td>\n",
       "      <td>0.357600</td>\n",
       "      <td>0.357430</td>\n",
       "      <td>0.357250</td>\n",
       "      <td>0.357080</td>\n",
       "      <td>0.356890</td>\n",
       "      <td>0.356710</td>\n",
       "      <td>0.356520</td>\n",
       "      <td>0.356340</td>\n",
       "      <td>0.356150</td>\n",
       "      <td>...</td>\n",
       "      <td>-0.074765</td>\n",
       "      <td>-0.074292</td>\n",
       "      <td>-0.073728</td>\n",
       "      <td>-0.073047</td>\n",
       "      <td>-0.072208</td>\n",
       "      <td>-0.071185</td>\n",
       "      <td>-0.069949</td>\n",
       "      <td>-0.068499</td>\n",
       "      <td>-0.066864</td>\n",
       "      <td>-0.065079</td>\n",
       "    </tr>\n",
       "    <tr>\n",
       "      <th>ACAD1_01_09_2015_NM_0_csv</th>\n",
       "      <td>0.588580</td>\n",
       "      <td>0.588320</td>\n",
       "      <td>0.588060</td>\n",
       "      <td>0.587810</td>\n",
       "      <td>0.587560</td>\n",
       "      <td>0.587310</td>\n",
       "      <td>0.587070</td>\n",
       "      <td>0.586820</td>\n",
       "      <td>0.586570</td>\n",
       "      <td>0.586320</td>\n",
       "      <td>...</td>\n",
       "      <td>-0.099660</td>\n",
       "      <td>-0.099046</td>\n",
       "      <td>-0.098279</td>\n",
       "      <td>-0.097314</td>\n",
       "      <td>-0.096101</td>\n",
       "      <td>-0.094638</td>\n",
       "      <td>-0.092941</td>\n",
       "      <td>-0.091018</td>\n",
       "      <td>-0.088871</td>\n",
       "      <td>-0.086477</td>\n",
       "    </tr>\n",
       "    <tr>\n",
       "      <th>ACAD1_01_12_2015_NM_0_csv</th>\n",
       "      <td>0.550910</td>\n",
       "      <td>0.550550</td>\n",
       "      <td>0.550190</td>\n",
       "      <td>0.549840</td>\n",
       "      <td>0.549480</td>\n",
       "      <td>0.549120</td>\n",
       "      <td>0.548750</td>\n",
       "      <td>0.548380</td>\n",
       "      <td>0.548010</td>\n",
       "      <td>0.547640</td>\n",
       "      <td>...</td>\n",
       "      <td>-0.095560</td>\n",
       "      <td>-0.095277</td>\n",
       "      <td>-0.094907</td>\n",
       "      <td>-0.094408</td>\n",
       "      <td>-0.093729</td>\n",
       "      <td>-0.092851</td>\n",
       "      <td>-0.091786</td>\n",
       "      <td>-0.090555</td>\n",
       "      <td>-0.089180</td>\n",
       "      <td>-0.087647</td>\n",
       "    </tr>\n",
       "    <tr>\n",
       "      <th>ACAD1_01_15_2015_NM_0_csv</th>\n",
       "      <td>0.497390</td>\n",
       "      <td>0.497150</td>\n",
       "      <td>0.496900</td>\n",
       "      <td>0.496650</td>\n",
       "      <td>0.496400</td>\n",
       "      <td>0.496150</td>\n",
       "      <td>0.495900</td>\n",
       "      <td>0.495640</td>\n",
       "      <td>0.495390</td>\n",
       "      <td>0.495150</td>\n",
       "      <td>...</td>\n",
       "      <td>-0.105530</td>\n",
       "      <td>-0.105590</td>\n",
       "      <td>-0.105570</td>\n",
       "      <td>-0.105420</td>\n",
       "      <td>-0.105160</td>\n",
       "      <td>-0.104810</td>\n",
       "      <td>-0.104370</td>\n",
       "      <td>-0.103790</td>\n",
       "      <td>-0.103030</td>\n",
       "      <td>-0.102080</td>\n",
       "    </tr>\n",
       "  </tbody>\n",
       "</table>\n",
       "<p>5 rows × 2784 columns</p>\n",
       "</div>"
      ],
      "text/plain": [
       "                                  0            1            2            3     \\\n",
       "wavenumber                 3998.423206  3997.137539  3995.851872  3994.566206   \n",
       "ACAD1_01_06_2015_NM_0_csv     0.357780     0.357600     0.357430     0.357250   \n",
       "ACAD1_01_09_2015_NM_0_csv     0.588580     0.588320     0.588060     0.587810   \n",
       "ACAD1_01_12_2015_NM_0_csv     0.550910     0.550550     0.550190     0.549840   \n",
       "ACAD1_01_15_2015_NM_0_csv     0.497390     0.497150     0.496900     0.496650   \n",
       "\n",
       "                                  4            5            6            7     \\\n",
       "wavenumber                 3993.280539  3991.994872  3990.709206  3989.423539   \n",
       "ACAD1_01_06_2015_NM_0_csv     0.357080     0.356890     0.356710     0.356520   \n",
       "ACAD1_01_09_2015_NM_0_csv     0.587560     0.587310     0.587070     0.586820   \n",
       "ACAD1_01_12_2015_NM_0_csv     0.549480     0.549120     0.548750     0.548380   \n",
       "ACAD1_01_15_2015_NM_0_csv     0.496400     0.496150     0.495900     0.495640   \n",
       "\n",
       "                                  8            9        ...            2774  \\\n",
       "wavenumber                 3988.137873  3986.852206     ...      431.983986   \n",
       "ACAD1_01_06_2015_NM_0_csv     0.356340     0.356150     ...       -0.074765   \n",
       "ACAD1_01_09_2015_NM_0_csv     0.586570     0.586320     ...       -0.099660   \n",
       "ACAD1_01_12_2015_NM_0_csv     0.548010     0.547640     ...       -0.095560   \n",
       "ACAD1_01_15_2015_NM_0_csv     0.495390     0.495150     ...       -0.105530   \n",
       "\n",
       "                                 2775        2776        2777        2778  \\\n",
       "wavenumber                 430.698320  429.412653  428.126986  426.841320   \n",
       "ACAD1_01_06_2015_NM_0_csv   -0.074292   -0.073728   -0.073047   -0.072208   \n",
       "ACAD1_01_09_2015_NM_0_csv   -0.099046   -0.098279   -0.097314   -0.096101   \n",
       "ACAD1_01_12_2015_NM_0_csv   -0.095277   -0.094907   -0.094408   -0.093729   \n",
       "ACAD1_01_15_2015_NM_0_csv   -0.105590   -0.105570   -0.105420   -0.105160   \n",
       "\n",
       "                                 2779        2780        2781        2782  \\\n",
       "wavenumber                 425.555653  424.269986  422.984320  421.698653   \n",
       "ACAD1_01_06_2015_NM_0_csv   -0.071185   -0.069949   -0.068499   -0.066864   \n",
       "ACAD1_01_09_2015_NM_0_csv   -0.094638   -0.092941   -0.091018   -0.088871   \n",
       "ACAD1_01_12_2015_NM_0_csv   -0.092851   -0.091786   -0.090555   -0.089180   \n",
       "ACAD1_01_15_2015_NM_0_csv   -0.104810   -0.104370   -0.103790   -0.103030   \n",
       "\n",
       "                                 2783  \n",
       "wavenumber                 420.412987  \n",
       "ACAD1_01_06_2015_NM_0_csv   -0.065079  \n",
       "ACAD1_01_09_2015_NM_0_csv   -0.086477  \n",
       "ACAD1_01_12_2015_NM_0_csv   -0.087647  \n",
       "ACAD1_01_15_2015_NM_0_csv   -0.102080  \n",
       "\n",
       "[5 rows x 2784 columns]"
      ]
     },
     "execution_count": 13,
     "metadata": {},
     "output_type": "execute_result"
    }
   ],
   "source": [
    "df_spec.head()"
   ]
  },
  {
   "cell_type": "code",
   "execution_count": 14,
   "metadata": {},
   "outputs": [],
   "source": [
    "pd_merge = df_OC.merge(df_spec, right_index=True, left_index=True)"
   ]
  },
  {
   "cell_type": "code",
   "execution_count": 15,
   "metadata": {},
   "outputs": [],
   "source": [
    "df_split = df_split.set_index(\"site\", drop=True).drop([\"Unnamed: 0\"], axis=1)"
   ]
  },
  {
   "cell_type": "code",
   "execution_count": 16,
   "metadata": {},
   "outputs": [],
   "source": [
    "pd_merge_again = pd_merge.merge(df_split, right_index=True, left_index=True)"
   ]
  },
  {
   "cell_type": "code",
   "execution_count": 17,
   "metadata": {},
   "outputs": [
    {
     "data": {
      "text/plain": [
       "CRLA1_04_21_2015_NM_0_csv       23.343977\n",
       "TONT1_05_09_2015_NM_0_csv        3.774399\n",
       "BADL1_11_26_2015_NM_0_csv        1.902453\n",
       "BRID1_10_27_2015_NM_0_csv        1.569566\n",
       "SEQU1_04_03_2015_NM_0_csv       16.223032\n",
       "PINN1_08_04_2015_NM_QC_0_csv     1.969049\n",
       "PINN1_08_04_2015_NM_0_csv        1.969049\n",
       "BRIS1_12_17_2015_NM_0_csv        9.704800\n",
       "BRCA1_04_15_2015_NM_0_csv        1.304018\n",
       "WHIT1_12_14_2015_NM_0_csv        1.178174\n",
       "DOME1_08_31_2015_NM_0_csv       24.109274\n",
       "GLAC1_04_09_2015_NM_0_csv        7.833412\n",
       "LOST1_03_07_2015_NM_0_csv        3.838577\n",
       "MAKA2_03_31_2015_NM_0_csv        0.127425\n",
       "ELLI1_08_13_2015_NM_2_0_csv     16.295581\n",
       "BADL1_10_09_2015_NM_0_csv       21.264523\n",
       "MOZI1_04_15_2015_NM_0_csv        1.834183\n",
       "IKBA1_01_06_2015_NM_0_csv        4.680329\n",
       "SHEN1_02_08_2015_NM_0_csv       16.457420\n",
       "PHOE5_11_23_2015_NM_0_csv       35.038568\n",
       "MORA1_04_21_2015_NM_0_csv        8.615637\n",
       "BYIS1_08_07_2015_NM_0_csv        1.922358\n",
       "SIPS1_08_01_2015_NM_0_csv       13.305918\n",
       "NOCA1_10_06_2015_NM_0_csv       16.050682\n",
       "SAGU1_08_31_2015_NM_0_csv        5.935330\n",
       "PUSO1_09_27_2015_NM_0_csv       14.070471\n",
       "ELDO1_07_05_2015_NM_0_csv       22.482693\n",
       "GRBA1_11_08_2015_NM_0_csv        3.655902\n",
       "HACR1_11_14_2015_NM_0_csv        0.545790\n",
       "VILA1_11_14_2015_NM_0_csv        8.991403\n",
       "                                  ...    \n",
       "ROMA1_11_29_2015_NM_0_csv       18.477812\n",
       "TALL1_09_18_2015_NM_0_csv        8.313629\n",
       "LIGO1_01_03_2015_NM_0_csv        4.878443\n",
       "NOAB1_12_02_2015_NM_0_csv        1.672064\n",
       "ORPI1_12_11_2015_NM_0_csv        3.535918\n",
       "JARB1_01_12_2015_NM_0_csv        0.584111\n",
       "DOME1_06_23_2015_NM_0_csv       12.876485\n",
       "CABI1_02_02_2015_NM_0_csv        0.122775\n",
       "NOCA1_08_10_2015_NM_0_csv       26.175892\n",
       "SAGA1_03_28_2015_NM_0_csv       10.213571\n",
       "BRMA1_10_12_2015_NM_0_csv       13.564118\n",
       "MACA1_05_21_2015_NM_2_0_csv      7.987811\n",
       "FLTO1_02_05_2015_NM_0_csv        1.610026\n",
       "BALD1_08_01_2015_NM_0_csv        5.332989\n",
       "JARB1_01_27_2015_NM_0_csv        0.707816\n",
       "SNPA1_07_02_2015_NM_0_csv       20.976840\n",
       "NOCH1_10_03_2015_NM_0_csv        9.039304\n",
       "KALM1_10_12_2015_NM_0_csv        8.268333\n",
       "DOME1_07_05_2015_NM_0_csv       13.661500\n",
       "BRID1_09_03_2015_NM_0_csv        3.779421\n",
       "SAMAX_02_17_2015_NM_0_csv        9.514126\n",
       "CRES1_05_21_2015_NM_1_csv        0.730139\n",
       "IKBA1_07_08_2015_NM_0_csv        3.443278\n",
       "SHEN1_04_09_2015_NM_0_csv        3.717662\n",
       "THRO1_10_09_2015_NM_0_csv        9.521567\n",
       "SYCA1_09_06_2015_NM_0_csv        7.048397\n",
       "LOST1_10_15_2015_NM_0_csv        7.630647\n",
       "GRBA1_02_23_2015_NM_0_csv        8.156161\n",
       "YOSEX_07_23_2015_NM_0_csv        8.682605\n",
       "PHOE5_03_25_2015_NM_0_csv       13.914491\n",
       "Name: OCf:Value, Length: 18008, dtype: float64"
      ]
     },
     "execution_count": 17,
     "metadata": {},
     "output_type": "execute_result"
    }
   ],
   "source": [
    "pd_merge_again[\"OCf:Value\"]"
   ]
  },
  {
   "cell_type": "code",
   "execution_count": 18,
   "metadata": {},
   "outputs": [],
   "source": [
    "set_train = pd_merge_again[pd_merge_again[\"usage\"] == \"calibration\"]"
   ]
  },
  {
   "cell_type": "code",
   "execution_count": 19,
   "metadata": {},
   "outputs": [],
   "source": [
    "set_test = pd_merge_again[pd_merge_again[\"usage\"] == \"test\"]"
   ]
  },
  {
   "cell_type": "code",
   "execution_count": 20,
   "metadata": {},
   "outputs": [],
   "source": [
    "df_OCU_tr = set_train[\"OCf:Unc\"]\n",
    "df_OCU_te = set_test[\"OCf:Unc\"]"
   ]
  },
  {
   "cell_type": "code",
   "execution_count": 21,
   "metadata": {},
   "outputs": [],
   "source": [
    "y_tr = set_train[\"OCf:Value\"]\n",
    "y_te = set_test[\"OCf:Value\"]\n",
    "x_tr = set_train.drop([\"OCf:Value\",\"OCf:Unc\",\"usage\"], axis=1)\n",
    "x_te = set_test.drop([\"OCf:Value\",\"OCf:Unc\",\"usage\"], axis=1)"
   ]
  },
  {
   "cell_type": "markdown",
   "metadata": {},
   "source": [
    "### LinearRegression"
   ]
  },
  {
   "cell_type": "code",
   "execution_count": 22,
   "metadata": {},
   "outputs": [],
   "source": [
    "lr = LinearRegression()"
   ]
  },
  {
   "cell_type": "code",
   "execution_count": 23,
   "metadata": {},
   "outputs": [
    {
     "data": {
      "text/plain": [
       "array([0.9527986 , 0.97138097, 0.98517212, 0.97723736, 0.97413276,\n",
       "       0.98552312, 0.98031491, 0.98466993, 0.98919717, 0.97822009])"
      ]
     },
     "execution_count": 23,
     "metadata": {},
     "output_type": "execute_result"
    }
   ],
   "source": [
    "cross_val_score(lr, x_tr, y_tr, cv=10)"
   ]
  },
  {
   "cell_type": "code",
   "execution_count": 24,
   "metadata": {},
   "outputs": [
    {
     "data": {
      "text/plain": [
       "LinearRegression(copy_X=True, fit_intercept=True, n_jobs=None,\n",
       "         normalize=False)"
      ]
     },
     "execution_count": 24,
     "metadata": {},
     "output_type": "execute_result"
    }
   ],
   "source": [
    "lr.fit(x_tr,y_tr)"
   ]
  },
  {
   "cell_type": "code",
   "execution_count": 25,
   "metadata": {},
   "outputs": [],
   "source": [
    "y_pred_tr = lr.predict(x_tr)\n",
    "y_pred_te = lr.predict(x_te)"
   ]
  },
  {
   "cell_type": "code",
   "execution_count": 26,
   "metadata": {},
   "outputs": [
    {
     "data": {
      "text/plain": [
       "Text(0,0.5,'Predicted y')"
      ]
     },
     "execution_count": 26,
     "metadata": {},
     "output_type": "execute_result"
    },
    {
     "data": {
      "image/png": "[encoded data removed]",
      "text/plain": [
       "<Figure size 432x288 with 1 Axes>"
      ]
     },
     "metadata": {
      "needs_background": "light"
     },
     "output_type": "display_data"
    }
   ],
   "source": [
    "plt.scatter(y_tr,y_pred_tr)\n",
    "u = np.linspace(0,500)\n",
    "plt.plot(u,u, c='black')\n",
    "plt.xlabel(\"True y\")\n",
    "plt.ylabel(\"Predicted y\")"
   ]
  },
  {
   "cell_type": "code",
   "execution_count": 27,
   "metadata": {},
   "outputs": [
    {
     "data": {
      "text/plain": [
       "0.9939504806681568"
      ]
     },
     "execution_count": 27,
     "metadata": {},
     "output_type": "execute_result"
    }
   ],
   "source": [
    "r2_score(y_tr,y_pred_tr)"
   ]
  },
  {
   "cell_type": "code",
   "execution_count": 159,
   "metadata": {},
   "outputs": [],
   "source": [
    "bias_tr = (y_tr - y_pred_tr) / df_OCU_tr\n",
    "#bias_te = (y_te - y_pred_te) / df_OCU_te"
   ]
  },
  {
   "cell_type": "code",
   "execution_count": 160,
   "metadata": {},
   "outputs": [],
   "source": [
    "SNR_tr = y_tr / df_OCU_tr\n",
    "SNR_te = y_te / df_OCU_te"
   ]
  },
  {
   "cell_type": "code",
   "execution_count": 162,
   "metadata": {},
   "outputs": [
    {
     "data": {
      "text/plain": [
       "Text(0,0.5,'bias')"
      ]
     },
     "execution_count": 162,
     "metadata": {},
     "output_type": "execute_result"
    },
    {
     "data": {
      "image/png": "[encoded data removed]",
      "text/plain": [
       "<Figure size 432x288 with 1 Axes>"
      ]
     },
     "metadata": {
      "needs_background": "light"
     },
     "output_type": "display_data"
    }
   ],
   "source": [
    "plt.scatter(SNR_tr,bias_tr)\n",
    "plt.title(\"linear\")\n",
    "plt.xlabel(\"SNR\")\n",
    "plt.ylabel(\"bias\")"
   ]
  },
  {
   "cell_type": "markdown",
   "metadata": {},
   "source": [
    "### Ridge regression"
   ]
  },
  {
   "cell_type": "code",
   "execution_count": 31,
   "metadata": {},
   "outputs": [],
   "source": [
    "ridge = Ridge()"
   ]
  },
  {
   "cell_type": "code",
   "execution_count": 32,
   "metadata": {},
   "outputs": [
    {
     "data": {
      "text/plain": [
       "array([0.95377443, 0.96659408, 0.98123803, 0.9557097 , 0.96215155,\n",
       "       0.97658692, 0.97252635, 0.9814716 , 0.9707717 , 0.96947386])"
      ]
     },
     "execution_count": 32,
     "metadata": {},
     "output_type": "execute_result"
    }
   ],
   "source": [
    "cross_val_score(ridge,x_tr,y_tr, cv=10)"
   ]
  },
  {
   "cell_type": "code",
   "execution_count": 33,
   "metadata": {},
   "outputs": [],
   "source": [
    "ridge.fit(x_tr,y_tr)\n",
    "y_pred_tr_ridge = ridge.predict(x_tr)\n",
    "#y_pred_te_ridge = ridge.predict(x_te)"
   ]
  },
  {
   "cell_type": "code",
   "execution_count": 34,
   "metadata": {},
   "outputs": [
    {
     "data": {
      "text/plain": [
       "Text(0,0.5,'Predicted y')"
      ]
     },
     "execution_count": 34,
     "metadata": {},
     "output_type": "execute_result"
    },
    {
     "data": {
      "image/png": "[encoded data removed]",
      "text/plain": [
       "<Figure size 432x288 with 1 Axes>"
      ]
     },
     "metadata": {
      "needs_background": "light"
     },
     "output_type": "display_data"
    }
   ],
   "source": [
    "plt.scatter(y_tr,y_pred_tr_ridge)\n",
    "u = np.linspace(0,500)\n",
    "plt.plot(u,u, c='black')\n",
    "plt.xlabel(\"True y\")\n",
    "plt.ylabel(\"Predicted y\")\n"
   ]
  },
  {
   "cell_type": "code",
   "execution_count": 35,
   "metadata": {},
   "outputs": [
    {
     "data": {
      "text/plain": [
       "0.9754435219744614"
      ]
     },
     "execution_count": 35,
     "metadata": {},
     "output_type": "execute_result"
    }
   ],
   "source": [
    "r2_score(y_tr,y_pred_tr_ridge)"
   ]
  },
  {
   "cell_type": "code",
   "execution_count": 36,
   "metadata": {},
   "outputs": [
    {
     "data": {
      "text/plain": [
       "Text(0,0.5,'bias')"
      ]
     },
     "execution_count": 36,
     "metadata": {},
     "output_type": "execute_result"
    },
    {
     "data": {
      "image/png": "[encoded data removed]",
      "text/plain": [
       "<Figure size 432x288 with 1 Axes>"
      ]
     },
     "metadata": {
      "needs_background": "light"
     },
     "output_type": "display_data"
    }
   ],
   "source": [
    "bias_tr_ridge = (y_tr - y_pred_tr_ridge) / df_OCU_tr\n",
    "\n",
    "plt.scatter(SNR_tr,bias_tr_ridge)\n",
    "plt.title(\"ridge\")\n",
    "plt.xlabel(\"SNR\")\n",
    "plt.ylabel(\"bias\")"
   ]
  },
  {
   "cell_type": "markdown",
   "metadata": {},
   "source": [
    "### Neural Network"
   ]
  },
  {
   "cell_type": "code",
   "execution_count": 37,
   "metadata": {},
   "outputs": [],
   "source": [
    "nn = MLPRegressor()"
   ]
  },
  {
   "cell_type": "code",
   "execution_count": 38,
   "metadata": {},
   "outputs": [
    {
     "data": {
      "text/plain": [
       "MLPRegressor(activation='relu', alpha=0.0001, batch_size='auto', beta_1=0.9,\n",
       "       beta_2=0.999, early_stopping=False, epsilon=1e-08,\n",
       "       hidden_layer_sizes=(100,), learning_rate='constant',\n",
       "       learning_rate_init=0.001, max_iter=200, momentum=0.9,\n",
       "       n_iter_no_change=10, nesterovs_momentum=True, power_t=0.5,\n",
       "       random_state=None, shuffle=True, solver='adam', tol=0.0001,\n",
       "       validation_fraction=0.1, verbose=False, warm_start=False)"
      ]
     },
     "execution_count": 38,
     "metadata": {},
     "output_type": "execute_result"
    }
   ],
   "source": [
    "nn.fit(x_tr,y_tr)"
   ]
  },
  {
   "cell_type": "code",
   "execution_count": 39,
   "metadata": {},
   "outputs": [],
   "source": [
    "y_pred_tr_nn = nn.predict(x_tr)"
   ]
  },
  {
   "cell_type": "code",
   "execution_count": 40,
   "metadata": {},
   "outputs": [
    {
     "data": {
      "text/plain": [
       "Text(0,0.5,'Predicted y')"
      ]
     },
     "execution_count": 40,
     "metadata": {},
     "output_type": "execute_result"
    },
    {
     "data": {
      "image/png": "[encoded data removed]",
      "text/plain": [
       "<Figure size 432x288 with 1 Axes>"
      ]
     },
     "metadata": {
      "needs_background": "light"
     },
     "output_type": "display_data"
    }
   ],
   "source": [
    "plt.scatter(y_tr,y_pred_tr_nn)\n",
    "u = np.linspace(0,500)\n",
    "plt.plot(u,u, c='black')\n",
    "plt.xlabel(\"True y\")\n",
    "plt.ylabel(\"Predicted y\")"
   ]
  },
  {
   "cell_type": "code",
   "execution_count": 41,
   "metadata": {},
   "outputs": [
    {
     "data": {
      "text/plain": [
       "0.9638423213083628"
      ]
     },
     "execution_count": 41,
     "metadata": {},
     "output_type": "execute_result"
    }
   ],
   "source": [
    "r2_score(y_tr,y_pred_tr_nn)"
   ]
  },
  {
   "cell_type": "code",
   "execution_count": 42,
   "metadata": {},
   "outputs": [
    {
     "data": {
      "text/plain": [
       "Text(0,0.5,'bias')"
      ]
     },
     "execution_count": 42,
     "metadata": {},
     "output_type": "execute_result"
    },
    {
     "data": {
      "image/png": "[encoded data removed]",
      "text/plain": [
       "<Figure size 432x288 with 1 Axes>"
      ]
     },
     "metadata": {
      "needs_background": "light"
     },
     "output_type": "display_data"
    }
   ],
   "source": [
    "bias_tr_nn = (y_tr - y_pred_tr_nn) / df_OCU_tr\n",
    "\n",
    "plt.scatter(SNR_tr,bias_tr_nn)\n",
    "plt.title(\"NN\")\n",
    "plt.xlabel(\"SNR\")\n",
    "plt.ylabel(\"bias\")"
   ]
  },
  {
   "cell_type": "markdown",
   "metadata": {},
   "source": [
    "### 2nd derivative"
   ]
  },
  {
   "cell_type": "code",
   "execution_count": 43,
   "metadata": {},
   "outputs": [],
   "source": [
    "df_derive = df_derive.T"
   ]
  },
  {
   "cell_type": "code",
   "execution_count": 44,
   "metadata": {},
   "outputs": [],
   "source": [
    "pd_der_merge = df_OC.merge(df_derive, right_index=True, left_index=True)"
   ]
  },
  {
   "cell_type": "code",
   "execution_count": 45,
   "metadata": {},
   "outputs": [
    {
     "data": {
      "text/html": [
       "<div>\n",
       "<style scoped>\n",
       "    .dataframe tbody tr th:only-of-type {\n",
       "        vertical-align: middle;\n",
       "    }\n",
       "\n",
       "    .dataframe tbody tr th {\n",
       "        vertical-align: top;\n",
       "    }\n",
       "\n",
       "    .dataframe thead th {\n",
       "        text-align: right;\n",
       "    }\n",
       "</style>\n",
       "<table border=\"1\" class=\"dataframe\">\n",
       "  <thead>\n",
       "    <tr style=\"text-align: right;\">\n",
       "      <th></th>\n",
       "      <th>usage</th>\n",
       "    </tr>\n",
       "    <tr>\n",
       "      <th>site</th>\n",
       "      <th></th>\n",
       "    </tr>\n",
       "  </thead>\n",
       "  <tbody>\n",
       "    <tr>\n",
       "      <th>CRLA1_04_21_2015_NM_0_csv</th>\n",
       "      <td>calibration</td>\n",
       "    </tr>\n",
       "    <tr>\n",
       "      <th>TONT1_05_09_2015_NM_0_csv</th>\n",
       "      <td>calibration</td>\n",
       "    </tr>\n",
       "    <tr>\n",
       "      <th>BADL1_11_26_2015_NM_0_csv</th>\n",
       "      <td>calibration</td>\n",
       "    </tr>\n",
       "    <tr>\n",
       "      <th>BRID1_10_27_2015_NM_0_csv</th>\n",
       "      <td>calibration</td>\n",
       "    </tr>\n",
       "    <tr>\n",
       "      <th>SEQU1_04_03_2015_NM_0_csv</th>\n",
       "      <td>calibration</td>\n",
       "    </tr>\n",
       "    <tr>\n",
       "      <th>PINN1_08_04_2015_NM_QC_0_csv</th>\n",
       "      <td>calibration</td>\n",
       "    </tr>\n",
       "    <tr>\n",
       "      <th>BRIS1_12_17_2015_NM_0_csv</th>\n",
       "      <td>calibration</td>\n",
       "    </tr>\n",
       "    <tr>\n",
       "      <th>BRCA1_04_15_2015_NM_0_csv</th>\n",
       "      <td>calibration</td>\n",
       "    </tr>\n",
       "    <tr>\n",
       "      <th>ORPI1_09_03_2015_FB_0_csv</th>\n",
       "      <td>calibration</td>\n",
       "    </tr>\n",
       "  </tbody>\n",
       "</table>\n",
       "</div>"
      ],
      "text/plain": [
       "                                    usage\n",
       "site                                     \n",
       "CRLA1_04_21_2015_NM_0_csv     calibration\n",
       "TONT1_05_09_2015_NM_0_csv     calibration\n",
       "BADL1_11_26_2015_NM_0_csv     calibration\n",
       "BRID1_10_27_2015_NM_0_csv     calibration\n",
       "SEQU1_04_03_2015_NM_0_csv     calibration\n",
       "PINN1_08_04_2015_NM_QC_0_csv  calibration\n",
       "BRIS1_12_17_2015_NM_0_csv     calibration\n",
       "BRCA1_04_15_2015_NM_0_csv     calibration\n",
       "ORPI1_09_03_2015_FB_0_csv     calibration"
      ]
     },
     "execution_count": 45,
     "metadata": {},
     "output_type": "execute_result"
    }
   ],
   "source": [
    "df_split.head(9)"
   ]
  },
  {
   "cell_type": "code",
   "execution_count": 46,
   "metadata": {},
   "outputs": [],
   "source": [
    "pd_der_again = pd_der_merge.merge(df_split, right_index=True, left_index=True)"
   ]
  },
  {
   "cell_type": "code",
   "execution_count": 47,
   "metadata": {},
   "outputs": [],
   "source": [
    "set_train_der = pd_der_again[pd_der_again[\"usage\"] == \"calibration\"]"
   ]
  },
  {
   "cell_type": "code",
   "execution_count": 48,
   "metadata": {},
   "outputs": [],
   "source": [
    "set_test_der = pd_der_again[pd_der_again[\"usage\"] == \"test\"]"
   ]
  },
  {
   "cell_type": "code",
   "execution_count": 49,
   "metadata": {},
   "outputs": [],
   "source": [
    "y_tr_der = set_train_der[\"OCf:Value\"]\n",
    "y_te_der = set_test_der[\"OCf:Value\"]\n",
    "x_tr_der = set_train_der.drop([\"OCf:Value\",\"OCf:Unc\",\"usage\"], axis=1)\n",
    "x_te_der = set_test_der.drop([\"OCf:Value\",\"OCf:Unc\",\"usage\"], axis=1)"
   ]
  },
  {
   "cell_type": "code",
   "execution_count": 50,
   "metadata": {},
   "outputs": [
    {
     "data": {
      "text/plain": [
       "LinearRegression(copy_X=True, fit_intercept=True, n_jobs=None,\n",
       "         normalize=False)"
      ]
     },
     "execution_count": 50,
     "metadata": {},
     "output_type": "execute_result"
    }
   ],
   "source": [
    "lr.fit(x_tr_der,y_tr_der)"
   ]
  },
  {
   "cell_type": "code",
   "execution_count": 51,
   "metadata": {},
   "outputs": [],
   "source": [
    "der_predict_tr = lr.predict(x_tr_der)"
   ]
  },
  {
   "cell_type": "code",
   "execution_count": 52,
   "metadata": {},
   "outputs": [
    {
     "data": {
      "text/plain": [
       "Text(0,0.5,'Predicted y')"
      ]
     },
     "execution_count": 52,
     "metadata": {},
     "output_type": "execute_result"
    },
    {
     "data": {
      "image/png": "[encoded data removed]",
      "text/plain": [
       "<Figure size 432x288 with 1 Axes>"
      ]
     },
     "metadata": {
      "needs_background": "light"
     },
     "output_type": "display_data"
    }
   ],
   "source": [
    "plt.scatter(y_tr,der_predict_tr)\n",
    "u = np.linspace(0,500)\n",
    "plt.plot(u,u, c='black')\n",
    "plt.xlabel(\"True y\")\n",
    "plt.ylabel(\"Predicted y\")"
   ]
  },
  {
   "cell_type": "code",
   "execution_count": 53,
   "metadata": {},
   "outputs": [
    {
     "data": {
      "text/plain": [
       "0.9938977307958035"
      ]
     },
     "execution_count": 53,
     "metadata": {},
     "output_type": "execute_result"
    }
   ],
   "source": [
    "r2_score(y_tr,der_predict_tr)"
   ]
  },
  {
   "cell_type": "code",
   "execution_count": null,
   "metadata": {},
   "outputs": [],
   "source": [
    "#x_tr_der[x_tr_der.index.contains(\"_NM_\")]"
   ]
  },
  {
   "cell_type": "markdown",
   "metadata": {},
   "source": [
    "## FEATURE REDUCTION"
   ]
  },
  {
   "cell_type": "code",
   "execution_count": 106,
   "metadata": {},
   "outputs": [],
   "source": [
    "# Compute PCA keeping only he n_components\n",
    "pca = PCA(n_components=100)"
   ]
  },
  {
   "cell_type": "code",
   "execution_count": 107,
   "metadata": {},
   "outputs": [],
   "source": [
    "# fit and transform train set and transform test set\n",
    "pca_tr = pca.fit_transform(x_tr)\n",
    "pca_te = pca.transform(x_te)"
   ]
  },
  {
   "cell_type": "code",
   "execution_count": 108,
   "metadata": {},
   "outputs": [
    {
     "data": {
      "text/plain": [
       "LinearRegression(copy_X=True, fit_intercept=True, n_jobs=None,\n",
       "         normalize=False)"
      ]
     },
     "execution_count": 108,
     "metadata": {},
     "output_type": "execute_result"
    }
   ],
   "source": [
    "#fit linear Regression model on PCA data\n",
    "lr.fit(pca_tr, y_tr)"
   ]
  },
  {
   "cell_type": "code",
   "execution_count": 109,
   "metadata": {},
   "outputs": [],
   "source": [
    "y_pred_pca = lr.predict(pca_te)"
   ]
  },
  {
   "cell_type": "code",
   "execution_count": 110,
   "metadata": {},
   "outputs": [
    {
     "data": {
      "text/plain": [
       "Text(0,0.5,'Predicted y')"
      ]
     },
     "execution_count": 110,
     "metadata": {},
     "output_type": "execute_result"
    },
    {
     "data": {
      "image/png": "[encoded data removed]",
      "text/plain": [
       "<Figure size 432x288 with 1 Axes>"
      ]
     },
     "metadata": {
      "needs_background": "light"
     },
     "output_type": "display_data"
    }
   ],
   "source": [
    "# display plot to see \"accuracy\" of the model\n",
    "plt.scatter(y_te,y_pred_pca)\n",
    "u = np.linspace(0,500)\n",
    "plt.plot(u,u, c='black')\n",
    "plt.xlabel(\"True y\")\n",
    "plt.ylabel(\"Predicted y\")"
   ]
  },
  {
   "cell_type": "code",
   "execution_count": 111,
   "metadata": {},
   "outputs": [
    {
     "data": {
      "text/plain": [
       "0.9794986829514511"
      ]
     },
     "execution_count": 111,
     "metadata": {},
     "output_type": "execute_result"
    }
   ],
   "source": [
    "r2_score(y_te,y_pred_pca)"
   ]
  },
  {
   "cell_type": "markdown",
   "metadata": {},
   "source": [
    "**Almost as good as the linear model without feature reduction but here only using 100 features =0**"
   ]
  },
  {
   "cell_type": "code",
   "execution_count": 125,
   "metadata": {},
   "outputs": [],
   "source": [
    "# Check performance of pca models with different number of components\n",
    "max_pca_feat = 100\n",
    "\n",
    "def compute_scores(X,y):\n",
    "    \"\"\"Compute cross-validation on pca model with different number of components\"\"\"\n",
    "    pca = PCA()\n",
    "    pca_scores = []\n",
    "    \n",
    "    for n_feat in range(1,max_pca_feat):\n",
    "        pca.n_components = n_feat\n",
    "        pca_scores.append(np.mean(cross_val_score(pca,X,y, cv=3)))\n",
    "        print(n_feat)\n",
    "    return pca_scores"
   ]
  },
  {
   "cell_type": "code",
   "execution_count": null,
   "metadata": {},
   "outputs": [],
   "source": [
    "# trick: Use pickle to avoid recalculating\n",
    "import pickle\n",
    "\n",
    "def load_pickle(file_path):\n",
    "    with open(file_path, 'rb') as file:\n",
    "        return pickle.load(file)\n",
    "\n",
    "def save_pickle(result, file_path):\n",
    "    with open(file_path, 'wb') as file:\n",
    "        pickle.dump(result, file)\n",
    "\n",
    "def features_computation(X,y):\n",
    "    try:\n",
    "        return load_pickle('./pca_cv_scores')\n",
    "    except (FileNotFoundError, EOFError) as e:\n",
    "        pca_scores = compute_scores(X,y)\n",
    "        save_pickle(pca_scores, './pca_cv_scores')\n",
    "        return pca_scores"
   ]
  },
  {
   "cell_type": "code",
   "execution_count": null,
   "metadata": {},
   "outputs": [],
   "source": [
    "# compute cv_score of pca models with different number of components\n",
    "pca_scores = features_computation(x_tr,y_tr)"
   ]
  },
  {
   "cell_type": "code",
   "execution_count": 132,
   "metadata": {},
   "outputs": [
    {
     "data": {
      "text/plain": [
       "Text(0.5,1,'Number of Features')"
      ]
     },
     "execution_count": 132,
     "metadata": {},
     "output_type": "execute_result"
    },
    {
     "data": {
      "image/png": "[encoded data removed]",
      "text/plain": [
       "<Figure size 432x288 with 1 Axes>"
      ]
     },
     "metadata": {
      "needs_background": "light"
     },
     "output_type": "display_data"
    }
   ],
   "source": [
    "# Display plot to help determine how many features to keep to not lose too much information\n",
    "plt.plot(pca_scores)\n",
    "plt.ylabel(\"CV scores\")\n",
    "plt.xlabel(\"n_components\")\n",
    "plt.title(\"Number of Features\")"
   ]
  },
  {
   "cell_type": "markdown",
   "metadata": {},
   "source": [
    "## TRAINING SET REDUCTION"
   ]
  },
  {
   "cell_type": "code",
   "execution_count": 135,
   "metadata": {},
   "outputs": [],
   "source": [
    "# Check performance of pca models with diff training set size // n_components = 100 determined in the above cell\n",
    "def compute_min_set(X,y):\n",
    "    \"\"\"Compute cross-validation on pca model with different training set size\"\"\"\n",
    "    \n",
    "    pca = PCA(n_components=100)\n",
    "    pca_scores = []\n",
    "    length = X.shape[0]\n",
    "    k = 50\n",
    "    div = round(length/k)\n",
    "    for i in range(k):\n",
    "        pca_scores.append(np.mean(cross_val_score(pca,X.iloc[:(1+i)*div,:],y[:(1+i)*div], cv=3)))\n",
    "        print(i)\n",
    "    return pca_scores"
   ]
  },
  {
   "cell_type": "code",
   "execution_count": null,
   "metadata": {},
   "outputs": [],
   "source": [
    "# compute cv_score of pca model with increasing training set size\n",
    "min_set_score = compute_min_set(x_tr,y_tr)"
   ]
  },
  {
   "cell_type": "code",
   "execution_count": 138,
   "metadata": {},
   "outputs": [
    {
     "data": {
      "text/plain": [
       "Text(0.5,1,'Training set size')"
      ]
     },
     "execution_count": 138,
     "metadata": {},
     "output_type": "execute_result"
    },
    {
     "data": {
      "image/png": "[encoded data removed]",
      "text/plain": [
       "<Figure size 432x288 with 1 Axes>"
      ]
     },
     "metadata": {
      "needs_background": "light"
     },
     "output_type": "display_data"
    }
   ],
   "source": [
    "# Display plot\n",
    "plt.plot(min_set_score)\n",
    "plt.ylabel(\"CV scores\")\n",
    "plt.xlabel(\"# slice[length/k]\")\n",
    "plt.title(\"Training set size\")"
   ]
  },
  {
   "cell_type": "code",
   "execution_count": 142,
   "metadata": {},
   "outputs": [
    {
     "data": {
      "text/plain": [
       "array([49, 48, 46, 47, 45, 44, 43, 42, 41, 40, 35, 34, 39, 33, 38, 37, 36,\n",
       "       32, 31, 30, 29, 28, 27, 26, 25, 24,  4,  8,  7,  5,  6, 23, 22, 20,\n",
       "        9,  3, 21, 18, 19, 10, 17, 16, 11,  2, 13, 12, 14, 15,  1,  0])"
      ]
     },
     "execution_count": 142,
     "metadata": {},
     "output_type": "execute_result"
    }
   ],
   "source": [
    "# index of the highest to the lowest values\n",
    "np.argsort(min_set_score)[::-1]"
   ]
  },
  {
   "cell_type": "markdown",
   "metadata": {},
   "source": [
    "**We can see that, we could take only ~ 8/50 of the train set to get almost the same performance**"
   ]
  },
  {
   "cell_type": "code",
   "execution_count": 155,
   "metadata": {},
   "outputs": [
    {
     "data": {
      "text/plain": [
       "0.9753502671097396"
      ]
     },
     "execution_count": 155,
     "metadata": {},
     "output_type": "execute_result"
    },
    {
     "data": {
      "image/png": "[encoded data removed]",
      "text/plain": [
       "<Figure size 432x288 with 1 Axes>"
      ]
     },
     "metadata": {
      "needs_background": "light"
     },
     "output_type": "display_data"
    }
   ],
   "source": [
    "# Test what we found \n",
    "pca = PCA(n_components=100)\n",
    "k = 50\n",
    "length = x_tr.shape[0]\n",
    "div = round(length/k)\n",
    "slices = 8\n",
    "ind = round(slices*div)\n",
    "x_train = x_tr.iloc[:ind,:]\n",
    "y_train = y_tr[:ind]\n",
    "\n",
    "pca_train = pca.fit_transform(x_train)\n",
    "pca_test = pca.transform(x_te)\n",
    "\n",
    "lr.fit(pca_train, y_train)\n",
    "\n",
    "y_pred_pca = lr.predict(pca_test)\n",
    "\n",
    "plt.scatter(y_te,y_pred_pca)\n",
    "u = np.linspace(0,500)\n",
    "plt.plot(u,u, c='black')\n",
    "plt.xlabel(\"True y\")\n",
    "plt.ylabel(\"Predicted y\")\n",
    "\n",
    "r2_score(y_te,y_pred_pca)"
   ]
  },
  {
   "cell_type": "code",
   "execution_count": 163,
   "metadata": {},
   "outputs": [
    {
     "data": {
      "text/plain": [
       "Text(0,0.5,'bias')"
      ]
     },
     "execution_count": 163,
     "metadata": {},
     "output_type": "execute_result"
    },
    {
     "data": {
      "image/png": "[encoded data removed]",
      "text/plain": [
       "<Figure size 432x288 with 1 Axes>"
      ]
     },
     "metadata": {
      "needs_background": "light"
     },
     "output_type": "display_data"
    }
   ],
   "source": [
    "bias_test = (y_te - y_pred_pca) / df_OCU_te\n",
    "\n",
    "plt.scatter(SNR_te,bias_test)\n",
    "plt.title(\"PCA\")\n",
    "plt.xlabel(\"SNR\")\n",
    "plt.ylabel(\"bias\")"
   ]
  }
 ],
 "metadata": {
  "kernelspec": {
   "display_name": "Python [default]",
   "language": "python",
   "name": "python3"
  },
  "language_info": {
   "codemirror_mode": {
    "name": "ipython",
    "version": 3
   },
   "file_extension": ".py",
   "mimetype": "text/x-python",
   "name": "python",
   "nbconvert_exporter": "python",
   "pygments_lexer": "ipython3",
   "version": "3.6.6"
  }
 },
 "nbformat": 4,
 "nbformat_minor": 2
}

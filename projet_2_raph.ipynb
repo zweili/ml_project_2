{
 "cells": [
  {
   "cell_type": "code",
   "execution_count": 3,
   "metadata": {},
   "outputs": [],
   "source": [
    "import numpy as np\n",
    "import pandas as pd\n",
    "import matplotlib.pyplot as plt\n",
    "from sklearn.metrics import r2_score\n",
    "from sklearn.decomposition import PCA\n",
    "from sklearn.neural_network import MLPRegressor\n",
    "from sklearn.linear_model import LinearRegression, Ridge\n",
    "from sklearn.model_selection import cross_val_score, train_test_split\n",
    "%matplotlib notebook"
   ]
  },
  {
   "cell_type": "code",
   "execution_count": 4,
   "metadata": {},
   "outputs": [],
   "source": [
    "data = \"Data\""
   ]
  },
  {
   "cell_type": "code",
   "execution_count": 5,
   "metadata": {},
   "outputs": [],
   "source": [
    "df_meas = pd.read_csv(data + \"/IMPROVE_2015_measures_cs433.csv\")\n",
    "df_spec = pd.read_csv(data + \"/IMPROVE_2015_raw_spectra_cs433.csv\")\n",
    "df_split = pd.read_csv(data + \"/IMPROVE_2015_train_test_split_cs433.csv\")\n",
    "df_derive = pd.read_csv(data + \"/IMPROVE_2015_2nd-derivative_spectra_cs433.csv\")"
   ]
  },
  {
   "cell_type": "markdown",
   "metadata": {},
   "source": [
    "## Data Exploration"
   ]
  },
  {
   "cell_type": "code",
   "execution_count": 6,
   "metadata": {},
   "outputs": [
    {
     "data": {
      "text/html": [
       "<div>\n",
       "<style scoped>\n",
       "    .dataframe tbody tr th:only-of-type {\n",
       "        vertical-align: middle;\n",
       "    }\n",
       "\n",
       "    .dataframe tbody tr th {\n",
       "        vertical-align: top;\n",
       "    }\n",
       "\n",
       "    .dataframe thead th {\n",
       "        text-align: right;\n",
       "    }\n",
       "</style>\n",
       "<table border=\"1\" class=\"dataframe\">\n",
       "  <thead>\n",
       "    <tr style=\"text-align: right;\">\n",
       "      <th></th>\n",
       "      <th>Unnamed: 0</th>\n",
       "      <th>site</th>\n",
       "      <th>SiteCode</th>\n",
       "      <th>Date</th>\n",
       "      <th>flag</th>\n",
       "      <th>Latitude</th>\n",
       "      <th>Longitude</th>\n",
       "      <th>ECf:Value</th>\n",
       "      <th>ECf:Unc</th>\n",
       "      <th>MF:Value</th>\n",
       "      <th>MF:Unc</th>\n",
       "      <th>OCf:Value</th>\n",
       "      <th>OCf:Unc</th>\n",
       "      <th>SO4f:Value</th>\n",
       "      <th>SO4f:Unc</th>\n",
       "      <th>NO3f:Value</th>\n",
       "      <th>NO3f:Unc</th>\n",
       "      <th>DUSTf:Value</th>\n",
       "      <th>DUSTf:Unc</th>\n",
       "    </tr>\n",
       "  </thead>\n",
       "  <tbody>\n",
       "    <tr>\n",
       "      <th>0</th>\n",
       "      <td>0</td>\n",
       "      <td>CRLA1_04_21_2015_NM_0_csv</td>\n",
       "      <td>CRLA1</td>\n",
       "      <td>20150421</td>\n",
       "      <td>NM</td>\n",
       "      <td>42.8958</td>\n",
       "      <td>-122.1361</td>\n",
       "      <td>1.844414</td>\n",
       "      <td>1.023308</td>\n",
       "      <td>76.541793</td>\n",
       "      <td>2.718720</td>\n",
       "      <td>23.343977</td>\n",
       "      <td>3.196060</td>\n",
       "      <td>6.800987</td>\n",
       "      <td>0.142307</td>\n",
       "      <td>1.642580</td>\n",
       "      <td>0.095802</td>\n",
       "      <td>8.725530</td>\n",
       "      <td>0.758188</td>\n",
       "    </tr>\n",
       "    <tr>\n",
       "      <th>1</th>\n",
       "      <td>1</td>\n",
       "      <td>TONT1_05_09_2015_NM_0_csv</td>\n",
       "      <td>TONT1</td>\n",
       "      <td>20150509</td>\n",
       "      <td>NM</td>\n",
       "      <td>33.6548</td>\n",
       "      <td>-111.1068</td>\n",
       "      <td>0.218577</td>\n",
       "      <td>0.203142</td>\n",
       "      <td>23.273289</td>\n",
       "      <td>1.597004</td>\n",
       "      <td>3.774399</td>\n",
       "      <td>0.868154</td>\n",
       "      <td>3.132621</td>\n",
       "      <td>0.075339</td>\n",
       "      <td>2.733602</td>\n",
       "      <td>0.136727</td>\n",
       "      <td>4.686666</td>\n",
       "      <td>0.445060</td>\n",
       "    </tr>\n",
       "    <tr>\n",
       "      <th>2</th>\n",
       "      <td>2</td>\n",
       "      <td>BADL1_11_26_2015_NM_0_csv</td>\n",
       "      <td>BADL1</td>\n",
       "      <td>20151126</td>\n",
       "      <td>NM</td>\n",
       "      <td>43.7435</td>\n",
       "      <td>-101.9412</td>\n",
       "      <td>0.057109</td>\n",
       "      <td>0.178062</td>\n",
       "      <td>11.188888</td>\n",
       "      <td>1.473206</td>\n",
       "      <td>1.902453</td>\n",
       "      <td>0.738827</td>\n",
       "      <td>4.275544</td>\n",
       "      <td>0.113381</td>\n",
       "      <td>2.193672</td>\n",
       "      <td>0.136355</td>\n",
       "      <td>1.007311</td>\n",
       "      <td>0.121622</td>\n",
       "    </tr>\n",
       "    <tr>\n",
       "      <th>3</th>\n",
       "      <td>3</td>\n",
       "      <td>BRID1_10_27_2015_NM_0_csv</td>\n",
       "      <td>BRID1</td>\n",
       "      <td>20151027</td>\n",
       "      <td>NM</td>\n",
       "      <td>42.9749</td>\n",
       "      <td>-109.7579</td>\n",
       "      <td>0.090872</td>\n",
       "      <td>0.144012</td>\n",
       "      <td>6.564180</td>\n",
       "      <td>1.504830</td>\n",
       "      <td>1.569566</td>\n",
       "      <td>0.834177</td>\n",
       "      <td>0.788829</td>\n",
       "      <td>0.036832</td>\n",
       "      <td>0.556859</td>\n",
       "      <td>0.107056</td>\n",
       "      <td>0.337955</td>\n",
       "      <td>0.107560</td>\n",
       "    </tr>\n",
       "    <tr>\n",
       "      <th>4</th>\n",
       "      <td>4</td>\n",
       "      <td>SEQU1_04_03_2015_NM_0_csv</td>\n",
       "      <td>SEQU1</td>\n",
       "      <td>20150403</td>\n",
       "      <td>NM</td>\n",
       "      <td>36.4894</td>\n",
       "      <td>-118.8291</td>\n",
       "      <td>1.623977</td>\n",
       "      <td>0.971745</td>\n",
       "      <td>60.448977</td>\n",
       "      <td>2.306680</td>\n",
       "      <td>16.223032</td>\n",
       "      <td>2.258965</td>\n",
       "      <td>8.185925</td>\n",
       "      <td>0.169281</td>\n",
       "      <td>7.541357</td>\n",
       "      <td>0.309728</td>\n",
       "      <td>8.532945</td>\n",
       "      <td>0.735361</td>\n",
       "    </tr>\n",
       "  </tbody>\n",
       "</table>\n",
       "</div>"
      ],
      "text/plain": [
       "   Unnamed: 0                       site SiteCode      Date flag  Latitude  \\\n",
       "0           0  CRLA1_04_21_2015_NM_0_csv    CRLA1  20150421   NM   42.8958   \n",
       "1           1  TONT1_05_09_2015_NM_0_csv    TONT1  20150509   NM   33.6548   \n",
       "2           2  BADL1_11_26_2015_NM_0_csv    BADL1  20151126   NM   43.7435   \n",
       "3           3  BRID1_10_27_2015_NM_0_csv    BRID1  20151027   NM   42.9749   \n",
       "4           4  SEQU1_04_03_2015_NM_0_csv    SEQU1  20150403   NM   36.4894   \n",
       "\n",
       "   Longitude  ECf:Value   ECf:Unc   MF:Value    MF:Unc  OCf:Value   OCf:Unc  \\\n",
       "0  -122.1361   1.844414  1.023308  76.541793  2.718720  23.343977  3.196060   \n",
       "1  -111.1068   0.218577  0.203142  23.273289  1.597004   3.774399  0.868154   \n",
       "2  -101.9412   0.057109  0.178062  11.188888  1.473206   1.902453  0.738827   \n",
       "3  -109.7579   0.090872  0.144012   6.564180  1.504830   1.569566  0.834177   \n",
       "4  -118.8291   1.623977  0.971745  60.448977  2.306680  16.223032  2.258965   \n",
       "\n",
       "   SO4f:Value  SO4f:Unc  NO3f:Value  NO3f:Unc  DUSTf:Value  DUSTf:Unc  \n",
       "0    6.800987  0.142307    1.642580  0.095802     8.725530   0.758188  \n",
       "1    3.132621  0.075339    2.733602  0.136727     4.686666   0.445060  \n",
       "2    4.275544  0.113381    2.193672  0.136355     1.007311   0.121622  \n",
       "3    0.788829  0.036832    0.556859  0.107056     0.337955   0.107560  \n",
       "4    8.185925  0.169281    7.541357  0.309728     8.532945   0.735361  "
      ]
     },
     "execution_count": 6,
     "metadata": {},
     "output_type": "execute_result"
    }
   ],
   "source": [
    "df_meas.head()"
   ]
  },
  {
   "cell_type": "code",
   "execution_count": 7,
   "metadata": {},
   "outputs": [],
   "source": [
    "df_meas = df_meas.set_index(\"site\")"
   ]
  },
  {
   "cell_type": "code",
   "execution_count": 8,
   "metadata": {},
   "outputs": [],
   "source": [
    "df_OC = pd.DataFrame(df_meas[[\"OCf:Value\",\"OCf:Unc\"]]) #df_meas.loc[df_meas.flag == \"NM\",[\"OCf:Value\",\"OCf:Unc\"]] "
   ]
  },
  {
   "cell_type": "code",
   "execution_count": 9,
   "metadata": {},
   "outputs": [
    {
     "data": {
      "text/html": [
       "<div>\n",
       "<style scoped>\n",
       "    .dataframe tbody tr th:only-of-type {\n",
       "        vertical-align: middle;\n",
       "    }\n",
       "\n",
       "    .dataframe tbody tr th {\n",
       "        vertical-align: top;\n",
       "    }\n",
       "\n",
       "    .dataframe thead th {\n",
       "        text-align: right;\n",
       "    }\n",
       "</style>\n",
       "<table border=\"1\" class=\"dataframe\">\n",
       "  <thead>\n",
       "    <tr style=\"text-align: right;\">\n",
       "      <th></th>\n",
       "      <th>wavenumber</th>\n",
       "      <th>ACAD1_01_06_2015_NM_0_csv</th>\n",
       "      <th>ACAD1_01_09_2015_NM_0_csv</th>\n",
       "      <th>ACAD1_01_12_2015_NM_0_csv</th>\n",
       "      <th>ACAD1_01_15_2015_NM_0_csv</th>\n",
       "      <th>ACAD1_01_18_2015_NM_0_csv</th>\n",
       "      <th>ACAD1_01_21_2015_NM_0_csv</th>\n",
       "      <th>ACAD1_01_24_2015_NM_0_csv</th>\n",
       "      <th>ACAD1_01_27_2015_NM_0_csv</th>\n",
       "      <th>ACAD1_01_30_2015_NM_0_csv</th>\n",
       "      <th>...</th>\n",
       "      <th>YOSE1_07_02_2015_FB_0_csv</th>\n",
       "      <th>YOSEX_01_15_2015_FB_0_csv</th>\n",
       "      <th>YOSEX_02_05_2015_FB_0_csv</th>\n",
       "      <th>YOSEX_05_21_2015_FB_0_csv</th>\n",
       "      <th>YOSEX_06_11_2015_FB_0_csv</th>\n",
       "      <th>YOSEX_09_03_2015_FB_0_csv</th>\n",
       "      <th>YOSEX_10_15_2015_FB_0_csv</th>\n",
       "      <th>YOSEX_11_05_2015_FB_0_csv</th>\n",
       "      <th>ZICA1_08_13_2015_FB_0_csv</th>\n",
       "      <th>ZICA1_09_03_2015_FB_0_csv</th>\n",
       "    </tr>\n",
       "  </thead>\n",
       "  <tbody>\n",
       "    <tr>\n",
       "      <th>0</th>\n",
       "      <td>3998.423206</td>\n",
       "      <td>0.35778</td>\n",
       "      <td>0.58858</td>\n",
       "      <td>0.55091</td>\n",
       "      <td>0.49739</td>\n",
       "      <td>0.46597</td>\n",
       "      <td>0.42318</td>\n",
       "      <td>0.41571</td>\n",
       "      <td>0.34475</td>\n",
       "      <td>0.62313</td>\n",
       "      <td>...</td>\n",
       "      <td>0.24296</td>\n",
       "      <td>0.29209</td>\n",
       "      <td>0.40211</td>\n",
       "      <td>0.63614</td>\n",
       "      <td>0.54269</td>\n",
       "      <td>0.67122</td>\n",
       "      <td>0.53922</td>\n",
       "      <td>0.64828</td>\n",
       "      <td>0.40594</td>\n",
       "      <td>0.52207</td>\n",
       "    </tr>\n",
       "    <tr>\n",
       "      <th>1</th>\n",
       "      <td>3997.137539</td>\n",
       "      <td>0.35760</td>\n",
       "      <td>0.58832</td>\n",
       "      <td>0.55055</td>\n",
       "      <td>0.49715</td>\n",
       "      <td>0.46570</td>\n",
       "      <td>0.42296</td>\n",
       "      <td>0.41546</td>\n",
       "      <td>0.34452</td>\n",
       "      <td>0.62289</td>\n",
       "      <td>...</td>\n",
       "      <td>0.24282</td>\n",
       "      <td>0.29193</td>\n",
       "      <td>0.40188</td>\n",
       "      <td>0.63588</td>\n",
       "      <td>0.54250</td>\n",
       "      <td>0.67098</td>\n",
       "      <td>0.53898</td>\n",
       "      <td>0.64796</td>\n",
       "      <td>0.40579</td>\n",
       "      <td>0.52184</td>\n",
       "    </tr>\n",
       "    <tr>\n",
       "      <th>2</th>\n",
       "      <td>3995.851872</td>\n",
       "      <td>0.35743</td>\n",
       "      <td>0.58806</td>\n",
       "      <td>0.55019</td>\n",
       "      <td>0.49690</td>\n",
       "      <td>0.46543</td>\n",
       "      <td>0.42273</td>\n",
       "      <td>0.41520</td>\n",
       "      <td>0.34430</td>\n",
       "      <td>0.62265</td>\n",
       "      <td>...</td>\n",
       "      <td>0.24269</td>\n",
       "      <td>0.29177</td>\n",
       "      <td>0.40166</td>\n",
       "      <td>0.63563</td>\n",
       "      <td>0.54231</td>\n",
       "      <td>0.67074</td>\n",
       "      <td>0.53873</td>\n",
       "      <td>0.64762</td>\n",
       "      <td>0.40565</td>\n",
       "      <td>0.52161</td>\n",
       "    </tr>\n",
       "    <tr>\n",
       "      <th>3</th>\n",
       "      <td>3994.566206</td>\n",
       "      <td>0.35725</td>\n",
       "      <td>0.58781</td>\n",
       "      <td>0.54984</td>\n",
       "      <td>0.49665</td>\n",
       "      <td>0.46516</td>\n",
       "      <td>0.42250</td>\n",
       "      <td>0.41493</td>\n",
       "      <td>0.34407</td>\n",
       "      <td>0.62240</td>\n",
       "      <td>...</td>\n",
       "      <td>0.24255</td>\n",
       "      <td>0.29161</td>\n",
       "      <td>0.40143</td>\n",
       "      <td>0.63538</td>\n",
       "      <td>0.54213</td>\n",
       "      <td>0.67051</td>\n",
       "      <td>0.53848</td>\n",
       "      <td>0.64729</td>\n",
       "      <td>0.40550</td>\n",
       "      <td>0.52138</td>\n",
       "    </tr>\n",
       "    <tr>\n",
       "      <th>4</th>\n",
       "      <td>3993.280539</td>\n",
       "      <td>0.35708</td>\n",
       "      <td>0.58756</td>\n",
       "      <td>0.54948</td>\n",
       "      <td>0.49640</td>\n",
       "      <td>0.46489</td>\n",
       "      <td>0.42227</td>\n",
       "      <td>0.41466</td>\n",
       "      <td>0.34384</td>\n",
       "      <td>0.62215</td>\n",
       "      <td>...</td>\n",
       "      <td>0.24241</td>\n",
       "      <td>0.29145</td>\n",
       "      <td>0.40120</td>\n",
       "      <td>0.63512</td>\n",
       "      <td>0.54196</td>\n",
       "      <td>0.67027</td>\n",
       "      <td>0.53823</td>\n",
       "      <td>0.64696</td>\n",
       "      <td>0.40535</td>\n",
       "      <td>0.52114</td>\n",
       "    </tr>\n",
       "  </tbody>\n",
       "</table>\n",
       "<p>5 rows × 19939 columns</p>\n",
       "</div>"
      ],
      "text/plain": [
       "    wavenumber  ACAD1_01_06_2015_NM_0_csv  ACAD1_01_09_2015_NM_0_csv  \\\n",
       "0  3998.423206                    0.35778                    0.58858   \n",
       "1  3997.137539                    0.35760                    0.58832   \n",
       "2  3995.851872                    0.35743                    0.58806   \n",
       "3  3994.566206                    0.35725                    0.58781   \n",
       "4  3993.280539                    0.35708                    0.58756   \n",
       "\n",
       "   ACAD1_01_12_2015_NM_0_csv  ACAD1_01_15_2015_NM_0_csv  \\\n",
       "0                    0.55091                    0.49739   \n",
       "1                    0.55055                    0.49715   \n",
       "2                    0.55019                    0.49690   \n",
       "3                    0.54984                    0.49665   \n",
       "4                    0.54948                    0.49640   \n",
       "\n",
       "   ACAD1_01_18_2015_NM_0_csv  ACAD1_01_21_2015_NM_0_csv  \\\n",
       "0                    0.46597                    0.42318   \n",
       "1                    0.46570                    0.42296   \n",
       "2                    0.46543                    0.42273   \n",
       "3                    0.46516                    0.42250   \n",
       "4                    0.46489                    0.42227   \n",
       "\n",
       "   ACAD1_01_24_2015_NM_0_csv  ACAD1_01_27_2015_NM_0_csv  \\\n",
       "0                    0.41571                    0.34475   \n",
       "1                    0.41546                    0.34452   \n",
       "2                    0.41520                    0.34430   \n",
       "3                    0.41493                    0.34407   \n",
       "4                    0.41466                    0.34384   \n",
       "\n",
       "   ACAD1_01_30_2015_NM_0_csv            ...              \\\n",
       "0                    0.62313            ...               \n",
       "1                    0.62289            ...               \n",
       "2                    0.62265            ...               \n",
       "3                    0.62240            ...               \n",
       "4                    0.62215            ...               \n",
       "\n",
       "   YOSE1_07_02_2015_FB_0_csv  YOSEX_01_15_2015_FB_0_csv  \\\n",
       "0                    0.24296                    0.29209   \n",
       "1                    0.24282                    0.29193   \n",
       "2                    0.24269                    0.29177   \n",
       "3                    0.24255                    0.29161   \n",
       "4                    0.24241                    0.29145   \n",
       "\n",
       "   YOSEX_02_05_2015_FB_0_csv  YOSEX_05_21_2015_FB_0_csv  \\\n",
       "0                    0.40211                    0.63614   \n",
       "1                    0.40188                    0.63588   \n",
       "2                    0.40166                    0.63563   \n",
       "3                    0.40143                    0.63538   \n",
       "4                    0.40120                    0.63512   \n",
       "\n",
       "   YOSEX_06_11_2015_FB_0_csv  YOSEX_09_03_2015_FB_0_csv  \\\n",
       "0                    0.54269                    0.67122   \n",
       "1                    0.54250                    0.67098   \n",
       "2                    0.54231                    0.67074   \n",
       "3                    0.54213                    0.67051   \n",
       "4                    0.54196                    0.67027   \n",
       "\n",
       "   YOSEX_10_15_2015_FB_0_csv  YOSEX_11_05_2015_FB_0_csv  \\\n",
       "0                    0.53922                    0.64828   \n",
       "1                    0.53898                    0.64796   \n",
       "2                    0.53873                    0.64762   \n",
       "3                    0.53848                    0.64729   \n",
       "4                    0.53823                    0.64696   \n",
       "\n",
       "   ZICA1_08_13_2015_FB_0_csv  ZICA1_09_03_2015_FB_0_csv  \n",
       "0                    0.40594                    0.52207  \n",
       "1                    0.40579                    0.52184  \n",
       "2                    0.40565                    0.52161  \n",
       "3                    0.40550                    0.52138  \n",
       "4                    0.40535                    0.52114  \n",
       "\n",
       "[5 rows x 19939 columns]"
      ]
     },
     "execution_count": 9,
     "metadata": {},
     "output_type": "execute_result"
    }
   ],
   "source": [
    "df_spec.head()"
   ]
  },
  {
   "cell_type": "markdown",
   "metadata": {},
   "source": [
    "## Data Processing"
   ]
  },
  {
   "cell_type": "code",
   "execution_count": 10,
   "metadata": {},
   "outputs": [],
   "source": [
    "df_spec = df_spec.T"
   ]
  },
  {
   "cell_type": "code",
   "execution_count": 11,
   "metadata": {},
   "outputs": [
    {
     "data": {
      "text/html": [
       "<div>\n",
       "<style scoped>\n",
       "    .dataframe tbody tr th:only-of-type {\n",
       "        vertical-align: middle;\n",
       "    }\n",
       "\n",
       "    .dataframe tbody tr th {\n",
       "        vertical-align: top;\n",
       "    }\n",
       "\n",
       "    .dataframe thead th {\n",
       "        text-align: right;\n",
       "    }\n",
       "</style>\n",
       "<table border=\"1\" class=\"dataframe\">\n",
       "  <thead>\n",
       "    <tr style=\"text-align: right;\">\n",
       "      <th></th>\n",
       "      <th>0</th>\n",
       "      <th>1</th>\n",
       "      <th>2</th>\n",
       "      <th>3</th>\n",
       "      <th>4</th>\n",
       "      <th>5</th>\n",
       "      <th>6</th>\n",
       "      <th>7</th>\n",
       "      <th>8</th>\n",
       "      <th>9</th>\n",
       "      <th>...</th>\n",
       "      <th>2774</th>\n",
       "      <th>2775</th>\n",
       "      <th>2776</th>\n",
       "      <th>2777</th>\n",
       "      <th>2778</th>\n",
       "      <th>2779</th>\n",
       "      <th>2780</th>\n",
       "      <th>2781</th>\n",
       "      <th>2782</th>\n",
       "      <th>2783</th>\n",
       "    </tr>\n",
       "  </thead>\n",
       "  <tbody>\n",
       "    <tr>\n",
       "      <th>wavenumber</th>\n",
       "      <td>3998.423206</td>\n",
       "      <td>3997.137539</td>\n",
       "      <td>3995.851872</td>\n",
       "      <td>3994.566206</td>\n",
       "      <td>3993.280539</td>\n",
       "      <td>3991.994872</td>\n",
       "      <td>3990.709206</td>\n",
       "      <td>3989.423539</td>\n",
       "      <td>3988.137873</td>\n",
       "      <td>3986.852206</td>\n",
       "      <td>...</td>\n",
       "      <td>431.983986</td>\n",
       "      <td>430.698320</td>\n",
       "      <td>429.412653</td>\n",
       "      <td>428.126986</td>\n",
       "      <td>426.841320</td>\n",
       "      <td>425.555653</td>\n",
       "      <td>424.269986</td>\n",
       "      <td>422.984320</td>\n",
       "      <td>421.698653</td>\n",
       "      <td>420.412987</td>\n",
       "    </tr>\n",
       "    <tr>\n",
       "      <th>ACAD1_01_06_2015_NM_0_csv</th>\n",
       "      <td>0.357780</td>\n",
       "      <td>0.357600</td>\n",
       "      <td>0.357430</td>\n",
       "      <td>0.357250</td>\n",
       "      <td>0.357080</td>\n",
       "      <td>0.356890</td>\n",
       "      <td>0.356710</td>\n",
       "      <td>0.356520</td>\n",
       "      <td>0.356340</td>\n",
       "      <td>0.356150</td>\n",
       "      <td>...</td>\n",
       "      <td>-0.074765</td>\n",
       "      <td>-0.074292</td>\n",
       "      <td>-0.073728</td>\n",
       "      <td>-0.073047</td>\n",
       "      <td>-0.072208</td>\n",
       "      <td>-0.071185</td>\n",
       "      <td>-0.069949</td>\n",
       "      <td>-0.068499</td>\n",
       "      <td>-0.066864</td>\n",
       "      <td>-0.065079</td>\n",
       "    </tr>\n",
       "    <tr>\n",
       "      <th>ACAD1_01_09_2015_NM_0_csv</th>\n",
       "      <td>0.588580</td>\n",
       "      <td>0.588320</td>\n",
       "      <td>0.588060</td>\n",
       "      <td>0.587810</td>\n",
       "      <td>0.587560</td>\n",
       "      <td>0.587310</td>\n",
       "      <td>0.587070</td>\n",
       "      <td>0.586820</td>\n",
       "      <td>0.586570</td>\n",
       "      <td>0.586320</td>\n",
       "      <td>...</td>\n",
       "      <td>-0.099660</td>\n",
       "      <td>-0.099046</td>\n",
       "      <td>-0.098279</td>\n",
       "      <td>-0.097314</td>\n",
       "      <td>-0.096101</td>\n",
       "      <td>-0.094638</td>\n",
       "      <td>-0.092941</td>\n",
       "      <td>-0.091018</td>\n",
       "      <td>-0.088871</td>\n",
       "      <td>-0.086477</td>\n",
       "    </tr>\n",
       "    <tr>\n",
       "      <th>ACAD1_01_12_2015_NM_0_csv</th>\n",
       "      <td>0.550910</td>\n",
       "      <td>0.550550</td>\n",
       "      <td>0.550190</td>\n",
       "      <td>0.549840</td>\n",
       "      <td>0.549480</td>\n",
       "      <td>0.549120</td>\n",
       "      <td>0.548750</td>\n",
       "      <td>0.548380</td>\n",
       "      <td>0.548010</td>\n",
       "      <td>0.547640</td>\n",
       "      <td>...</td>\n",
       "      <td>-0.095560</td>\n",
       "      <td>-0.095277</td>\n",
       "      <td>-0.094907</td>\n",
       "      <td>-0.094408</td>\n",
       "      <td>-0.093729</td>\n",
       "      <td>-0.092851</td>\n",
       "      <td>-0.091786</td>\n",
       "      <td>-0.090555</td>\n",
       "      <td>-0.089180</td>\n",
       "      <td>-0.087647</td>\n",
       "    </tr>\n",
       "    <tr>\n",
       "      <th>ACAD1_01_15_2015_NM_0_csv</th>\n",
       "      <td>0.497390</td>\n",
       "      <td>0.497150</td>\n",
       "      <td>0.496900</td>\n",
       "      <td>0.496650</td>\n",
       "      <td>0.496400</td>\n",
       "      <td>0.496150</td>\n",
       "      <td>0.495900</td>\n",
       "      <td>0.495640</td>\n",
       "      <td>0.495390</td>\n",
       "      <td>0.495150</td>\n",
       "      <td>...</td>\n",
       "      <td>-0.105530</td>\n",
       "      <td>-0.105590</td>\n",
       "      <td>-0.105570</td>\n",
       "      <td>-0.105420</td>\n",
       "      <td>-0.105160</td>\n",
       "      <td>-0.104810</td>\n",
       "      <td>-0.104370</td>\n",
       "      <td>-0.103790</td>\n",
       "      <td>-0.103030</td>\n",
       "      <td>-0.102080</td>\n",
       "    </tr>\n",
       "  </tbody>\n",
       "</table>\n",
       "<p>5 rows × 2784 columns</p>\n",
       "</div>"
      ],
      "text/plain": [
       "                                  0            1            2            3     \\\n",
       "wavenumber                 3998.423206  3997.137539  3995.851872  3994.566206   \n",
       "ACAD1_01_06_2015_NM_0_csv     0.357780     0.357600     0.357430     0.357250   \n",
       "ACAD1_01_09_2015_NM_0_csv     0.588580     0.588320     0.588060     0.587810   \n",
       "ACAD1_01_12_2015_NM_0_csv     0.550910     0.550550     0.550190     0.549840   \n",
       "ACAD1_01_15_2015_NM_0_csv     0.497390     0.497150     0.496900     0.496650   \n",
       "\n",
       "                                  4            5            6            7     \\\n",
       "wavenumber                 3993.280539  3991.994872  3990.709206  3989.423539   \n",
       "ACAD1_01_06_2015_NM_0_csv     0.357080     0.356890     0.356710     0.356520   \n",
       "ACAD1_01_09_2015_NM_0_csv     0.587560     0.587310     0.587070     0.586820   \n",
       "ACAD1_01_12_2015_NM_0_csv     0.549480     0.549120     0.548750     0.548380   \n",
       "ACAD1_01_15_2015_NM_0_csv     0.496400     0.496150     0.495900     0.495640   \n",
       "\n",
       "                                  8            9        ...            2774  \\\n",
       "wavenumber                 3988.137873  3986.852206     ...      431.983986   \n",
       "ACAD1_01_06_2015_NM_0_csv     0.356340     0.356150     ...       -0.074765   \n",
       "ACAD1_01_09_2015_NM_0_csv     0.586570     0.586320     ...       -0.099660   \n",
       "ACAD1_01_12_2015_NM_0_csv     0.548010     0.547640     ...       -0.095560   \n",
       "ACAD1_01_15_2015_NM_0_csv     0.495390     0.495150     ...       -0.105530   \n",
       "\n",
       "                                 2775        2776        2777        2778  \\\n",
       "wavenumber                 430.698320  429.412653  428.126986  426.841320   \n",
       "ACAD1_01_06_2015_NM_0_csv   -0.074292   -0.073728   -0.073047   -0.072208   \n",
       "ACAD1_01_09_2015_NM_0_csv   -0.099046   -0.098279   -0.097314   -0.096101   \n",
       "ACAD1_01_12_2015_NM_0_csv   -0.095277   -0.094907   -0.094408   -0.093729   \n",
       "ACAD1_01_15_2015_NM_0_csv   -0.105590   -0.105570   -0.105420   -0.105160   \n",
       "\n",
       "                                 2779        2780        2781        2782  \\\n",
       "wavenumber                 425.555653  424.269986  422.984320  421.698653   \n",
       "ACAD1_01_06_2015_NM_0_csv   -0.071185   -0.069949   -0.068499   -0.066864   \n",
       "ACAD1_01_09_2015_NM_0_csv   -0.094638   -0.092941   -0.091018   -0.088871   \n",
       "ACAD1_01_12_2015_NM_0_csv   -0.092851   -0.091786   -0.090555   -0.089180   \n",
       "ACAD1_01_15_2015_NM_0_csv   -0.104810   -0.104370   -0.103790   -0.103030   \n",
       "\n",
       "                                 2783  \n",
       "wavenumber                 420.412987  \n",
       "ACAD1_01_06_2015_NM_0_csv   -0.065079  \n",
       "ACAD1_01_09_2015_NM_0_csv   -0.086477  \n",
       "ACAD1_01_12_2015_NM_0_csv   -0.087647  \n",
       "ACAD1_01_15_2015_NM_0_csv   -0.102080  \n",
       "\n",
       "[5 rows x 2784 columns]"
      ]
     },
     "execution_count": 11,
     "metadata": {},
     "output_type": "execute_result"
    }
   ],
   "source": [
    "df_spec.head()"
   ]
  },
  {
   "cell_type": "code",
   "execution_count": 12,
   "metadata": {},
   "outputs": [],
   "source": [
    "pd_merge = df_OC.merge(df_spec, right_index=True, left_index=True)"
   ]
  },
  {
   "cell_type": "code",
   "execution_count": 13,
   "metadata": {},
   "outputs": [],
   "source": [
    "df_split = df_split.set_index(\"site\", drop=True).drop([\"Unnamed: 0\"], axis=1)"
   ]
  },
  {
   "cell_type": "code",
   "execution_count": 14,
   "metadata": {},
   "outputs": [],
   "source": [
    "pd_merge_again = pd_merge.merge(df_split, right_index=True, left_index=True)"
   ]
  },
  {
   "cell_type": "code",
   "execution_count": 15,
   "metadata": {},
   "outputs": [
    {
     "data": {
      "text/plain": [
       "CRLA1_04_21_2015_NM_0_csv       23.343977\n",
       "TONT1_05_09_2015_NM_0_csv        3.774399\n",
       "BADL1_11_26_2015_NM_0_csv        1.902453\n",
       "BRID1_10_27_2015_NM_0_csv        1.569566\n",
       "SEQU1_04_03_2015_NM_0_csv       16.223032\n",
       "PINN1_08_04_2015_NM_QC_0_csv     1.969049\n",
       "PINN1_08_04_2015_NM_0_csv        1.969049\n",
       "BRIS1_12_17_2015_NM_0_csv        9.704800\n",
       "BRCA1_04_15_2015_NM_0_csv        1.304018\n",
       "WHIT1_12_14_2015_NM_0_csv        1.178174\n",
       "DOME1_08_31_2015_NM_0_csv       24.109274\n",
       "GLAC1_04_09_2015_NM_0_csv        7.833412\n",
       "LOST1_03_07_2015_NM_0_csv        3.838577\n",
       "MAKA2_03_31_2015_NM_0_csv        0.127425\n",
       "ELLI1_08_13_2015_NM_2_0_csv     16.295581\n",
       "BADL1_10_09_2015_NM_0_csv       21.264523\n",
       "MOZI1_04_15_2015_NM_0_csv        1.834183\n",
       "IKBA1_01_06_2015_NM_0_csv        4.680329\n",
       "SHEN1_02_08_2015_NM_0_csv       16.457420\n",
       "PHOE5_11_23_2015_NM_0_csv       35.038568\n",
       "MORA1_04_21_2015_NM_0_csv        8.615637\n",
       "BYIS1_08_07_2015_NM_0_csv        1.922358\n",
       "SIPS1_08_01_2015_NM_0_csv       13.305918\n",
       "NOCA1_10_06_2015_NM_0_csv       16.050682\n",
       "SAGU1_08_31_2015_NM_0_csv        5.935330\n",
       "PUSO1_09_27_2015_NM_0_csv       14.070471\n",
       "ELDO1_07_05_2015_NM_0_csv       22.482693\n",
       "GRBA1_11_08_2015_NM_0_csv        3.655902\n",
       "HACR1_11_14_2015_NM_0_csv        0.545790\n",
       "VILA1_11_14_2015_NM_0_csv        8.991403\n",
       "                                  ...    \n",
       "ROMA1_11_29_2015_NM_0_csv       18.477812\n",
       "TALL1_09_18_2015_NM_0_csv        8.313629\n",
       "LIGO1_01_03_2015_NM_0_csv        4.878443\n",
       "NOAB1_12_02_2015_NM_0_csv        1.672064\n",
       "ORPI1_12_11_2015_NM_0_csv        3.535918\n",
       "JARB1_01_12_2015_NM_0_csv        0.584111\n",
       "DOME1_06_23_2015_NM_0_csv       12.876485\n",
       "CABI1_02_02_2015_NM_0_csv        0.122775\n",
       "NOCA1_08_10_2015_NM_0_csv       26.175892\n",
       "SAGA1_03_28_2015_NM_0_csv       10.213571\n",
       "BRMA1_10_12_2015_NM_0_csv       13.564118\n",
       "MACA1_05_21_2015_NM_2_0_csv      7.987811\n",
       "FLTO1_02_05_2015_NM_0_csv        1.610026\n",
       "BALD1_08_01_2015_NM_0_csv        5.332989\n",
       "JARB1_01_27_2015_NM_0_csv        0.707816\n",
       "SNPA1_07_02_2015_NM_0_csv       20.976840\n",
       "NOCH1_10_03_2015_NM_0_csv        9.039304\n",
       "KALM1_10_12_2015_NM_0_csv        8.268333\n",
       "DOME1_07_05_2015_NM_0_csv       13.661500\n",
       "BRID1_09_03_2015_NM_0_csv        3.779421\n",
       "SAMAX_02_17_2015_NM_0_csv        9.514126\n",
       "CRES1_05_21_2015_NM_1_csv        0.730139\n",
       "IKBA1_07_08_2015_NM_0_csv        3.443278\n",
       "SHEN1_04_09_2015_NM_0_csv        3.717662\n",
       "THRO1_10_09_2015_NM_0_csv        9.521567\n",
       "SYCA1_09_06_2015_NM_0_csv        7.048397\n",
       "LOST1_10_15_2015_NM_0_csv        7.630647\n",
       "GRBA1_02_23_2015_NM_0_csv        8.156161\n",
       "YOSEX_07_23_2015_NM_0_csv        8.682605\n",
       "PHOE5_03_25_2015_NM_0_csv       13.914491\n",
       "Name: OCf:Value, Length: 18008, dtype: float64"
      ]
     },
     "execution_count": 15,
     "metadata": {},
     "output_type": "execute_result"
    }
   ],
   "source": [
    "pd_merge_again[\"OCf:Value\"]"
   ]
  },
  {
   "cell_type": "code",
   "execution_count": 16,
   "metadata": {},
   "outputs": [],
   "source": [
    "set_train = pd_merge_again[pd_merge_again[\"usage\"] == \"calibration\"]"
   ]
  },
  {
   "cell_type": "code",
   "execution_count": 17,
   "metadata": {},
   "outputs": [],
   "source": [
    "set_test = pd_merge_again[pd_merge_again[\"usage\"] == \"test\"]"
   ]
  },
  {
   "cell_type": "code",
   "execution_count": 18,
   "metadata": {},
   "outputs": [],
   "source": [
    "df_OCU_tr = set_train[\"OCf:Unc\"]\n",
    "df_OCU_te = set_test[\"OCf:Unc\"]"
   ]
  },
  {
   "cell_type": "code",
   "execution_count": 19,
   "metadata": {},
   "outputs": [],
   "source": [
    "y_tr = set_train[\"OCf:Value\"]\n",
    "y_te = set_test[\"OCf:Value\"]\n",
    "x_tr = set_train.drop([\"OCf:Value\",\"OCf:Unc\",\"usage\"], axis=1)\n",
    "x_te = set_test.drop([\"OCf:Value\",\"OCf:Unc\",\"usage\"], axis=1)"
   ]
  },
  {
   "cell_type": "markdown",
   "metadata": {},
   "source": [
    "### LinearRegression"
   ]
  },
  {
   "cell_type": "code",
   "execution_count": 157,
   "metadata": {},
   "outputs": [],
   "source": [
    "lr = LinearRegression()"
   ]
  },
  {
   "cell_type": "code",
   "execution_count": 158,
   "metadata": {},
   "outputs": [
    {
     "data": {
      "text/plain": [
       "array([0.9527986 , 0.97138097, 0.98517212, 0.97723736, 0.97413276,\n",
       "       0.98552312, 0.98031491, 0.98466993, 0.98919717, 0.97822009])"
      ]
     },
     "execution_count": 158,
     "metadata": {},
     "output_type": "execute_result"
    }
   ],
   "source": [
    "cross_val_score(lr, x_tr, y_tr, cv=10)"
   ]
  },
  {
   "cell_type": "code",
   "execution_count": 159,
   "metadata": {},
   "outputs": [
    {
     "data": {
      "text/plain": [
       "LinearRegression(copy_X=True, fit_intercept=True, n_jobs=None,\n",
       "         normalize=False)"
      ]
     },
     "execution_count": 159,
     "metadata": {},
     "output_type": "execute_result"
    }
   ],
   "source": [
    "lr.fit(x_tr,y_tr)"
   ]
  },
  {
   "cell_type": "code",
   "execution_count": 160,
   "metadata": {},
   "outputs": [],
   "source": [
    "y_pred_tr = lr.predict(x_tr)\n",
    "y_pred_te = lr.predict(x_te)"
   ]
  },
  {
   "cell_type": "code",
   "execution_count": 161,
   "metadata": {},
   "outputs": [
    {
     "data": {
      "text/plain": [
       "Text(0, 0.5, 'Predicted y')"
      ]
     },
     "execution_count": 161,
     "metadata": {},
     "output_type": "execute_result"
    }
   ],
   "source": [
    "plt.scatter(y_tr,y_pred_tr)\n",
    "u = np.linspace(0,500)\n",
    "plt.plot(u,u, c='black')\n",
    "plt.xlabel(\"True y\")\n",
    "plt.ylabel(\"Predicted y\")"
   ]
  },
  {
   "cell_type": "code",
   "execution_count": 162,
   "metadata": {},
   "outputs": [
    {
     "data": {
      "text/plain": [
       "0.9939504806681565"
      ]
     },
     "execution_count": 162,
     "metadata": {},
     "output_type": "execute_result"
    }
   ],
   "source": [
    "r2_score(y_tr,y_pred_tr)"
   ]
  },
  {
   "cell_type": "code",
   "execution_count": 163,
   "metadata": {},
   "outputs": [],
   "source": [
    "bias_tr = (y_tr - y_pred_tr) / df_OCU_tr\n",
    "#bias_te = (y_te - y_pred_te) / df_OCU_te"
   ]
  },
  {
   "cell_type": "code",
   "execution_count": 118,
   "metadata": {},
   "outputs": [],
   "source": [
    "SNR_tr = y_tr / df_OCU_tr\n",
    "SNR_te = y_te / df_OCU_te"
   ]
  },
  {
   "cell_type": "code",
   "execution_count": 119,
   "metadata": {},
   "outputs": [
    {
     "ename": "NameError",
     "evalue": "name 'bias_tr' is not defined",
     "output_type": "error",
     "traceback": [
      "\u001b[0;31m---------------------------------------------------------------------------\u001b[0m",
      "\u001b[0;31mNameError\u001b[0m                                 Traceback (most recent call last)",
      "\u001b[0;32m<ipython-input-119-1c0cc5983f1c>\u001b[0m in \u001b[0;36m<module>\u001b[0;34m()\u001b[0m\n\u001b[0;32m----> 1\u001b[0;31m \u001b[0mplt\u001b[0m\u001b[0;34m.\u001b[0m\u001b[0mscatter\u001b[0m\u001b[0;34m(\u001b[0m\u001b[0mSNR_tr\u001b[0m\u001b[0;34m,\u001b[0m\u001b[0mbias_tr\u001b[0m\u001b[0;34m)\u001b[0m\u001b[0;34m\u001b[0m\u001b[0m\n\u001b[0m\u001b[1;32m      2\u001b[0m \u001b[0mplt\u001b[0m\u001b[0;34m.\u001b[0m\u001b[0mtitle\u001b[0m\u001b[0;34m(\u001b[0m\u001b[0;34m\"linear\"\u001b[0m\u001b[0;34m)\u001b[0m\u001b[0;34m\u001b[0m\u001b[0m\n\u001b[1;32m      3\u001b[0m \u001b[0mplt\u001b[0m\u001b[0;34m.\u001b[0m\u001b[0mxlabel\u001b[0m\u001b[0;34m(\u001b[0m\u001b[0;34m\"SNR\"\u001b[0m\u001b[0;34m)\u001b[0m\u001b[0;34m\u001b[0m\u001b[0m\n\u001b[1;32m      4\u001b[0m \u001b[0mplt\u001b[0m\u001b[0;34m.\u001b[0m\u001b[0mylabel\u001b[0m\u001b[0;34m(\u001b[0m\u001b[0;34m\"bias\"\u001b[0m\u001b[0;34m)\u001b[0m\u001b[0;34m\u001b[0m\u001b[0m\n",
      "\u001b[0;31mNameError\u001b[0m: name 'bias_tr' is not defined"
     ]
    }
   ],
   "source": [
    "plt.scatter(SNR_tr,bias_tr)\n",
    "plt.title(\"linear\")\n",
    "plt.xlabel(\"SNR\")\n",
    "plt.ylabel(\"bias\")"
   ]
  },
  {
   "cell_type": "markdown",
   "metadata": {},
   "source": [
    "### Ridge regression"
   ]
  },
  {
   "cell_type": "code",
   "execution_count": 166,
   "metadata": {},
   "outputs": [],
   "source": [
    "ridge = Ridge()"
   ]
  },
  {
   "cell_type": "code",
   "execution_count": 167,
   "metadata": {},
   "outputs": [
    {
     "data": {
      "text/plain": [
       "array([0.95377443, 0.96659408, 0.98123803, 0.9557097 , 0.96215155,\n",
       "       0.97658692, 0.97252635, 0.9814716 , 0.9707717 , 0.96947386])"
      ]
     },
     "execution_count": 167,
     "metadata": {},
     "output_type": "execute_result"
    }
   ],
   "source": [
    "cross_val_score(ridge,x_tr,y_tr, cv=10)"
   ]
  },
  {
   "cell_type": "code",
   "execution_count": 168,
   "metadata": {},
   "outputs": [],
   "source": [
    "ridge.fit(x_tr,y_tr)\n",
    "y_pred_tr_ridge = ridge.predict(x_tr)\n",
    "#y_pred_te_ridge = ridge.predict(x_te)"
   ]
  },
  {
   "cell_type": "code",
   "execution_count": 169,
   "metadata": {},
   "outputs": [
    {
     "data": {
      "text/plain": [
       "Text(0, 0.5, 'Predicted y')"
      ]
     },
     "execution_count": 169,
     "metadata": {},
     "output_type": "execute_result"
    }
   ],
   "source": [
    "plt.scatter(y_tr,y_pred_tr_ridge)\n",
    "u = np.linspace(0,500)\n",
    "plt.plot(u,u, c='black')\n",
    "plt.xlabel(\"True y\")\n",
    "plt.ylabel(\"Predicted y\")\n"
   ]
  },
  {
   "cell_type": "code",
   "execution_count": 170,
   "metadata": {},
   "outputs": [
    {
     "data": {
      "text/plain": [
       "0.9754435219744602"
      ]
     },
     "execution_count": 170,
     "metadata": {},
     "output_type": "execute_result"
    }
   ],
   "source": [
    "r2_score(y_tr,y_pred_tr_ridge)"
   ]
  },
  {
   "cell_type": "code",
   "execution_count": 171,
   "metadata": {},
   "outputs": [
    {
     "data": {
      "text/plain": [
       "Text(0, 0.5, 'bias')"
      ]
     },
     "execution_count": 171,
     "metadata": {},
     "output_type": "execute_result"
    }
   ],
   "source": [
    "bias_tr_ridge = (y_tr - y_pred_tr_ridge) / df_OCU_tr\n",
    "\n",
    "plt.scatter(SNR_tr,bias_tr_ridge)\n",
    "plt.title(\"ridge\")\n",
    "plt.xlabel(\"SNR\")\n",
    "plt.ylabel(\"bias\")"
   ]
  },
  {
   "cell_type": "markdown",
   "metadata": {},
   "source": [
    "### Neural Network"
   ]
  },
  {
   "cell_type": "code",
   "execution_count": 172,
   "metadata": {},
   "outputs": [],
   "source": [
    "nn = MLPRegressor()"
   ]
  },
  {
   "cell_type": "code",
   "execution_count": 173,
   "metadata": {},
   "outputs": [
    {
     "data": {
      "text/plain": [
       "MLPRegressor(activation='relu', alpha=0.0001, batch_size='auto', beta_1=0.9,\n",
       "       beta_2=0.999, early_stopping=False, epsilon=1e-08,\n",
       "       hidden_layer_sizes=(100,), learning_rate='constant',\n",
       "       learning_rate_init=0.001, max_iter=200, momentum=0.9,\n",
       "       n_iter_no_change=10, nesterovs_momentum=True, power_t=0.5,\n",
       "       random_state=None, shuffle=True, solver='adam', tol=0.0001,\n",
       "       validation_fraction=0.1, verbose=False, warm_start=False)"
      ]
     },
     "execution_count": 173,
     "metadata": {},
     "output_type": "execute_result"
    }
   ],
   "source": [
    "nn.fit(x_tr,y_tr)"
   ]
  },
  {
   "cell_type": "code",
   "execution_count": 174,
   "metadata": {},
   "outputs": [],
   "source": [
    "y_pred_tr_nn = nn.predict(x_tr)"
   ]
  },
  {
   "cell_type": "code",
   "execution_count": 175,
   "metadata": {},
   "outputs": [
    {
     "data": {
      "text/plain": [
       "Text(0, 0.5, 'Predicted y')"
      ]
     },
     "execution_count": 175,
     "metadata": {},
     "output_type": "execute_result"
    }
   ],
   "source": [
    "plt.scatter(y_tr,y_pred_tr_nn)\n",
    "u = np.linspace(0,500)\n",
    "plt.plot(u,u, c='black')\n",
    "plt.xlabel(\"True y\")\n",
    "plt.ylabel(\"Predicted y\")"
   ]
  },
  {
   "cell_type": "code",
   "execution_count": 176,
   "metadata": {},
   "outputs": [
    {
     "data": {
      "text/plain": [
       "0.965249404249203"
      ]
     },
     "execution_count": 176,
     "metadata": {},
     "output_type": "execute_result"
    }
   ],
   "source": [
    "r2_score(y_tr,y_pred_tr_nn)"
   ]
  },
  {
   "cell_type": "code",
   "execution_count": 177,
   "metadata": {},
   "outputs": [
    {
     "data": {
      "text/plain": [
       "Text(0, 0.5, 'bias')"
      ]
     },
     "execution_count": 177,
     "metadata": {},
     "output_type": "execute_result"
    }
   ],
   "source": [
    "bias_tr_nn = (y_tr - y_pred_tr_nn) / df_OCU_tr\n",
    "\n",
    "plt.scatter(SNR_tr,bias_tr_nn)\n",
    "plt.title(\"NN\")\n",
    "plt.xlabel(\"SNR\")\n",
    "plt.ylabel(\"bias\")"
   ]
  },
  {
   "cell_type": "markdown",
   "metadata": {},
   "source": [
    "### 2nd derivative"
   ]
  },
  {
   "cell_type": "code",
   "execution_count": 20,
   "metadata": {},
   "outputs": [],
   "source": [
    "df_derive = df_derive.T"
   ]
  },
  {
   "cell_type": "code",
   "execution_count": 21,
   "metadata": {},
   "outputs": [],
   "source": [
    "pd_der_merge = df_OC.merge(df_derive, right_index=True, left_index=True)"
   ]
  },
  {
   "cell_type": "code",
   "execution_count": 22,
   "metadata": {},
   "outputs": [
    {
     "data": {
      "text/html": [
       "<div>\n",
       "<style scoped>\n",
       "    .dataframe tbody tr th:only-of-type {\n",
       "        vertical-align: middle;\n",
       "    }\n",
       "\n",
       "    .dataframe tbody tr th {\n",
       "        vertical-align: top;\n",
       "    }\n",
       "\n",
       "    .dataframe thead th {\n",
       "        text-align: right;\n",
       "    }\n",
       "</style>\n",
       "<table border=\"1\" class=\"dataframe\">\n",
       "  <thead>\n",
       "    <tr style=\"text-align: right;\">\n",
       "      <th></th>\n",
       "      <th>usage</th>\n",
       "    </tr>\n",
       "    <tr>\n",
       "      <th>site</th>\n",
       "      <th></th>\n",
       "    </tr>\n",
       "  </thead>\n",
       "  <tbody>\n",
       "    <tr>\n",
       "      <th>CRLA1_04_21_2015_NM_0_csv</th>\n",
       "      <td>calibration</td>\n",
       "    </tr>\n",
       "    <tr>\n",
       "      <th>TONT1_05_09_2015_NM_0_csv</th>\n",
       "      <td>calibration</td>\n",
       "    </tr>\n",
       "    <tr>\n",
       "      <th>BADL1_11_26_2015_NM_0_csv</th>\n",
       "      <td>calibration</td>\n",
       "    </tr>\n",
       "    <tr>\n",
       "      <th>BRID1_10_27_2015_NM_0_csv</th>\n",
       "      <td>calibration</td>\n",
       "    </tr>\n",
       "    <tr>\n",
       "      <th>SEQU1_04_03_2015_NM_0_csv</th>\n",
       "      <td>calibration</td>\n",
       "    </tr>\n",
       "    <tr>\n",
       "      <th>PINN1_08_04_2015_NM_QC_0_csv</th>\n",
       "      <td>calibration</td>\n",
       "    </tr>\n",
       "    <tr>\n",
       "      <th>BRIS1_12_17_2015_NM_0_csv</th>\n",
       "      <td>calibration</td>\n",
       "    </tr>\n",
       "    <tr>\n",
       "      <th>BRCA1_04_15_2015_NM_0_csv</th>\n",
       "      <td>calibration</td>\n",
       "    </tr>\n",
       "    <tr>\n",
       "      <th>ORPI1_09_03_2015_FB_0_csv</th>\n",
       "      <td>calibration</td>\n",
       "    </tr>\n",
       "  </tbody>\n",
       "</table>\n",
       "</div>"
      ],
      "text/plain": [
       "                                    usage\n",
       "site                                     \n",
       "CRLA1_04_21_2015_NM_0_csv     calibration\n",
       "TONT1_05_09_2015_NM_0_csv     calibration\n",
       "BADL1_11_26_2015_NM_0_csv     calibration\n",
       "BRID1_10_27_2015_NM_0_csv     calibration\n",
       "SEQU1_04_03_2015_NM_0_csv     calibration\n",
       "PINN1_08_04_2015_NM_QC_0_csv  calibration\n",
       "BRIS1_12_17_2015_NM_0_csv     calibration\n",
       "BRCA1_04_15_2015_NM_0_csv     calibration\n",
       "ORPI1_09_03_2015_FB_0_csv     calibration"
      ]
     },
     "execution_count": 22,
     "metadata": {},
     "output_type": "execute_result"
    }
   ],
   "source": [
    "df_split.head(9)"
   ]
  },
  {
   "cell_type": "code",
   "execution_count": 23,
   "metadata": {},
   "outputs": [],
   "source": [
    "pd_der_again = pd_der_merge.merge(df_split, right_index=True, left_index=True)"
   ]
  },
  {
   "cell_type": "code",
   "execution_count": 24,
   "metadata": {},
   "outputs": [],
   "source": [
    "set_train_der = pd_der_again[pd_der_again[\"usage\"] == \"calibration\"]"
   ]
  },
  {
   "cell_type": "code",
   "execution_count": 25,
   "metadata": {},
   "outputs": [],
   "source": [
    "set_test_der = pd_der_again[pd_der_again[\"usage\"] == \"test\"]"
   ]
  },
  {
   "cell_type": "code",
   "execution_count": 26,
   "metadata": {},
   "outputs": [],
   "source": [
    "y_tr_der = set_train_der[\"OCf:Value\"]\n",
    "y_te_der = set_test_der[\"OCf:Value\"]\n",
    "x_tr_der = set_train_der.drop([\"OCf:Value\",\"OCf:Unc\",\"usage\"], axis=1)\n",
    "x_te_der = set_test_der.drop([\"OCf:Value\",\"OCf:Unc\",\"usage\"], axis=1)"
   ]
  },
  {
   "cell_type": "code",
   "execution_count": 323,
   "metadata": {},
   "outputs": [
    {
     "data": {
      "text/plain": [
       "LinearRegression(copy_X=True, fit_intercept=True, n_jobs=None,\n",
       "         normalize=False)"
      ]
     },
     "execution_count": 323,
     "metadata": {},
     "output_type": "execute_result"
    }
   ],
   "source": [
    "lr.fit(x_tr_der,y_tr_der)"
   ]
  },
  {
   "cell_type": "code",
   "execution_count": 324,
   "metadata": {},
   "outputs": [],
   "source": [
    "der_predict_tr = lr.predict(x_tr_der)"
   ]
  },
  {
   "cell_type": "code",
   "execution_count": 325,
   "metadata": {},
   "outputs": [
    {
     "data": {
      "application/javascript": [
       "/* Put everything inside the global mpl namespace */\n",
       "window.mpl = {};\n",
       "\n",
       "\n",
       "mpl.get_websocket_type = function() {\n",
       "    if (typeof(WebSocket) !== 'undefined') {\n",
       "        return WebSocket;\n",
       "    } else if (typeof(MozWebSocket) !== 'undefined') {\n",
       "        return MozWebSocket;\n",
       "    } else {\n",
       "        alert('Your browser does not have WebSocket support.' +\n",
       "              'Please try Chrome, Safari or Firefox ≥ 6. ' +\n",
       "              'Firefox 4 and 5 are also supported but you ' +\n",
       "              'have to enable WebSockets in about:config.');\n",
       "    };\n",
       "}\n",
       "\n",
       "mpl.figure = function(figure_id, websocket, ondownload, parent_element) {\n",
       "    this.id = figure_id;\n",
       "\n",
       "    this.ws = websocket;\n",
       "\n",
       "    this.supports_binary = (this.ws.binaryType != undefined);\n",
       "\n",
       "    if (!this.supports_binary) {\n",
       "        var warnings = document.getElementById(\"mpl-warnings\");\n",
       "        if (warnings) {\n",
       "            warnings.style.display = 'block';\n",
       "            warnings.textContent = (\n",
       "                \"This browser does not support binary websocket messages. \" +\n",
       "                    \"Performance may be slow.\");\n",
       "        }\n",
       "    }\n",
       "\n",
       "    this.imageObj = new Image();\n",
       "\n",
       "    this.context = undefined;\n",
       "    this.message = undefined;\n",
       "    this.canvas = undefined;\n",
       "    this.rubberband_canvas = undefined;\n",
       "    this.rubberband_context = undefined;\n",
       "    this.format_dropdown = undefined;\n",
       "\n",
       "    this.image_mode = 'full';\n",
       "\n",
       "    this.root = $('<div/>');\n",
       "    this._root_extra_style(this.root)\n",
       "    this.root.attr('style', 'display: inline-block');\n",
       "\n",
       "    $(parent_element).append(this.root);\n",
       "\n",
       "    this._init_header(this);\n",
       "    this._init_canvas(this);\n",
       "    this._init_toolbar(this);\n",
       "\n",
       "    var fig = this;\n",
       "\n",
       "    this.waiting = false;\n",
       "\n",
       "    this.ws.onopen =  function () {\n",
       "            fig.send_message(\"supports_binary\", {value: fig.supports_binary});\n",
       "            fig.send_message(\"send_image_mode\", {});\n",
       "            if (mpl.ratio != 1) {\n",
       "                fig.send_message(\"set_dpi_ratio\", {'dpi_ratio': mpl.ratio});\n",
       "            }\n",
       "            fig.send_message(\"refresh\", {});\n",
       "        }\n",
       "\n",
       "    this.imageObj.onload = function() {\n",
       "            if (fig.image_mode == 'full') {\n",
       "                // Full images could contain transparency (where diff images\n",
       "                // almost always do), so we need to clear the canvas so that\n",
       "                // there is no ghosting.\n",
       "                fig.context.clearRect(0, 0, fig.canvas.width, fig.canvas.height);\n",
       "            }\n",
       "            fig.context.drawImage(fig.imageObj, 0, 0);\n",
       "        };\n",
       "\n",
       "    this.imageObj.onunload = function() {\n",
       "        fig.ws.close();\n",
       "    }\n",
       "\n",
       "    this.ws.onmessage = this._make_on_message_function(this);\n",
       "\n",
       "    this.ondownload = ondownload;\n",
       "}\n",
       "\n",
       "mpl.figure.prototype._init_header = function() {\n",
       "    var titlebar = $(\n",
       "        '<div class=\"ui-dialog-titlebar ui-widget-header ui-corner-all ' +\n",
       "        'ui-helper-clearfix\"/>');\n",
       "    var titletext = $(\n",
       "        '<div class=\"ui-dialog-title\" style=\"width: 100%; ' +\n",
       "        'text-align: center; padding: 3px;\"/>');\n",
       "    titlebar.append(titletext)\n",
       "    this.root.append(titlebar);\n",
       "    this.header = titletext[0];\n",
       "}\n",
       "\n",
       "\n",
       "\n",
       "mpl.figure.prototype._canvas_extra_style = function(canvas_div) {\n",
       "\n",
       "}\n",
       "\n",
       "\n",
       "mpl.figure.prototype._root_extra_style = function(canvas_div) {\n",
       "\n",
       "}\n",
       "\n",
       "mpl.figure.prototype._init_canvas = function() {\n",
       "    var fig = this;\n",
       "\n",
       "    var canvas_div = $('<div/>');\n",
       "\n",
       "    canvas_div.attr('style', 'position: relative; clear: both; outline: 0');\n",
       "\n",
       "    function canvas_keyboard_event(event) {\n",
       "        return fig.key_event(event, event['data']);\n",
       "    }\n",
       "\n",
       "    canvas_div.keydown('key_press', canvas_keyboard_event);\n",
       "    canvas_div.keyup('key_release', canvas_keyboard_event);\n",
       "    this.canvas_div = canvas_div\n",
       "    this._canvas_extra_style(canvas_div)\n",
       "    this.root.append(canvas_div);\n",
       "\n",
       "    var canvas = $('<canvas/>');\n",
       "    canvas.addClass('mpl-canvas');\n",
       "    canvas.attr('style', \"left: 0; top: 0; z-index: 0; outline: 0\")\n",
       "\n",
       "    this.canvas = canvas[0];\n",
       "    this.context = canvas[0].getContext(\"2d\");\n",
       "\n",
       "    var backingStore = this.context.backingStorePixelRatio ||\n",
       "\tthis.context.webkitBackingStorePixelRatio ||\n",
       "\tthis.context.mozBackingStorePixelRatio ||\n",
       "\tthis.context.msBackingStorePixelRatio ||\n",
       "\tthis.context.oBackingStorePixelRatio ||\n",
       "\tthis.context.backingStorePixelRatio || 1;\n",
       "\n",
       "    mpl.ratio = (window.devicePixelRatio || 1) / backingStore;\n",
       "\n",
       "    var rubberband = $('<canvas/>');\n",
       "    rubberband.attr('style', \"position: absolute; left: 0; top: 0; z-index: 1;\")\n",
       "\n",
       "    var pass_mouse_events = true;\n",
       "\n",
       "    canvas_div.resizable({\n",
       "        start: function(event, ui) {\n",
       "            pass_mouse_events = false;\n",
       "        },\n",
       "        resize: function(event, ui) {\n",
       "            fig.request_resize(ui.size.width, ui.size.height);\n",
       "        },\n",
       "        stop: function(event, ui) {\n",
       "            pass_mouse_events = true;\n",
       "            fig.request_resize(ui.size.width, ui.size.height);\n",
       "        },\n",
       "    });\n",
       "\n",
       "    function mouse_event_fn(event) {\n",
       "        if (pass_mouse_events)\n",
       "            return fig.mouse_event(event, event['data']);\n",
       "    }\n",
       "\n",
       "    rubberband.mousedown('button_press', mouse_event_fn);\n",
       "    rubberband.mouseup('button_release', mouse_event_fn);\n",
       "    // Throttle sequential mouse events to 1 every 20ms.\n",
       "    rubberband.mousemove('motion_notify', mouse_event_fn);\n",
       "\n",
       "    rubberband.mouseenter('figure_enter', mouse_event_fn);\n",
       "    rubberband.mouseleave('figure_leave', mouse_event_fn);\n",
       "\n",
       "    canvas_div.on(\"wheel\", function (event) {\n",
       "        event = event.originalEvent;\n",
       "        event['data'] = 'scroll'\n",
       "        if (event.deltaY < 0) {\n",
       "            event.step = 1;\n",
       "        } else {\n",
       "            event.step = -1;\n",
       "        }\n",
       "        mouse_event_fn(event);\n",
       "    });\n",
       "\n",
       "    canvas_div.append(canvas);\n",
       "    canvas_div.append(rubberband);\n",
       "\n",
       "    this.rubberband = rubberband;\n",
       "    this.rubberband_canvas = rubberband[0];\n",
       "    this.rubberband_context = rubberband[0].getContext(\"2d\");\n",
       "    this.rubberband_context.strokeStyle = \"#000000\";\n",
       "\n",
       "    this._resize_canvas = function(width, height) {\n",
       "        // Keep the size of the canvas, canvas container, and rubber band\n",
       "        // canvas in synch.\n",
       "        canvas_div.css('width', width)\n",
       "        canvas_div.css('height', height)\n",
       "\n",
       "        canvas.attr('width', width * mpl.ratio);\n",
       "        canvas.attr('height', height * mpl.ratio);\n",
       "        canvas.attr('style', 'width: ' + width + 'px; height: ' + height + 'px;');\n",
       "\n",
       "        rubberband.attr('width', width);\n",
       "        rubberband.attr('height', height);\n",
       "    }\n",
       "\n",
       "    // Set the figure to an initial 600x600px, this will subsequently be updated\n",
       "    // upon first draw.\n",
       "    this._resize_canvas(600, 600);\n",
       "\n",
       "    // Disable right mouse context menu.\n",
       "    $(this.rubberband_canvas).bind(\"contextmenu\",function(e){\n",
       "        return false;\n",
       "    });\n",
       "\n",
       "    function set_focus () {\n",
       "        canvas.focus();\n",
       "        canvas_div.focus();\n",
       "    }\n",
       "\n",
       "    window.setTimeout(set_focus, 100);\n",
       "}\n",
       "\n",
       "mpl.figure.prototype._init_toolbar = function() {\n",
       "    var fig = this;\n",
       "\n",
       "    var nav_element = $('<div/>')\n",
       "    nav_element.attr('style', 'width: 100%');\n",
       "    this.root.append(nav_element);\n",
       "\n",
       "    // Define a callback function for later on.\n",
       "    function toolbar_event(event) {\n",
       "        return fig.toolbar_button_onclick(event['data']);\n",
       "    }\n",
       "    function toolbar_mouse_event(event) {\n",
       "        return fig.toolbar_button_onmouseover(event['data']);\n",
       "    }\n",
       "\n",
       "    for(var toolbar_ind in mpl.toolbar_items) {\n",
       "        var name = mpl.toolbar_items[toolbar_ind][0];\n",
       "        var tooltip = mpl.toolbar_items[toolbar_ind][1];\n",
       "        var image = mpl.toolbar_items[toolbar_ind][2];\n",
       "        var method_name = mpl.toolbar_items[toolbar_ind][3];\n",
       "\n",
       "        if (!name) {\n",
       "            // put a spacer in here.\n",
       "            continue;\n",
       "        }\n",
       "        var button = $('<button/>');\n",
       "        button.addClass('ui-button ui-widget ui-state-default ui-corner-all ' +\n",
       "                        'ui-button-icon-only');\n",
       "        button.attr('role', 'button');\n",
       "        button.attr('aria-disabled', 'false');\n",
       "        button.click(method_name, toolbar_event);\n",
       "        button.mouseover(tooltip, toolbar_mouse_event);\n",
       "\n",
       "        var icon_img = $('<span/>');\n",
       "        icon_img.addClass('ui-button-icon-primary ui-icon');\n",
       "        icon_img.addClass(image);\n",
       "        icon_img.addClass('ui-corner-all');\n",
       "\n",
       "        var tooltip_span = $('<span/>');\n",
       "        tooltip_span.addClass('ui-button-text');\n",
       "        tooltip_span.html(tooltip);\n",
       "\n",
       "        button.append(icon_img);\n",
       "        button.append(tooltip_span);\n",
       "\n",
       "        nav_element.append(button);\n",
       "    }\n",
       "\n",
       "    var fmt_picker_span = $('<span/>');\n",
       "\n",
       "    var fmt_picker = $('<select/>');\n",
       "    fmt_picker.addClass('mpl-toolbar-option ui-widget ui-widget-content');\n",
       "    fmt_picker_span.append(fmt_picker);\n",
       "    nav_element.append(fmt_picker_span);\n",
       "    this.format_dropdown = fmt_picker[0];\n",
       "\n",
       "    for (var ind in mpl.extensions) {\n",
       "        var fmt = mpl.extensions[ind];\n",
       "        var option = $(\n",
       "            '<option/>', {selected: fmt === mpl.default_extension}).html(fmt);\n",
       "        fmt_picker.append(option)\n",
       "    }\n",
       "\n",
       "    // Add hover states to the ui-buttons\n",
       "    $( \".ui-button\" ).hover(\n",
       "        function() { $(this).addClass(\"ui-state-hover\");},\n",
       "        function() { $(this).removeClass(\"ui-state-hover\");}\n",
       "    );\n",
       "\n",
       "    var status_bar = $('<span class=\"mpl-message\"/>');\n",
       "    nav_element.append(status_bar);\n",
       "    this.message = status_bar[0];\n",
       "}\n",
       "\n",
       "mpl.figure.prototype.request_resize = function(x_pixels, y_pixels) {\n",
       "    // Request matplotlib to resize the figure. Matplotlib will then trigger a resize in the client,\n",
       "    // which will in turn request a refresh of the image.\n",
       "    this.send_message('resize', {'width': x_pixels, 'height': y_pixels});\n",
       "}\n",
       "\n",
       "mpl.figure.prototype.send_message = function(type, properties) {\n",
       "    properties['type'] = type;\n",
       "    properties['figure_id'] = this.id;\n",
       "    this.ws.send(JSON.stringify(properties));\n",
       "}\n",
       "\n",
       "mpl.figure.prototype.send_draw_message = function() {\n",
       "    if (!this.waiting) {\n",
       "        this.waiting = true;\n",
       "        this.ws.send(JSON.stringify({type: \"draw\", figure_id: this.id}));\n",
       "    }\n",
       "}\n",
       "\n",
       "\n",
       "mpl.figure.prototype.handle_save = function(fig, msg) {\n",
       "    var format_dropdown = fig.format_dropdown;\n",
       "    var format = format_dropdown.options[format_dropdown.selectedIndex].value;\n",
       "    fig.ondownload(fig, format);\n",
       "}\n",
       "\n",
       "\n",
       "mpl.figure.prototype.handle_resize = function(fig, msg) {\n",
       "    var size = msg['size'];\n",
       "    if (size[0] != fig.canvas.width || size[1] != fig.canvas.height) {\n",
       "        fig._resize_canvas(size[0], size[1]);\n",
       "        fig.send_message(\"refresh\", {});\n",
       "    };\n",
       "}\n",
       "\n",
       "mpl.figure.prototype.handle_rubberband = function(fig, msg) {\n",
       "    var x0 = msg['x0'] / mpl.ratio;\n",
       "    var y0 = (fig.canvas.height - msg['y0']) / mpl.ratio;\n",
       "    var x1 = msg['x1'] / mpl.ratio;\n",
       "    var y1 = (fig.canvas.height - msg['y1']) / mpl.ratio;\n",
       "    x0 = Math.floor(x0) + 0.5;\n",
       "    y0 = Math.floor(y0) + 0.5;\n",
       "    x1 = Math.floor(x1) + 0.5;\n",
       "    y1 = Math.floor(y1) + 0.5;\n",
       "    var min_x = Math.min(x0, x1);\n",
       "    var min_y = Math.min(y0, y1);\n",
       "    var width = Math.abs(x1 - x0);\n",
       "    var height = Math.abs(y1 - y0);\n",
       "\n",
       "    fig.rubberband_context.clearRect(\n",
       "        0, 0, fig.canvas.width, fig.canvas.height);\n",
       "\n",
       "    fig.rubberband_context.strokeRect(min_x, min_y, width, height);\n",
       "}\n",
       "\n",
       "mpl.figure.prototype.handle_figure_label = function(fig, msg) {\n",
       "    // Updates the figure title.\n",
       "    fig.header.textContent = msg['label'];\n",
       "}\n",
       "\n",
       "mpl.figure.prototype.handle_cursor = function(fig, msg) {\n",
       "    var cursor = msg['cursor'];\n",
       "    switch(cursor)\n",
       "    {\n",
       "    case 0:\n",
       "        cursor = 'pointer';\n",
       "        break;\n",
       "    case 1:\n",
       "        cursor = 'default';\n",
       "        break;\n",
       "    case 2:\n",
       "        cursor = 'crosshair';\n",
       "        break;\n",
       "    case 3:\n",
       "        cursor = 'move';\n",
       "        break;\n",
       "    }\n",
       "    fig.rubberband_canvas.style.cursor = cursor;\n",
       "}\n",
       "\n",
       "mpl.figure.prototype.handle_message = function(fig, msg) {\n",
       "    fig.message.textContent = msg['message'];\n",
       "}\n",
       "\n",
       "mpl.figure.prototype.handle_draw = function(fig, msg) {\n",
       "    // Request the server to send over a new figure.\n",
       "    fig.send_draw_message();\n",
       "}\n",
       "\n",
       "mpl.figure.prototype.handle_image_mode = function(fig, msg) {\n",
       "    fig.image_mode = msg['mode'];\n",
       "}\n",
       "\n",
       "mpl.figure.prototype.updated_canvas_event = function() {\n",
       "    // Called whenever the canvas gets updated.\n",
       "    this.send_message(\"ack\", {});\n",
       "}\n",
       "\n",
       "// A function to construct a web socket function for onmessage handling.\n",
       "// Called in the figure constructor.\n",
       "mpl.figure.prototype._make_on_message_function = function(fig) {\n",
       "    return function socket_on_message(evt) {\n",
       "        if (evt.data instanceof Blob) {\n",
       "            /* FIXME: We get \"Resource interpreted as Image but\n",
       "             * transferred with MIME type text/plain:\" errors on\n",
       "             * Chrome.  But how to set the MIME type?  It doesn't seem\n",
       "             * to be part of the websocket stream */\n",
       "            evt.data.type = \"image/png\";\n",
       "\n",
       "            /* Free the memory for the previous frames */\n",
       "            if (fig.imageObj.src) {\n",
       "                (window.URL || window.webkitURL).revokeObjectURL(\n",
       "                    fig.imageObj.src);\n",
       "            }\n",
       "\n",
       "            fig.imageObj.src = (window.URL || window.webkitURL).createObjectURL(\n",
       "                evt.data);\n",
       "            fig.updated_canvas_event();\n",
       "            fig.waiting = false;\n",
       "            return;\n",
       "        }\n",
       "        else if (typeof evt.data === 'string' && evt.data.slice(0, 21) == \"data:image/png;base64\") {\n",
       "            fig.imageObj.src = evt.data;\n",
       "            fig.updated_canvas_event();\n",
       "            fig.waiting = false;\n",
       "            return;\n",
       "        }\n",
       "\n",
       "        var msg = JSON.parse(evt.data);\n",
       "        var msg_type = msg['type'];\n",
       "\n",
       "        // Call the  \"handle_{type}\" callback, which takes\n",
       "        // the figure and JSON message as its only arguments.\n",
       "        try {\n",
       "            var callback = fig[\"handle_\" + msg_type];\n",
       "        } catch (e) {\n",
       "            console.log(\"No handler for the '\" + msg_type + \"' message type: \", msg);\n",
       "            return;\n",
       "        }\n",
       "\n",
       "        if (callback) {\n",
       "            try {\n",
       "                // console.log(\"Handling '\" + msg_type + \"' message: \", msg);\n",
       "                callback(fig, msg);\n",
       "            } catch (e) {\n",
       "                console.log(\"Exception inside the 'handler_\" + msg_type + \"' callback:\", e, e.stack, msg);\n",
       "            }\n",
       "        }\n",
       "    };\n",
       "}\n",
       "\n",
       "// from http://stackoverflow.com/questions/1114465/getting-mouse-location-in-canvas\n",
       "mpl.findpos = function(e) {\n",
       "    //this section is from http://www.quirksmode.org/js/events_properties.html\n",
       "    var targ;\n",
       "    if (!e)\n",
       "        e = window.event;\n",
       "    if (e.target)\n",
       "        targ = e.target;\n",
       "    else if (e.srcElement)\n",
       "        targ = e.srcElement;\n",
       "    if (targ.nodeType == 3) // defeat Safari bug\n",
       "        targ = targ.parentNode;\n",
       "\n",
       "    // jQuery normalizes the pageX and pageY\n",
       "    // pageX,Y are the mouse positions relative to the document\n",
       "    // offset() returns the position of the element relative to the document\n",
       "    var x = e.pageX - $(targ).offset().left;\n",
       "    var y = e.pageY - $(targ).offset().top;\n",
       "\n",
       "    return {\"x\": x, \"y\": y};\n",
       "};\n",
       "\n",
       "/*\n",
       " * return a copy of an object with only non-object keys\n",
       " * we need this to avoid circular references\n",
       " * http://stackoverflow.com/a/24161582/3208463\n",
       " */\n",
       "function simpleKeys (original) {\n",
       "  return Object.keys(original).reduce(function (obj, key) {\n",
       "    if (typeof original[key] !== 'object')\n",
       "        obj[key] = original[key]\n",
       "    return obj;\n",
       "  }, {});\n",
       "}\n",
       "\n",
       "mpl.figure.prototype.mouse_event = function(event, name) {\n",
       "    var canvas_pos = mpl.findpos(event)\n",
       "\n",
       "    if (name === 'button_press')\n",
       "    {\n",
       "        this.canvas.focus();\n",
       "        this.canvas_div.focus();\n",
       "    }\n",
       "\n",
       "    var x = canvas_pos.x * mpl.ratio;\n",
       "    var y = canvas_pos.y * mpl.ratio;\n",
       "\n",
       "    this.send_message(name, {x: x, y: y, button: event.button,\n",
       "                             step: event.step,\n",
       "                             guiEvent: simpleKeys(event)});\n",
       "\n",
       "    /* This prevents the web browser from automatically changing to\n",
       "     * the text insertion cursor when the button is pressed.  We want\n",
       "     * to control all of the cursor setting manually through the\n",
       "     * 'cursor' event from matplotlib */\n",
       "    event.preventDefault();\n",
       "    return false;\n",
       "}\n",
       "\n",
       "mpl.figure.prototype._key_event_extra = function(event, name) {\n",
       "    // Handle any extra behaviour associated with a key event\n",
       "}\n",
       "\n",
       "mpl.figure.prototype.key_event = function(event, name) {\n",
       "\n",
       "    // Prevent repeat events\n",
       "    if (name == 'key_press')\n",
       "    {\n",
       "        if (event.which === this._key)\n",
       "            return;\n",
       "        else\n",
       "            this._key = event.which;\n",
       "    }\n",
       "    if (name == 'key_release')\n",
       "        this._key = null;\n",
       "\n",
       "    var value = '';\n",
       "    if (event.ctrlKey && event.which != 17)\n",
       "        value += \"ctrl+\";\n",
       "    if (event.altKey && event.which != 18)\n",
       "        value += \"alt+\";\n",
       "    if (event.shiftKey && event.which != 16)\n",
       "        value += \"shift+\";\n",
       "\n",
       "    value += 'k';\n",
       "    value += event.which.toString();\n",
       "\n",
       "    this._key_event_extra(event, name);\n",
       "\n",
       "    this.send_message(name, {key: value,\n",
       "                             guiEvent: simpleKeys(event)});\n",
       "    return false;\n",
       "}\n",
       "\n",
       "mpl.figure.prototype.toolbar_button_onclick = function(name) {\n",
       "    if (name == 'download') {\n",
       "        this.handle_save(this, null);\n",
       "    } else {\n",
       "        this.send_message(\"toolbar_button\", {name: name});\n",
       "    }\n",
       "};\n",
       "\n",
       "mpl.figure.prototype.toolbar_button_onmouseover = function(tooltip) {\n",
       "    this.message.textContent = tooltip;\n",
       "};\n",
       "mpl.toolbar_items = [[\"Home\", \"Reset original view\", \"fa fa-home icon-home\", \"home\"], [\"Back\", \"Back to previous view\", \"fa fa-arrow-left icon-arrow-left\", \"back\"], [\"Forward\", \"Forward to next view\", \"fa fa-arrow-right icon-arrow-right\", \"forward\"], [\"\", \"\", \"\", \"\"], [\"Pan\", \"Pan axes with left mouse, zoom with right\", \"fa fa-arrows icon-move\", \"pan\"], [\"Zoom\", \"Zoom to rectangle\", \"fa fa-square-o icon-check-empty\", \"zoom\"], [\"\", \"\", \"\", \"\"], [\"Download\", \"Download plot\", \"fa fa-floppy-o icon-save\", \"download\"]];\n",
       "\n",
       "mpl.extensions = [\"eps\", \"pdf\", \"png\", \"ps\", \"raw\", \"svg\"];\n",
       "\n",
       "mpl.default_extension = \"png\";var comm_websocket_adapter = function(comm) {\n",
       "    // Create a \"websocket\"-like object which calls the given IPython comm\n",
       "    // object with the appropriate methods. Currently this is a non binary\n",
       "    // socket, so there is still some room for performance tuning.\n",
       "    var ws = {};\n",
       "\n",
       "    ws.close = function() {\n",
       "        comm.close()\n",
       "    };\n",
       "    ws.send = function(m) {\n",
       "        //console.log('sending', m);\n",
       "        comm.send(m);\n",
       "    };\n",
       "    // Register the callback with on_msg.\n",
       "    comm.on_msg(function(msg) {\n",
       "        //console.log('receiving', msg['content']['data'], msg);\n",
       "        // Pass the mpl event to the overridden (by mpl) onmessage function.\n",
       "        ws.onmessage(msg['content']['data'])\n",
       "    });\n",
       "    return ws;\n",
       "}\n",
       "\n",
       "mpl.mpl_figure_comm = function(comm, msg) {\n",
       "    // This is the function which gets called when the mpl process\n",
       "    // starts-up an IPython Comm through the \"matplotlib\" channel.\n",
       "\n",
       "    var id = msg.content.data.id;\n",
       "    // Get hold of the div created by the display call when the Comm\n",
       "    // socket was opened in Python.\n",
       "    var element = $(\"#\" + id);\n",
       "    var ws_proxy = comm_websocket_adapter(comm)\n",
       "\n",
       "    function ondownload(figure, format) {\n",
       "        window.open(figure.imageObj.src);\n",
       "    }\n",
       "\n",
       "    var fig = new mpl.figure(id, ws_proxy,\n",
       "                           ondownload,\n",
       "                           element.get(0));\n",
       "\n",
       "    // Call onopen now - mpl needs it, as it is assuming we've passed it a real\n",
       "    // web socket which is closed, not our websocket->open comm proxy.\n",
       "    ws_proxy.onopen();\n",
       "\n",
       "    fig.parent_element = element.get(0);\n",
       "    fig.cell_info = mpl.find_output_cell(\"<div id='\" + id + \"'></div>\");\n",
       "    if (!fig.cell_info) {\n",
       "        console.error(\"Failed to find cell for figure\", id, fig);\n",
       "        return;\n",
       "    }\n",
       "\n",
       "    var output_index = fig.cell_info[2]\n",
       "    var cell = fig.cell_info[0];\n",
       "\n",
       "};\n",
       "\n",
       "mpl.figure.prototype.handle_close = function(fig, msg) {\n",
       "    var width = fig.canvas.width/mpl.ratio\n",
       "    fig.root.unbind('remove')\n",
       "\n",
       "    // Update the output cell to use the data from the current canvas.\n",
       "    fig.push_to_output();\n",
       "    var dataURL = fig.canvas.toDataURL();\n",
       "    // Re-enable the keyboard manager in IPython - without this line, in FF,\n",
       "    // the notebook keyboard shortcuts fail.\n",
       "    IPython.keyboard_manager.enable()\n",
       "    $(fig.parent_element).html('<img src=\"' + dataURL + '\" width=\"' + width + '\">');\n",
       "    fig.close_ws(fig, msg);\n",
       "}\n",
       "\n",
       "mpl.figure.prototype.close_ws = function(fig, msg){\n",
       "    fig.send_message('closing', msg);\n",
       "    // fig.ws.close()\n",
       "}\n",
       "\n",
       "mpl.figure.prototype.push_to_output = function(remove_interactive) {\n",
       "    // Turn the data on the canvas into data in the output cell.\n",
       "    var width = this.canvas.width/mpl.ratio\n",
       "    var dataURL = this.canvas.toDataURL();\n",
       "    this.cell_info[1]['text/html'] = '<img src=\"' + dataURL + '\" width=\"' + width + '\">';\n",
       "}\n",
       "\n",
       "mpl.figure.prototype.updated_canvas_event = function() {\n",
       "    // Tell IPython that the notebook contents must change.\n",
       "    IPython.notebook.set_dirty(true);\n",
       "    this.send_message(\"ack\", {});\n",
       "    var fig = this;\n",
       "    // Wait a second, then push the new image to the DOM so\n",
       "    // that it is saved nicely (might be nice to debounce this).\n",
       "    setTimeout(function () { fig.push_to_output() }, 1000);\n",
       "}\n",
       "\n",
       "mpl.figure.prototype._init_toolbar = function() {\n",
       "    var fig = this;\n",
       "\n",
       "    var nav_element = $('<div/>')\n",
       "    nav_element.attr('style', 'width: 100%');\n",
       "    this.root.append(nav_element);\n",
       "\n",
       "    // Define a callback function for later on.\n",
       "    function toolbar_event(event) {\n",
       "        return fig.toolbar_button_onclick(event['data']);\n",
       "    }\n",
       "    function toolbar_mouse_event(event) {\n",
       "        return fig.toolbar_button_onmouseover(event['data']);\n",
       "    }\n",
       "\n",
       "    for(var toolbar_ind in mpl.toolbar_items){\n",
       "        var name = mpl.toolbar_items[toolbar_ind][0];\n",
       "        var tooltip = mpl.toolbar_items[toolbar_ind][1];\n",
       "        var image = mpl.toolbar_items[toolbar_ind][2];\n",
       "        var method_name = mpl.toolbar_items[toolbar_ind][3];\n",
       "\n",
       "        if (!name) { continue; };\n",
       "\n",
       "        var button = $('<button class=\"btn btn-default\" href=\"#\" title=\"' + name + '\"><i class=\"fa ' + image + ' fa-lg\"></i></button>');\n",
       "        button.click(method_name, toolbar_event);\n",
       "        button.mouseover(tooltip, toolbar_mouse_event);\n",
       "        nav_element.append(button);\n",
       "    }\n",
       "\n",
       "    // Add the status bar.\n",
       "    var status_bar = $('<span class=\"mpl-message\" style=\"text-align:right; float: right;\"/>');\n",
       "    nav_element.append(status_bar);\n",
       "    this.message = status_bar[0];\n",
       "\n",
       "    // Add the close button to the window.\n",
       "    var buttongrp = $('<div class=\"btn-group inline pull-right\"></div>');\n",
       "    var button = $('<button class=\"btn btn-mini btn-primary\" href=\"#\" title=\"Stop Interaction\"><i class=\"fa fa-power-off icon-remove icon-large\"></i></button>');\n",
       "    button.click(function (evt) { fig.handle_close(fig, {}); } );\n",
       "    button.mouseover('Stop Interaction', toolbar_mouse_event);\n",
       "    buttongrp.append(button);\n",
       "    var titlebar = this.root.find($('.ui-dialog-titlebar'));\n",
       "    titlebar.prepend(buttongrp);\n",
       "}\n",
       "\n",
       "mpl.figure.prototype._root_extra_style = function(el){\n",
       "    var fig = this\n",
       "    el.on(\"remove\", function(){\n",
       "\tfig.close_ws(fig, {});\n",
       "    });\n",
       "}\n",
       "\n",
       "mpl.figure.prototype._canvas_extra_style = function(el){\n",
       "    // this is important to make the div 'focusable\n",
       "    el.attr('tabindex', 0)\n",
       "    // reach out to IPython and tell the keyboard manager to turn it's self\n",
       "    // off when our div gets focus\n",
       "\n",
       "    // location in version 3\n",
       "    if (IPython.notebook.keyboard_manager) {\n",
       "        IPython.notebook.keyboard_manager.register_events(el);\n",
       "    }\n",
       "    else {\n",
       "        // location in version 2\n",
       "        IPython.keyboard_manager.register_events(el);\n",
       "    }\n",
       "\n",
       "}\n",
       "\n",
       "mpl.figure.prototype._key_event_extra = function(event, name) {\n",
       "    var manager = IPython.notebook.keyboard_manager;\n",
       "    if (!manager)\n",
       "        manager = IPython.keyboard_manager;\n",
       "\n",
       "    // Check for shift+enter\n",
       "    if (event.shiftKey && event.which == 13) {\n",
       "        this.canvas_div.blur();\n",
       "        event.shiftKey = false;\n",
       "        // Send a \"J\" for go to next cell\n",
       "        event.which = 74;\n",
       "        event.keyCode = 74;\n",
       "        manager.command_mode();\n",
       "        manager.handle_keydown(event);\n",
       "    }\n",
       "}\n",
       "\n",
       "mpl.figure.prototype.handle_save = function(fig, msg) {\n",
       "    fig.ondownload(fig, null);\n",
       "}\n",
       "\n",
       "\n",
       "mpl.find_output_cell = function(html_output) {\n",
       "    // Return the cell and output element which can be found *uniquely* in the notebook.\n",
       "    // Note - this is a bit hacky, but it is done because the \"notebook_saving.Notebook\"\n",
       "    // IPython event is triggered only after the cells have been serialised, which for\n",
       "    // our purposes (turning an active figure into a static one), is too late.\n",
       "    var cells = IPython.notebook.get_cells();\n",
       "    var ncells = cells.length;\n",
       "    for (var i=0; i<ncells; i++) {\n",
       "        var cell = cells[i];\n",
       "        if (cell.cell_type === 'code'){\n",
       "            for (var j=0; j<cell.output_area.outputs.length; j++) {\n",
       "                var data = cell.output_area.outputs[j];\n",
       "                if (data.data) {\n",
       "                    // IPython >= 3 moved mimebundle to data attribute of output\n",
       "                    data = data.data;\n",
       "                }\n",
       "                if (data['text/html'] == html_output) {\n",
       "                    return [cell, data, j];\n",
       "                }\n",
       "            }\n",
       "        }\n",
       "    }\n",
       "}\n",
       "\n",
       "// Register the function which deals with the matplotlib target/channel.\n",
       "// The kernel may be null if the page has been refreshed.\n",
       "if (IPython.notebook.kernel != null) {\n",
       "    IPython.notebook.kernel.comm_manager.register_target('matplotlib', mpl.mpl_figure_comm);\n",
       "}\n"
      ],
      "text/plain": [
       "<IPython.core.display.Javascript object>"
      ]
     },
     "metadata": {},
     "output_type": "display_data"
    },
    {
     "data": {
      "text/html": [
       "<div id='6cc05466-386c-4900-a2a1-7dd8c65e3b81'></div>"
      ],
      "text/plain": [
       "<IPython.core.display.HTML object>"
      ]
     },
     "metadata": {},
     "output_type": "display_data"
    },
    {
     "data": {
      "text/plain": [
       "Text(0, 0.5, 'Predicted y')"
      ]
     },
     "execution_count": 325,
     "metadata": {},
     "output_type": "execute_result"
    }
   ],
   "source": [
    "plt.scatter(y_tr,der_predict_tr)\n",
    "u = np.linspace(0,500)\n",
    "plt.plot(u,u, c='black')\n",
    "plt.xlabel(\"True y\")\n",
    "plt.ylabel(\"Predicted y\")"
   ]
  },
  {
   "cell_type": "code",
   "execution_count": 188,
   "metadata": {},
   "outputs": [
    {
     "data": {
      "text/plain": [
       "0.9938881737927663"
      ]
     },
     "execution_count": 188,
     "metadata": {},
     "output_type": "execute_result"
    }
   ],
   "source": [
    "r2_score(y_tr,der_predict_tr)"
   ]
  },
  {
   "cell_type": "code",
   "execution_count": 189,
   "metadata": {},
   "outputs": [],
   "source": [
    "#x_tr_der[x_tr_der.index.contains(\"_NM_\")]"
   ]
  },
  {
   "cell_type": "markdown",
   "metadata": {},
   "source": [
    "## FEATURE REDUCTION"
   ]
  },
  {
   "cell_type": "code",
   "execution_count": 190,
   "metadata": {},
   "outputs": [],
   "source": [
    "# Compute PCA keeping only he n_components\n",
    "pca = PCA(n_components=100)"
   ]
  },
  {
   "cell_type": "code",
   "execution_count": 191,
   "metadata": {},
   "outputs": [],
   "source": [
    "# fit and transform train set and transform test set\n",
    "pca_tr = pca.fit_transform(x_tr)\n",
    "pca_te = pca.transform(x_te)"
   ]
  },
  {
   "cell_type": "code",
   "execution_count": 192,
   "metadata": {},
   "outputs": [
    {
     "data": {
      "text/plain": [
       "LinearRegression(copy_X=True, fit_intercept=True, n_jobs=None,\n",
       "         normalize=False)"
      ]
     },
     "execution_count": 192,
     "metadata": {},
     "output_type": "execute_result"
    }
   ],
   "source": [
    "#fit linear Regression model on PCA data\n",
    "lr.fit(pca_tr, y_tr)"
   ]
  },
  {
   "cell_type": "code",
   "execution_count": 193,
   "metadata": {},
   "outputs": [],
   "source": [
    "y_pred_pca = lr.predict(pca_te)"
   ]
  },
  {
   "cell_type": "code",
   "execution_count": 194,
   "metadata": {},
   "outputs": [
    {
     "data": {
      "text/plain": [
       "Text(0, 0.5, 'Predicted y')"
      ]
     },
     "execution_count": 194,
     "metadata": {},
     "output_type": "execute_result"
    }
   ],
   "source": [
    "# display plot to see \"accuracy\" of the model\n",
    "plt.scatter(y_te,y_pred_pca)\n",
    "u = np.linspace(0,500)\n",
    "plt.plot(u,u, c='black')\n",
    "plt.xlabel(\"True y\")\n",
    "plt.ylabel(\"Predicted y\")"
   ]
  },
  {
   "cell_type": "code",
   "execution_count": 195,
   "metadata": {},
   "outputs": [
    {
     "data": {
      "text/plain": [
       "0.9795026439581759"
      ]
     },
     "execution_count": 195,
     "metadata": {},
     "output_type": "execute_result"
    }
   ],
   "source": [
    "r2_score(y_te,y_pred_pca)"
   ]
  },
  {
   "cell_type": "markdown",
   "metadata": {},
   "source": [
    "**Almost as good as the linear model without feature reduction but here only using 100 features =0**"
   ]
  },
  {
   "cell_type": "code",
   "execution_count": 196,
   "metadata": {},
   "outputs": [],
   "source": [
    "# Check performance of pca models with different number of components\n",
    "max_pca_feat = 100\n",
    "\n",
    "def compute_scores(X,y):\n",
    "    \"\"\"Compute cross-validation on pca model with different number of components\"\"\"\n",
    "    pca = PCA()\n",
    "    pca_scores = []\n",
    "    \n",
    "    for n_feat in range(1,max_pca_feat):\n",
    "        pca.n_components = n_feat\n",
    "        pca_scores.append(np.mean(cross_val_score(pca,X,y, cv=3)))\n",
    "        print(n_feat)\n",
    "    return pca_scores"
   ]
  },
  {
   "cell_type": "code",
   "execution_count": 197,
   "metadata": {},
   "outputs": [],
   "source": [
    "# trick: Use pickle to avoid recalculating\n",
    "import pickle\n",
    "\n",
    "def load_pickle(file_path):\n",
    "    with open(file_path, 'rb') as file:\n",
    "        return pickle.load(file)\n",
    "\n",
    "def save_pickle(result, file_path):\n",
    "    with open(file_path, 'wb') as file:\n",
    "        pickle.dump(result, file)\n",
    "\n",
    "def features_computation(X,y):\n",
    "    try:\n",
    "        return load_pickle('./pca_cv_scores')\n",
    "    except (FileNotFoundError, EOFError) as e:\n",
    "        pca_scores = compute_scores(X,y)\n",
    "        save_pickle(pca_scores, './pca_cv_scores')\n",
    "        return pca_scores"
   ]
  },
  {
   "cell_type": "code",
   "execution_count": 198,
   "metadata": {},
   "outputs": [],
   "source": [
    "# compute cv_score of pca models with different number of components\n",
    "pca_scores = features_computation(x_tr,y_tr)"
   ]
  },
  {
   "cell_type": "code",
   "execution_count": 199,
   "metadata": {},
   "outputs": [
    {
     "data": {
      "text/plain": [
       "Text(0.5, 1.0, 'Number of Features')"
      ]
     },
     "execution_count": 199,
     "metadata": {},
     "output_type": "execute_result"
    }
   ],
   "source": [
    "# Display plot to help determine how many features to keep to not lose too much information\n",
    "plt.plot(pca_scores)\n",
    "plt.ylabel(\"CV scores\")\n",
    "plt.xlabel(\"n_components\")\n",
    "plt.title(\"Number of Features\")"
   ]
  },
  {
   "cell_type": "markdown",
   "metadata": {},
   "source": [
    "## TRAINING SET REDUCTION"
   ]
  },
  {
   "cell_type": "code",
   "execution_count": 200,
   "metadata": {},
   "outputs": [],
   "source": [
    "# Check performance of pca models with diff training set size // n_components = 100 determined in the above cell\n",
    "def compute_min_set(X,y):\n",
    "    \"\"\"Compute cross-validation on pca model with different training set size\"\"\"\n",
    "    \n",
    "    pca = PCA(n_components=100)\n",
    "    pca_scores = []\n",
    "    length = X.shape[0]\n",
    "    k = 50\n",
    "    div = round(length/k)\n",
    "    for i in range(k):\n",
    "        pca_scores.append(np.mean(cross_val_score(pca,X.iloc[:(1+i)*div,:],y[:(1+i)*div], cv=3)))\n",
    "        print(i)\n",
    "    return pca_scores"
   ]
  },
  {
   "cell_type": "code",
   "execution_count": 201,
   "metadata": {},
   "outputs": [
    {
     "name": "stdout",
     "output_type": "stream",
     "text": [
      "0\n",
      "1\n",
      "2\n",
      "3\n",
      "4\n",
      "5\n",
      "6\n",
      "7\n",
      "8\n",
      "9\n",
      "10\n",
      "11\n",
      "12\n",
      "13\n",
      "14\n",
      "15\n",
      "16\n",
      "17\n",
      "18\n",
      "19\n",
      "20\n",
      "21\n",
      "22\n",
      "23\n",
      "24\n",
      "25\n",
      "26\n",
      "27\n",
      "28\n",
      "29\n",
      "30\n",
      "31\n",
      "32\n",
      "33\n",
      "34\n",
      "35\n",
      "36\n",
      "37\n",
      "38\n",
      "39\n",
      "40\n",
      "41\n",
      "42\n",
      "43\n",
      "44\n",
      "45\n",
      "46\n",
      "47\n",
      "48\n",
      "49\n"
     ]
    }
   ],
   "source": [
    "# compute cv_score of pca model with increasing training set size\n",
    "min_set_score = compute_min_set(x_tr,y_tr)"
   ]
  },
  {
   "cell_type": "code",
   "execution_count": 202,
   "metadata": {},
   "outputs": [
    {
     "data": {
      "text/plain": [
       "Text(0.5, 1.0, 'Training set size')"
      ]
     },
     "execution_count": 202,
     "metadata": {},
     "output_type": "execute_result"
    }
   ],
   "source": [
    "# Display plot\n",
    "plt.plot(min_set_score)\n",
    "plt.ylabel(\"CV scores\")\n",
    "plt.xlabel(\"# slice[length/k]\")\n",
    "plt.title(\"Training set size\")"
   ]
  },
  {
   "cell_type": "code",
   "execution_count": 203,
   "metadata": {},
   "outputs": [
    {
     "data": {
      "text/plain": [
       "array([49, 48, 46, 47, 45, 44, 43, 42, 41, 40, 35, 34, 39, 33, 38, 37, 36,\n",
       "       32, 31, 30, 29, 28, 27, 26, 25, 24,  4,  8,  7,  5,  6, 23, 22, 20,\n",
       "        9,  3, 21, 18, 19, 10, 17, 16, 11,  2, 13, 12, 14, 15,  1,  0])"
      ]
     },
     "execution_count": 203,
     "metadata": {},
     "output_type": "execute_result"
    }
   ],
   "source": [
    "# index of the highest to the lowest values\n",
    "np.argsort(min_set_score)[::-1]"
   ]
  },
  {
   "cell_type": "markdown",
   "metadata": {},
   "source": [
    "**We can see that, we could take only ~ 8/50 of the train set to get almost the same performance**"
   ]
  },
  {
   "cell_type": "code",
   "execution_count": 204,
   "metadata": {},
   "outputs": [
    {
     "data": {
      "text/plain": [
       "0.9753478918686191"
      ]
     },
     "execution_count": 204,
     "metadata": {},
     "output_type": "execute_result"
    }
   ],
   "source": [
    "# Test what we found \n",
    "pca = PCA(n_components=100)\n",
    "k = 50\n",
    "length = x_tr.shape[0]\n",
    "div = round(length/k)\n",
    "slices = 8\n",
    "ind = round(slices*div)\n",
    "x_train = x_tr.iloc[:ind,:]\n",
    "y_train = y_tr[:ind]\n",
    "\n",
    "pca_train = pca.fit_transform(x_train)\n",
    "pca_test = pca.transform(x_te)\n",
    "\n",
    "lr.fit(pca_train, y_train)\n",
    "\n",
    "y_pred_pca = lr.predict(pca_test)\n",
    "\n",
    "plt.scatter(y_te,y_pred_pca)\n",
    "u = np.linspace(0,500)\n",
    "plt.plot(u,u, c='black')\n",
    "plt.xlabel(\"True y\")\n",
    "plt.ylabel(\"Predicted y\")\n",
    "\n",
    "r2_score(y_te,y_pred_pca)"
   ]
  },
  {
   "cell_type": "code",
   "execution_count": 205,
   "metadata": {},
   "outputs": [
    {
     "data": {
      "text/plain": [
       "Text(0, 0.5, 'bias')"
      ]
     },
     "execution_count": 205,
     "metadata": {},
     "output_type": "execute_result"
    }
   ],
   "source": [
    "bias_test = (y_te - y_pred_pca) / df_OCU_te\n",
    "\n",
    "plt.scatter(SNR_te,bias_test)\n",
    "plt.title(\"PCA\")\n",
    "plt.xlabel(\"SNR\")\n",
    "plt.ylabel(\"bias\")"
   ]
  },
  {
   "cell_type": "markdown",
   "metadata": {},
   "source": [
    "# K-Mean"
   ]
  },
  {
   "cell_type": "code",
   "execution_count": 215,
   "metadata": {},
   "outputs": [],
   "source": [
    "from sklearn.cluster import KMeans\n",
    "\n",
    "def cluster_prediction(X_train, y_train, X_test, y_test, n_clusters):\n",
    "\n",
    "    #n_clusters = 2\n",
    "    #X_train = x_tr_der\n",
    "    #y_train = y_tr_der\n",
    "    #X_test = x_te_der\n",
    "    #y_test = y_te_der\n",
    "\n",
    "    kmeans = KMeans(n_clusters, random_state=0)\n",
    "    clusters = kmeans.fit(X_train)\n",
    "    regression = [LinearRegression() for i in range(0, n_clusters)]\n",
    "\n",
    "    for i in range(0, n_clusters):\n",
    "        regression[i].fit(X_train.values[clusters.labels_ == i], y_train.values[clusters.labels_ == i])\n",
    "    group = kmeans.predict(X_test)\n",
    "    y_pred = pd.concat(pd.Series(regression[i].predict(X_test[group == i]), index=X_test[group == i].index)\n",
    "                       for i in range(0, n_clusters)).sort_index()\n",
    "    return y_pred\n",
    "\n"
   ]
  },
  {
   "cell_type": "code",
   "execution_count": 220,
   "metadata": {},
   "outputs": [],
   "source": [
    "y_pred = cluster_prediction(x_tr_der, y_tr_der, x_te_der, y_te_der, 3)"
   ]
  },
  {
   "cell_type": "code",
   "execution_count": 223,
   "metadata": {},
   "outputs": [
    {
     "data": {
      "text/plain": [
       "-1.0847170683189251"
      ]
     },
     "execution_count": 223,
     "metadata": {},
     "output_type": "execute_result"
    }
   ],
   "source": [
    "from sklearn.metrics import r2_score\n",
    "r2_score(y_te_der, y_pred)"
   ]
  },
  {
   "cell_type": "code",
   "execution_count": 221,
   "metadata": {},
   "outputs": [
    {
     "data": {
      "text/plain": [
       "(4646,)"
      ]
     },
     "execution_count": 221,
     "metadata": {},
     "output_type": "execute_result"
    }
   ],
   "source": [
    "y_te_der.shape"
   ]
  },
  {
   "cell_type": "markdown",
   "metadata": {},
   "source": [
    "# Elastic net CV"
   ]
  },
  {
   "cell_type": "code",
   "execution_count": 227,
   "metadata": {},
   "outputs": [
    {
     "name": "stderr",
     "output_type": "stream",
     "text": [
      "/Users/Raphael/anaconda3/lib/python3.6/site-packages/sklearn/linear_model/coordinate_descent.py:491: ConvergenceWarning: Objective did not converge. You might want to increase the number of iterations. Fitting data with very small alpha may cause precision problems.\n",
      "  ConvergenceWarning)\n",
      "/Users/Raphael/anaconda3/lib/python3.6/site-packages/sklearn/linear_model/coordinate_descent.py:491: ConvergenceWarning: Objective did not converge. You might want to increase the number of iterations. Fitting data with very small alpha may cause precision problems.\n",
      "  ConvergenceWarning)\n",
      "/Users/Raphael/anaconda3/lib/python3.6/site-packages/sklearn/linear_model/coordinate_descent.py:491: ConvergenceWarning: Objective did not converge. You might want to increase the number of iterations. Fitting data with very small alpha may cause precision problems.\n",
      "  ConvergenceWarning)\n",
      "/Users/Raphael/anaconda3/lib/python3.6/site-packages/sklearn/linear_model/coordinate_descent.py:491: ConvergenceWarning: Objective did not converge. You might want to increase the number of iterations. Fitting data with very small alpha may cause precision problems.\n",
      "  ConvergenceWarning)\n",
      "/Users/Raphael/anaconda3/lib/python3.6/site-packages/sklearn/linear_model/coordinate_descent.py:491: ConvergenceWarning: Objective did not converge. You might want to increase the number of iterations. Fitting data with very small alpha may cause precision problems.\n",
      "  ConvergenceWarning)\n",
      "/Users/Raphael/anaconda3/lib/python3.6/site-packages/sklearn/linear_model/coordinate_descent.py:491: ConvergenceWarning: Objective did not converge. You might want to increase the number of iterations. Fitting data with very small alpha may cause precision problems.\n",
      "  ConvergenceWarning)\n",
      "/Users/Raphael/anaconda3/lib/python3.6/site-packages/sklearn/linear_model/coordinate_descent.py:491: ConvergenceWarning: Objective did not converge. You might want to increase the number of iterations. Fitting data with very small alpha may cause precision problems.\n",
      "  ConvergenceWarning)\n",
      "/Users/Raphael/anaconda3/lib/python3.6/site-packages/sklearn/linear_model/coordinate_descent.py:491: ConvergenceWarning: Objective did not converge. You might want to increase the number of iterations. Fitting data with very small alpha may cause precision problems.\n",
      "  ConvergenceWarning)\n",
      "/Users/Raphael/anaconda3/lib/python3.6/site-packages/sklearn/linear_model/coordinate_descent.py:491: ConvergenceWarning: Objective did not converge. You might want to increase the number of iterations. Fitting data with very small alpha may cause precision problems.\n",
      "  ConvergenceWarning)\n",
      "/Users/Raphael/anaconda3/lib/python3.6/site-packages/sklearn/linear_model/coordinate_descent.py:491: ConvergenceWarning: Objective did not converge. You might want to increase the number of iterations. Fitting data with very small alpha may cause precision problems.\n",
      "  ConvergenceWarning)\n",
      "/Users/Raphael/anaconda3/lib/python3.6/site-packages/sklearn/linear_model/coordinate_descent.py:491: ConvergenceWarning: Objective did not converge. You might want to increase the number of iterations. Fitting data with very small alpha may cause precision problems.\n",
      "  ConvergenceWarning)\n",
      "/Users/Raphael/anaconda3/lib/python3.6/site-packages/sklearn/linear_model/coordinate_descent.py:491: ConvergenceWarning: Objective did not converge. You might want to increase the number of iterations. Fitting data with very small alpha may cause precision problems.\n",
      "  ConvergenceWarning)\n",
      "/Users/Raphael/anaconda3/lib/python3.6/site-packages/sklearn/linear_model/coordinate_descent.py:491: ConvergenceWarning: Objective did not converge. You might want to increase the number of iterations. Fitting data with very small alpha may cause precision problems.\n",
      "  ConvergenceWarning)\n",
      "/Users/Raphael/anaconda3/lib/python3.6/site-packages/sklearn/linear_model/coordinate_descent.py:491: ConvergenceWarning: Objective did not converge. You might want to increase the number of iterations. Fitting data with very small alpha may cause precision problems.\n",
      "  ConvergenceWarning)\n",
      "/Users/Raphael/anaconda3/lib/python3.6/site-packages/sklearn/linear_model/coordinate_descent.py:491: ConvergenceWarning: Objective did not converge. You might want to increase the number of iterations. Fitting data with very small alpha may cause precision problems.\n",
      "  ConvergenceWarning)\n",
      "/Users/Raphael/anaconda3/lib/python3.6/site-packages/sklearn/linear_model/coordinate_descent.py:491: ConvergenceWarning: Objective did not converge. You might want to increase the number of iterations. Fitting data with very small alpha may cause precision problems.\n",
      "  ConvergenceWarning)\n",
      "/Users/Raphael/anaconda3/lib/python3.6/site-packages/sklearn/linear_model/coordinate_descent.py:491: ConvergenceWarning: Objective did not converge. You might want to increase the number of iterations. Fitting data with very small alpha may cause precision problems.\n",
      "  ConvergenceWarning)\n",
      "/Users/Raphael/anaconda3/lib/python3.6/site-packages/sklearn/linear_model/coordinate_descent.py:491: ConvergenceWarning: Objective did not converge. You might want to increase the number of iterations. Fitting data with very small alpha may cause precision problems.\n",
      "  ConvergenceWarning)\n",
      "/Users/Raphael/anaconda3/lib/python3.6/site-packages/sklearn/linear_model/coordinate_descent.py:491: ConvergenceWarning: Objective did not converge. You might want to increase the number of iterations. Fitting data with very small alpha may cause precision problems.\n",
      "  ConvergenceWarning)\n",
      "/Users/Raphael/anaconda3/lib/python3.6/site-packages/sklearn/linear_model/coordinate_descent.py:491: ConvergenceWarning: Objective did not converge. You might want to increase the number of iterations. Fitting data with very small alpha may cause precision problems.\n",
      "  ConvergenceWarning)\n",
      "/Users/Raphael/anaconda3/lib/python3.6/site-packages/sklearn/linear_model/coordinate_descent.py:491: ConvergenceWarning: Objective did not converge. You might want to increase the number of iterations. Fitting data with very small alpha may cause precision problems.\n",
      "  ConvergenceWarning)\n",
      "/Users/Raphael/anaconda3/lib/python3.6/site-packages/sklearn/linear_model/coordinate_descent.py:491: ConvergenceWarning: Objective did not converge. You might want to increase the number of iterations. Fitting data with very small alpha may cause precision problems.\n",
      "  ConvergenceWarning)\n",
      "/Users/Raphael/anaconda3/lib/python3.6/site-packages/sklearn/linear_model/coordinate_descent.py:491: ConvergenceWarning: Objective did not converge. You might want to increase the number of iterations. Fitting data with very small alpha may cause precision problems.\n",
      "  ConvergenceWarning)\n",
      "/Users/Raphael/anaconda3/lib/python3.6/site-packages/sklearn/linear_model/coordinate_descent.py:491: ConvergenceWarning: Objective did not converge. You might want to increase the number of iterations. Fitting data with very small alpha may cause precision problems.\n",
      "  ConvergenceWarning)\n",
      "/Users/Raphael/anaconda3/lib/python3.6/site-packages/sklearn/linear_model/coordinate_descent.py:491: ConvergenceWarning: Objective did not converge. You might want to increase the number of iterations. Fitting data with very small alpha may cause precision problems.\n",
      "  ConvergenceWarning)\n",
      "/Users/Raphael/anaconda3/lib/python3.6/site-packages/sklearn/linear_model/coordinate_descent.py:491: ConvergenceWarning: Objective did not converge. You might want to increase the number of iterations. Fitting data with very small alpha may cause precision problems.\n",
      "  ConvergenceWarning)\n",
      "/Users/Raphael/anaconda3/lib/python3.6/site-packages/sklearn/linear_model/coordinate_descent.py:491: ConvergenceWarning: Objective did not converge. You might want to increase the number of iterations. Fitting data with very small alpha may cause precision problems.\n",
      "  ConvergenceWarning)\n",
      "/Users/Raphael/anaconda3/lib/python3.6/site-packages/sklearn/linear_model/coordinate_descent.py:491: ConvergenceWarning: Objective did not converge. You might want to increase the number of iterations. Fitting data with very small alpha may cause precision problems.\n",
      "  ConvergenceWarning)\n",
      "/Users/Raphael/anaconda3/lib/python3.6/site-packages/sklearn/linear_model/coordinate_descent.py:491: ConvergenceWarning: Objective did not converge. You might want to increase the number of iterations. Fitting data with very small alpha may cause precision problems.\n",
      "  ConvergenceWarning)\n"
     ]
    },
    {
     "name": "stderr",
     "output_type": "stream",
     "text": [
      "/Users/Raphael/anaconda3/lib/python3.6/site-packages/sklearn/linear_model/coordinate_descent.py:491: ConvergenceWarning: Objective did not converge. You might want to increase the number of iterations. Fitting data with very small alpha may cause precision problems.\n",
      "  ConvergenceWarning)\n",
      "/Users/Raphael/anaconda3/lib/python3.6/site-packages/sklearn/linear_model/coordinate_descent.py:491: ConvergenceWarning: Objective did not converge. You might want to increase the number of iterations. Fitting data with very small alpha may cause precision problems.\n",
      "  ConvergenceWarning)\n",
      "/Users/Raphael/anaconda3/lib/python3.6/site-packages/sklearn/linear_model/coordinate_descent.py:491: ConvergenceWarning: Objective did not converge. You might want to increase the number of iterations. Fitting data with very small alpha may cause precision problems.\n",
      "  ConvergenceWarning)\n",
      "/Users/Raphael/anaconda3/lib/python3.6/site-packages/sklearn/linear_model/coordinate_descent.py:491: ConvergenceWarning: Objective did not converge. You might want to increase the number of iterations. Fitting data with very small alpha may cause precision problems.\n",
      "  ConvergenceWarning)\n",
      "/Users/Raphael/anaconda3/lib/python3.6/site-packages/sklearn/linear_model/coordinate_descent.py:491: ConvergenceWarning: Objective did not converge. You might want to increase the number of iterations. Fitting data with very small alpha may cause precision problems.\n",
      "  ConvergenceWarning)\n",
      "/Users/Raphael/anaconda3/lib/python3.6/site-packages/sklearn/linear_model/coordinate_descent.py:491: ConvergenceWarning: Objective did not converge. You might want to increase the number of iterations. Fitting data with very small alpha may cause precision problems.\n",
      "  ConvergenceWarning)\n",
      "/Users/Raphael/anaconda3/lib/python3.6/site-packages/sklearn/linear_model/coordinate_descent.py:491: ConvergenceWarning: Objective did not converge. You might want to increase the number of iterations. Fitting data with very small alpha may cause precision problems.\n",
      "  ConvergenceWarning)\n",
      "/Users/Raphael/anaconda3/lib/python3.6/site-packages/sklearn/linear_model/coordinate_descent.py:491: ConvergenceWarning: Objective did not converge. You might want to increase the number of iterations. Fitting data with very small alpha may cause precision problems.\n",
      "  ConvergenceWarning)\n",
      "/Users/Raphael/anaconda3/lib/python3.6/site-packages/sklearn/linear_model/coordinate_descent.py:491: ConvergenceWarning: Objective did not converge. You might want to increase the number of iterations. Fitting data with very small alpha may cause precision problems.\n",
      "  ConvergenceWarning)\n",
      "/Users/Raphael/anaconda3/lib/python3.6/site-packages/sklearn/linear_model/coordinate_descent.py:491: ConvergenceWarning: Objective did not converge. You might want to increase the number of iterations. Fitting data with very small alpha may cause precision problems.\n",
      "  ConvergenceWarning)\n",
      "/Users/Raphael/anaconda3/lib/python3.6/site-packages/sklearn/linear_model/coordinate_descent.py:491: ConvergenceWarning: Objective did not converge. You might want to increase the number of iterations. Fitting data with very small alpha may cause precision problems.\n",
      "  ConvergenceWarning)\n",
      "/Users/Raphael/anaconda3/lib/python3.6/site-packages/sklearn/linear_model/coordinate_descent.py:491: ConvergenceWarning: Objective did not converge. You might want to increase the number of iterations. Fitting data with very small alpha may cause precision problems.\n",
      "  ConvergenceWarning)\n",
      "/Users/Raphael/anaconda3/lib/python3.6/site-packages/sklearn/linear_model/coordinate_descent.py:491: ConvergenceWarning: Objective did not converge. You might want to increase the number of iterations. Fitting data with very small alpha may cause precision problems.\n",
      "  ConvergenceWarning)\n",
      "/Users/Raphael/anaconda3/lib/python3.6/site-packages/sklearn/linear_model/coordinate_descent.py:491: ConvergenceWarning: Objective did not converge. You might want to increase the number of iterations. Fitting data with very small alpha may cause precision problems.\n",
      "  ConvergenceWarning)\n",
      "/Users/Raphael/anaconda3/lib/python3.6/site-packages/sklearn/linear_model/coordinate_descent.py:491: ConvergenceWarning: Objective did not converge. You might want to increase the number of iterations. Fitting data with very small alpha may cause precision problems.\n",
      "  ConvergenceWarning)\n",
      "/Users/Raphael/anaconda3/lib/python3.6/site-packages/sklearn/linear_model/coordinate_descent.py:491: ConvergenceWarning: Objective did not converge. You might want to increase the number of iterations. Fitting data with very small alpha may cause precision problems.\n",
      "  ConvergenceWarning)\n",
      "/Users/Raphael/anaconda3/lib/python3.6/site-packages/sklearn/linear_model/coordinate_descent.py:491: ConvergenceWarning: Objective did not converge. You might want to increase the number of iterations. Fitting data with very small alpha may cause precision problems.\n",
      "  ConvergenceWarning)\n",
      "/Users/Raphael/anaconda3/lib/python3.6/site-packages/sklearn/linear_model/coordinate_descent.py:491: ConvergenceWarning: Objective did not converge. You might want to increase the number of iterations. Fitting data with very small alpha may cause precision problems.\n",
      "  ConvergenceWarning)\n",
      "/Users/Raphael/anaconda3/lib/python3.6/site-packages/sklearn/linear_model/coordinate_descent.py:491: ConvergenceWarning: Objective did not converge. You might want to increase the number of iterations. Fitting data with very small alpha may cause precision problems.\n",
      "  ConvergenceWarning)\n",
      "/Users/Raphael/anaconda3/lib/python3.6/site-packages/sklearn/linear_model/coordinate_descent.py:491: ConvergenceWarning: Objective did not converge. You might want to increase the number of iterations. Fitting data with very small alpha may cause precision problems.\n",
      "  ConvergenceWarning)\n",
      "/Users/Raphael/anaconda3/lib/python3.6/site-packages/sklearn/linear_model/coordinate_descent.py:491: ConvergenceWarning: Objective did not converge. You might want to increase the number of iterations. Fitting data with very small alpha may cause precision problems.\n",
      "  ConvergenceWarning)\n",
      "/Users/Raphael/anaconda3/lib/python3.6/site-packages/sklearn/linear_model/coordinate_descent.py:491: ConvergenceWarning: Objective did not converge. You might want to increase the number of iterations. Fitting data with very small alpha may cause precision problems.\n",
      "  ConvergenceWarning)\n",
      "/Users/Raphael/anaconda3/lib/python3.6/site-packages/sklearn/linear_model/coordinate_descent.py:491: ConvergenceWarning: Objective did not converge. You might want to increase the number of iterations. Fitting data with very small alpha may cause precision problems.\n",
      "  ConvergenceWarning)\n",
      "/Users/Raphael/anaconda3/lib/python3.6/site-packages/sklearn/linear_model/coordinate_descent.py:491: ConvergenceWarning: Objective did not converge. You might want to increase the number of iterations. Fitting data with very small alpha may cause precision problems.\n",
      "  ConvergenceWarning)\n",
      "/Users/Raphael/anaconda3/lib/python3.6/site-packages/sklearn/linear_model/coordinate_descent.py:491: ConvergenceWarning: Objective did not converge. You might want to increase the number of iterations. Fitting data with very small alpha may cause precision problems.\n",
      "  ConvergenceWarning)\n",
      "/Users/Raphael/anaconda3/lib/python3.6/site-packages/sklearn/linear_model/coordinate_descent.py:491: ConvergenceWarning: Objective did not converge. You might want to increase the number of iterations. Fitting data with very small alpha may cause precision problems.\n",
      "  ConvergenceWarning)\n",
      "/Users/Raphael/anaconda3/lib/python3.6/site-packages/sklearn/linear_model/coordinate_descent.py:491: ConvergenceWarning: Objective did not converge. You might want to increase the number of iterations. Fitting data with very small alpha may cause precision problems.\n",
      "  ConvergenceWarning)\n",
      "/Users/Raphael/anaconda3/lib/python3.6/site-packages/sklearn/linear_model/coordinate_descent.py:491: ConvergenceWarning: Objective did not converge. You might want to increase the number of iterations. Fitting data with very small alpha may cause precision problems.\n",
      "  ConvergenceWarning)\n",
      "/Users/Raphael/anaconda3/lib/python3.6/site-packages/sklearn/linear_model/coordinate_descent.py:491: ConvergenceWarning: Objective did not converge. You might want to increase the number of iterations. Fitting data with very small alpha may cause precision problems.\n",
      "  ConvergenceWarning)\n"
     ]
    },
    {
     "name": "stderr",
     "output_type": "stream",
     "text": [
      "/Users/Raphael/anaconda3/lib/python3.6/site-packages/sklearn/linear_model/coordinate_descent.py:491: ConvergenceWarning: Objective did not converge. You might want to increase the number of iterations. Fitting data with very small alpha may cause precision problems.\n",
      "  ConvergenceWarning)\n",
      "/Users/Raphael/anaconda3/lib/python3.6/site-packages/sklearn/linear_model/coordinate_descent.py:491: ConvergenceWarning: Objective did not converge. You might want to increase the number of iterations. Fitting data with very small alpha may cause precision problems.\n",
      "  ConvergenceWarning)\n",
      "/Users/Raphael/anaconda3/lib/python3.6/site-packages/sklearn/linear_model/coordinate_descent.py:491: ConvergenceWarning: Objective did not converge. You might want to increase the number of iterations. Fitting data with very small alpha may cause precision problems.\n",
      "  ConvergenceWarning)\n",
      "/Users/Raphael/anaconda3/lib/python3.6/site-packages/sklearn/linear_model/coordinate_descent.py:491: ConvergenceWarning: Objective did not converge. You might want to increase the number of iterations. Fitting data with very small alpha may cause precision problems.\n",
      "  ConvergenceWarning)\n",
      "/Users/Raphael/anaconda3/lib/python3.6/site-packages/sklearn/linear_model/coordinate_descent.py:491: ConvergenceWarning: Objective did not converge. You might want to increase the number of iterations. Fitting data with very small alpha may cause precision problems.\n",
      "  ConvergenceWarning)\n",
      "/Users/Raphael/anaconda3/lib/python3.6/site-packages/sklearn/linear_model/coordinate_descent.py:491: ConvergenceWarning: Objective did not converge. You might want to increase the number of iterations. Fitting data with very small alpha may cause precision problems.\n",
      "  ConvergenceWarning)\n",
      "/Users/Raphael/anaconda3/lib/python3.6/site-packages/sklearn/linear_model/coordinate_descent.py:491: ConvergenceWarning: Objective did not converge. You might want to increase the number of iterations. Fitting data with very small alpha may cause precision problems.\n",
      "  ConvergenceWarning)\n",
      "/Users/Raphael/anaconda3/lib/python3.6/site-packages/sklearn/linear_model/coordinate_descent.py:491: ConvergenceWarning: Objective did not converge. You might want to increase the number of iterations. Fitting data with very small alpha may cause precision problems.\n",
      "  ConvergenceWarning)\n",
      "/Users/Raphael/anaconda3/lib/python3.6/site-packages/sklearn/linear_model/coordinate_descent.py:491: ConvergenceWarning: Objective did not converge. You might want to increase the number of iterations. Fitting data with very small alpha may cause precision problems.\n",
      "  ConvergenceWarning)\n",
      "/Users/Raphael/anaconda3/lib/python3.6/site-packages/sklearn/linear_model/coordinate_descent.py:491: ConvergenceWarning: Objective did not converge. You might want to increase the number of iterations. Fitting data with very small alpha may cause precision problems.\n",
      "  ConvergenceWarning)\n",
      "/Users/Raphael/anaconda3/lib/python3.6/site-packages/sklearn/linear_model/coordinate_descent.py:491: ConvergenceWarning: Objective did not converge. You might want to increase the number of iterations. Fitting data with very small alpha may cause precision problems.\n",
      "  ConvergenceWarning)\n",
      "/Users/Raphael/anaconda3/lib/python3.6/site-packages/sklearn/linear_model/coordinate_descent.py:491: ConvergenceWarning: Objective did not converge. You might want to increase the number of iterations. Fitting data with very small alpha may cause precision problems.\n",
      "  ConvergenceWarning)\n",
      "/Users/Raphael/anaconda3/lib/python3.6/site-packages/sklearn/linear_model/coordinate_descent.py:491: ConvergenceWarning: Objective did not converge. You might want to increase the number of iterations. Fitting data with very small alpha may cause precision problems.\n",
      "  ConvergenceWarning)\n",
      "/Users/Raphael/anaconda3/lib/python3.6/site-packages/sklearn/linear_model/coordinate_descent.py:491: ConvergenceWarning: Objective did not converge. You might want to increase the number of iterations. Fitting data with very small alpha may cause precision problems.\n",
      "  ConvergenceWarning)\n",
      "/Users/Raphael/anaconda3/lib/python3.6/site-packages/sklearn/linear_model/coordinate_descent.py:491: ConvergenceWarning: Objective did not converge. You might want to increase the number of iterations. Fitting data with very small alpha may cause precision problems.\n",
      "  ConvergenceWarning)\n",
      "/Users/Raphael/anaconda3/lib/python3.6/site-packages/sklearn/linear_model/coordinate_descent.py:491: ConvergenceWarning: Objective did not converge. You might want to increase the number of iterations. Fitting data with very small alpha may cause precision problems.\n",
      "  ConvergenceWarning)\n",
      "/Users/Raphael/anaconda3/lib/python3.6/site-packages/sklearn/linear_model/coordinate_descent.py:491: ConvergenceWarning: Objective did not converge. You might want to increase the number of iterations. Fitting data with very small alpha may cause precision problems.\n",
      "  ConvergenceWarning)\n",
      "/Users/Raphael/anaconda3/lib/python3.6/site-packages/sklearn/linear_model/coordinate_descent.py:491: ConvergenceWarning: Objective did not converge. You might want to increase the number of iterations. Fitting data with very small alpha may cause precision problems.\n",
      "  ConvergenceWarning)\n",
      "/Users/Raphael/anaconda3/lib/python3.6/site-packages/sklearn/linear_model/coordinate_descent.py:491: ConvergenceWarning: Objective did not converge. You might want to increase the number of iterations. Fitting data with very small alpha may cause precision problems.\n",
      "  ConvergenceWarning)\n",
      "/Users/Raphael/anaconda3/lib/python3.6/site-packages/sklearn/linear_model/coordinate_descent.py:491: ConvergenceWarning: Objective did not converge. You might want to increase the number of iterations. Fitting data with very small alpha may cause precision problems.\n",
      "  ConvergenceWarning)\n",
      "/Users/Raphael/anaconda3/lib/python3.6/site-packages/sklearn/linear_model/coordinate_descent.py:491: ConvergenceWarning: Objective did not converge. You might want to increase the number of iterations. Fitting data with very small alpha may cause precision problems.\n",
      "  ConvergenceWarning)\n",
      "/Users/Raphael/anaconda3/lib/python3.6/site-packages/sklearn/linear_model/coordinate_descent.py:491: ConvergenceWarning: Objective did not converge. You might want to increase the number of iterations. Fitting data with very small alpha may cause precision problems.\n",
      "  ConvergenceWarning)\n",
      "/Users/Raphael/anaconda3/lib/python3.6/site-packages/sklearn/linear_model/coordinate_descent.py:491: ConvergenceWarning: Objective did not converge. You might want to increase the number of iterations. Fitting data with very small alpha may cause precision problems.\n",
      "  ConvergenceWarning)\n",
      "/Users/Raphael/anaconda3/lib/python3.6/site-packages/sklearn/linear_model/coordinate_descent.py:491: ConvergenceWarning: Objective did not converge. You might want to increase the number of iterations. Fitting data with very small alpha may cause precision problems.\n",
      "  ConvergenceWarning)\n",
      "/Users/Raphael/anaconda3/lib/python3.6/site-packages/sklearn/linear_model/coordinate_descent.py:491: ConvergenceWarning: Objective did not converge. You might want to increase the number of iterations. Fitting data with very small alpha may cause precision problems.\n",
      "  ConvergenceWarning)\n",
      "/Users/Raphael/anaconda3/lib/python3.6/site-packages/sklearn/linear_model/coordinate_descent.py:491: ConvergenceWarning: Objective did not converge. You might want to increase the number of iterations. Fitting data with very small alpha may cause precision problems.\n",
      "  ConvergenceWarning)\n",
      "/Users/Raphael/anaconda3/lib/python3.6/site-packages/sklearn/linear_model/coordinate_descent.py:491: ConvergenceWarning: Objective did not converge. You might want to increase the number of iterations. Fitting data with very small alpha may cause precision problems.\n",
      "  ConvergenceWarning)\n",
      "/Users/Raphael/anaconda3/lib/python3.6/site-packages/sklearn/linear_model/coordinate_descent.py:491: ConvergenceWarning: Objective did not converge. You might want to increase the number of iterations. Fitting data with very small alpha may cause precision problems.\n",
      "  ConvergenceWarning)\n",
      "/Users/Raphael/anaconda3/lib/python3.6/site-packages/sklearn/linear_model/coordinate_descent.py:491: ConvergenceWarning: Objective did not converge. You might want to increase the number of iterations. Fitting data with very small alpha may cause precision problems.\n",
      "  ConvergenceWarning)\n"
     ]
    },
    {
     "name": "stderr",
     "output_type": "stream",
     "text": [
      "/Users/Raphael/anaconda3/lib/python3.6/site-packages/sklearn/linear_model/coordinate_descent.py:491: ConvergenceWarning: Objective did not converge. You might want to increase the number of iterations. Fitting data with very small alpha may cause precision problems.\n",
      "  ConvergenceWarning)\n",
      "/Users/Raphael/anaconda3/lib/python3.6/site-packages/sklearn/linear_model/coordinate_descent.py:491: ConvergenceWarning: Objective did not converge. You might want to increase the number of iterations. Fitting data with very small alpha may cause precision problems.\n",
      "  ConvergenceWarning)\n",
      "/Users/Raphael/anaconda3/lib/python3.6/site-packages/sklearn/linear_model/coordinate_descent.py:491: ConvergenceWarning: Objective did not converge. You might want to increase the number of iterations. Fitting data with very small alpha may cause precision problems.\n",
      "  ConvergenceWarning)\n",
      "/Users/Raphael/anaconda3/lib/python3.6/site-packages/sklearn/linear_model/coordinate_descent.py:491: ConvergenceWarning: Objective did not converge. You might want to increase the number of iterations. Fitting data with very small alpha may cause precision problems.\n",
      "  ConvergenceWarning)\n",
      "/Users/Raphael/anaconda3/lib/python3.6/site-packages/sklearn/linear_model/coordinate_descent.py:491: ConvergenceWarning: Objective did not converge. You might want to increase the number of iterations. Fitting data with very small alpha may cause precision problems.\n",
      "  ConvergenceWarning)\n",
      "/Users/Raphael/anaconda3/lib/python3.6/site-packages/sklearn/linear_model/coordinate_descent.py:491: ConvergenceWarning: Objective did not converge. You might want to increase the number of iterations. Fitting data with very small alpha may cause precision problems.\n",
      "  ConvergenceWarning)\n",
      "/Users/Raphael/anaconda3/lib/python3.6/site-packages/sklearn/linear_model/coordinate_descent.py:491: ConvergenceWarning: Objective did not converge. You might want to increase the number of iterations. Fitting data with very small alpha may cause precision problems.\n",
      "  ConvergenceWarning)\n",
      "/Users/Raphael/anaconda3/lib/python3.6/site-packages/sklearn/linear_model/coordinate_descent.py:491: ConvergenceWarning: Objective did not converge. You might want to increase the number of iterations. Fitting data with very small alpha may cause precision problems.\n",
      "  ConvergenceWarning)\n",
      "/Users/Raphael/anaconda3/lib/python3.6/site-packages/sklearn/linear_model/coordinate_descent.py:491: ConvergenceWarning: Objective did not converge. You might want to increase the number of iterations. Fitting data with very small alpha may cause precision problems.\n",
      "  ConvergenceWarning)\n",
      "/Users/Raphael/anaconda3/lib/python3.6/site-packages/sklearn/linear_model/coordinate_descent.py:491: ConvergenceWarning: Objective did not converge. You might want to increase the number of iterations. Fitting data with very small alpha may cause precision problems.\n",
      "  ConvergenceWarning)\n",
      "/Users/Raphael/anaconda3/lib/python3.6/site-packages/sklearn/linear_model/coordinate_descent.py:491: ConvergenceWarning: Objective did not converge. You might want to increase the number of iterations. Fitting data with very small alpha may cause precision problems.\n",
      "  ConvergenceWarning)\n",
      "/Users/Raphael/anaconda3/lib/python3.6/site-packages/sklearn/linear_model/coordinate_descent.py:491: ConvergenceWarning: Objective did not converge. You might want to increase the number of iterations. Fitting data with very small alpha may cause precision problems.\n",
      "  ConvergenceWarning)\n",
      "/Users/Raphael/anaconda3/lib/python3.6/site-packages/sklearn/linear_model/coordinate_descent.py:491: ConvergenceWarning: Objective did not converge. You might want to increase the number of iterations. Fitting data with very small alpha may cause precision problems.\n",
      "  ConvergenceWarning)\n",
      "/Users/Raphael/anaconda3/lib/python3.6/site-packages/sklearn/linear_model/coordinate_descent.py:491: ConvergenceWarning: Objective did not converge. You might want to increase the number of iterations. Fitting data with very small alpha may cause precision problems.\n",
      "  ConvergenceWarning)\n",
      "/Users/Raphael/anaconda3/lib/python3.6/site-packages/sklearn/linear_model/coordinate_descent.py:491: ConvergenceWarning: Objective did not converge. You might want to increase the number of iterations. Fitting data with very small alpha may cause precision problems.\n",
      "  ConvergenceWarning)\n",
      "/Users/Raphael/anaconda3/lib/python3.6/site-packages/sklearn/linear_model/coordinate_descent.py:491: ConvergenceWarning: Objective did not converge. You might want to increase the number of iterations. Fitting data with very small alpha may cause precision problems.\n",
      "  ConvergenceWarning)\n",
      "/Users/Raphael/anaconda3/lib/python3.6/site-packages/sklearn/linear_model/coordinate_descent.py:491: ConvergenceWarning: Objective did not converge. You might want to increase the number of iterations. Fitting data with very small alpha may cause precision problems.\n",
      "  ConvergenceWarning)\n"
     ]
    },
    {
     "data": {
      "text/plain": [
       "-1.0847170683189251"
      ]
     },
     "execution_count": 227,
     "metadata": {},
     "output_type": "execute_result"
    }
   ],
   "source": [
    "from sklearn.linear_model import ElasticNetCV\n",
    "from sklearn.metrics import r2_score\n",
    "\n",
    "regr_ElNetCV = ElasticNetCV(cv=5, random_state=0, l1_ratio=0.99)\n",
    "regr_ElNetCV.fit(x_tr_der.sort_index(), y_tr_der.sort_index())\n",
    "y_pred_ElNetCV = regr_ElNetCV.predict(x_te_der)\n",
    "\n",
    "\n",
    "r2_score(y_te_der, y_pred)"
   ]
  },
  {
   "cell_type": "code",
   "execution_count": 224,
   "metadata": {},
   "outputs": [],
   "source": [
    "import seaborn as sns\n",
    "\n",
    "def bias_plot(y_right, y_pred, OCU):\n",
    "    bias = (y_right - y_pred) / OCU\n",
    "    SNR = y_right / OCU\n",
    "\n",
    "    SNR.name = 'SNR'\n",
    "    bias.name = 'bias'\n",
    "    pd_plot = pd.concat([SNR_te, bias_test], axis=1)\n",
    "\n",
    "\n",
    "    sns.jointplot(\"SNR\", \"bias\", data=pd_plot, kind='reg', scatter_kws={\"s\": 2},\n",
    "                  joint_kws={'line_kws':{'color':'black'}});"
   ]
  },
  {
   "cell_type": "code",
   "execution_count": 228,
   "metadata": {},
   "outputs": [
    {
     "name": "stderr",
     "output_type": "stream",
     "text": [
      "/Users/Raphael/anaconda3/lib/python3.6/site-packages/matplotlib/axes/_axes.py:6462: UserWarning: The 'normed' kwarg is deprecated, and has been replaced by the 'density' kwarg.\n",
      "  warnings.warn(\"The 'normed' kwarg is deprecated, and has been \"\n",
      "/Users/Raphael/anaconda3/lib/python3.6/site-packages/matplotlib/axes/_axes.py:6462: UserWarning: The 'normed' kwarg is deprecated, and has been replaced by the 'density' kwarg.\n",
      "  warnings.warn(\"The 'normed' kwarg is deprecated, and has been \"\n"
     ]
    },
    {
     "data": {
      "image/png": "[encoded data removed]",
      "text/plain": [
       "<Figure size 432x432 with 3 Axes>"
      ]
     },
     "metadata": {},
     "output_type": "display_data"
    }
   ],
   "source": [
    "bias_plot(y_te_der, y_pred_ElNetCV, df_OCU_te)"
   ]
  },
  {
   "cell_type": "markdown",
   "metadata": {},
   "source": [
    "# Elastic Net"
   ]
  },
  {
   "cell_type": "code",
   "execution_count": 229,
   "metadata": {},
   "outputs": [
    {
     "data": {
      "text/plain": [
       "0.4167208086356209"
      ]
     },
     "execution_count": 229,
     "metadata": {},
     "output_type": "execute_result"
    }
   ],
   "source": [
    "from sklearn.linear_model import ElasticNet\n",
    "from sklearn.metrics import r2_score\n",
    "\n",
    "regr_ElNet = ElasticNet(alpha=alpha, random_state=0)\n",
    "regr_ElNet.fit(x_tr_der.sort_index(), y_tr_der.sort_index())\n",
    "\n",
    "y_pred_ElNet = regr2.predict(x_te_der)\n",
    "\n",
    "\n",
    "r2_score(y_te_der,y_pred_ElNet)"
   ]
  },
  {
   "cell_type": "code",
   "execution_count": 230,
   "metadata": {},
   "outputs": [
    {
     "name": "stderr",
     "output_type": "stream",
     "text": [
      "/Users/Raphael/anaconda3/lib/python3.6/site-packages/matplotlib/axes/_axes.py:6462: UserWarning: The 'normed' kwarg is deprecated, and has been replaced by the 'density' kwarg.\n",
      "  warnings.warn(\"The 'normed' kwarg is deprecated, and has been \"\n",
      "/Users/Raphael/anaconda3/lib/python3.6/site-packages/matplotlib/axes/_axes.py:6462: UserWarning: The 'normed' kwarg is deprecated, and has been replaced by the 'density' kwarg.\n",
      "  warnings.warn(\"The 'normed' kwarg is deprecated, and has been \"\n"
     ]
    },
    {
     "data": {
      "image/png": "[encoded data removed]",
      "text/plain": [
       "<Figure size 432x432 with 3 Axes>"
      ]
     },
     "metadata": {},
     "output_type": "display_data"
    }
   ],
   "source": [
    "bias_plot(y_te_der, y_pred_ElNet, df_OCU_te)"
   ]
  },
  {
   "cell_type": "code",
   "execution_count": null,
   "metadata": {},
   "outputs": [],
   "source": []
  }
 ],
 "metadata": {
  "kernelspec": {
   "display_name": "Python 3",
   "language": "python",
   "name": "python3"
  },
  "language_info": {
   "codemirror_mode": {
    "name": "ipython",
    "version": 3
   },
   "file_extension": ".py",
   "mimetype": "text/x-python",
   "name": "python",
   "nbconvert_exporter": "python",
   "pygments_lexer": "ipython3",
   "version": "3.6.5"
  }
 },
 "nbformat": 4,
 "nbformat_minor": 2
}

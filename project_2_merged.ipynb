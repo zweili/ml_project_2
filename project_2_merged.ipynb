{
 "cells": [
  {
   "cell_type": "code",
   "execution_count": 4,
   "metadata": {},
   "outputs": [],
   "source": [
    "import numpy as np\n",
    "import pandas as pd\n",
    "import matplotlib.pyplot as plt\n",
    "from sklearn.metrics import r2_score, mean_squared_error\n",
    "from sklearn.neural_network import MLPRegressor\n",
    "from sklearn.decomposition import PCA\n",
    "from sklearn.linear_model import LinearRegression, Ridge, Lasso\n",
    "from sklearn.cluster import KMeans\n",
    "from sklearn.model_selection import cross_val_score, train_test_split"
   ]
  },
  {
   "cell_type": "code",
   "execution_count": 5,
   "metadata": {},
   "outputs": [],
   "source": [
    "data = \"C:/Users/danie/Documents/EPFL MA1/Fall 1/Machine Learning/Carbon Analysis Project/data\""
   ]
  },
  {
   "cell_type": "code",
   "execution_count": 6,
   "metadata": {},
   "outputs": [],
   "source": [
    "df_meas = pd.read_csv(data + \"/IMPROVE_2015_measures_cs433.csv\")\n",
    "df_spec = pd.read_csv(data + \"/IMPROVE_2015_raw_spectra_cs433.csv\")\n",
    "df_split = pd.read_csv(data + \"/IMPROVE_2015_train_test_split_cs433.csv\")\n",
    "df_derive = pd.read_csv(data + \"/IMPROVE_2015_2nd-derivative_spectra_cs433.csv\")"
   ]
  },
  {
   "cell_type": "markdown",
   "metadata": {},
   "source": [
    "### Data Exploration"
   ]
  },
  {
   "cell_type": "code",
   "execution_count": 7,
   "metadata": {},
   "outputs": [
    {
     "data": {
      "text/html": [
       "<div>\n",
       "<style scoped>\n",
       "    .dataframe tbody tr th:only-of-type {\n",
       "        vertical-align: middle;\n",
       "    }\n",
       "\n",
       "    .dataframe tbody tr th {\n",
       "        vertical-align: top;\n",
       "    }\n",
       "\n",
       "    .dataframe thead th {\n",
       "        text-align: right;\n",
       "    }\n",
       "</style>\n",
       "<table border=\"1\" class=\"dataframe\">\n",
       "  <thead>\n",
       "    <tr style=\"text-align: right;\">\n",
       "      <th></th>\n",
       "      <th>Unnamed: 0</th>\n",
       "      <th>site</th>\n",
       "      <th>SiteCode</th>\n",
       "      <th>Date</th>\n",
       "      <th>flag</th>\n",
       "      <th>Latitude</th>\n",
       "      <th>Longitude</th>\n",
       "      <th>ECf:Value</th>\n",
       "      <th>ECf:Unc</th>\n",
       "      <th>MF:Value</th>\n",
       "      <th>MF:Unc</th>\n",
       "      <th>OCf:Value</th>\n",
       "      <th>OCf:Unc</th>\n",
       "      <th>SO4f:Value</th>\n",
       "      <th>SO4f:Unc</th>\n",
       "      <th>NO3f:Value</th>\n",
       "      <th>NO3f:Unc</th>\n",
       "      <th>DUSTf:Value</th>\n",
       "      <th>DUSTf:Unc</th>\n",
       "    </tr>\n",
       "  </thead>\n",
       "  <tbody>\n",
       "    <tr>\n",
       "      <th>0</th>\n",
       "      <td>0</td>\n",
       "      <td>CRLA1_04_21_2015_NM_0_csv</td>\n",
       "      <td>CRLA1</td>\n",
       "      <td>20150421</td>\n",
       "      <td>NM</td>\n",
       "      <td>42.8958</td>\n",
       "      <td>-122.1361</td>\n",
       "      <td>1.844414</td>\n",
       "      <td>1.023308</td>\n",
       "      <td>76.541793</td>\n",
       "      <td>2.718720</td>\n",
       "      <td>23.343977</td>\n",
       "      <td>3.196060</td>\n",
       "      <td>6.800987</td>\n",
       "      <td>0.142307</td>\n",
       "      <td>1.642580</td>\n",
       "      <td>0.095802</td>\n",
       "      <td>8.725530</td>\n",
       "      <td>0.758188</td>\n",
       "    </tr>\n",
       "    <tr>\n",
       "      <th>1</th>\n",
       "      <td>1</td>\n",
       "      <td>TONT1_05_09_2015_NM_0_csv</td>\n",
       "      <td>TONT1</td>\n",
       "      <td>20150509</td>\n",
       "      <td>NM</td>\n",
       "      <td>33.6548</td>\n",
       "      <td>-111.1068</td>\n",
       "      <td>0.218577</td>\n",
       "      <td>0.203142</td>\n",
       "      <td>23.273289</td>\n",
       "      <td>1.597004</td>\n",
       "      <td>3.774399</td>\n",
       "      <td>0.868154</td>\n",
       "      <td>3.132621</td>\n",
       "      <td>0.075339</td>\n",
       "      <td>2.733602</td>\n",
       "      <td>0.136727</td>\n",
       "      <td>4.686666</td>\n",
       "      <td>0.445060</td>\n",
       "    </tr>\n",
       "    <tr>\n",
       "      <th>2</th>\n",
       "      <td>2</td>\n",
       "      <td>BADL1_11_26_2015_NM_0_csv</td>\n",
       "      <td>BADL1</td>\n",
       "      <td>20151126</td>\n",
       "      <td>NM</td>\n",
       "      <td>43.7435</td>\n",
       "      <td>-101.9412</td>\n",
       "      <td>0.057109</td>\n",
       "      <td>0.178062</td>\n",
       "      <td>11.188888</td>\n",
       "      <td>1.473206</td>\n",
       "      <td>1.902453</td>\n",
       "      <td>0.738827</td>\n",
       "      <td>4.275544</td>\n",
       "      <td>0.113381</td>\n",
       "      <td>2.193672</td>\n",
       "      <td>0.136355</td>\n",
       "      <td>1.007311</td>\n",
       "      <td>0.121622</td>\n",
       "    </tr>\n",
       "    <tr>\n",
       "      <th>3</th>\n",
       "      <td>3</td>\n",
       "      <td>BRID1_10_27_2015_NM_0_csv</td>\n",
       "      <td>BRID1</td>\n",
       "      <td>20151027</td>\n",
       "      <td>NM</td>\n",
       "      <td>42.9749</td>\n",
       "      <td>-109.7579</td>\n",
       "      <td>0.090872</td>\n",
       "      <td>0.144012</td>\n",
       "      <td>6.564180</td>\n",
       "      <td>1.504830</td>\n",
       "      <td>1.569566</td>\n",
       "      <td>0.834177</td>\n",
       "      <td>0.788829</td>\n",
       "      <td>0.036832</td>\n",
       "      <td>0.556859</td>\n",
       "      <td>0.107056</td>\n",
       "      <td>0.337955</td>\n",
       "      <td>0.107560</td>\n",
       "    </tr>\n",
       "    <tr>\n",
       "      <th>4</th>\n",
       "      <td>4</td>\n",
       "      <td>SEQU1_04_03_2015_NM_0_csv</td>\n",
       "      <td>SEQU1</td>\n",
       "      <td>20150403</td>\n",
       "      <td>NM</td>\n",
       "      <td>36.4894</td>\n",
       "      <td>-118.8291</td>\n",
       "      <td>1.623977</td>\n",
       "      <td>0.971745</td>\n",
       "      <td>60.448977</td>\n",
       "      <td>2.306680</td>\n",
       "      <td>16.223032</td>\n",
       "      <td>2.258965</td>\n",
       "      <td>8.185925</td>\n",
       "      <td>0.169281</td>\n",
       "      <td>7.541357</td>\n",
       "      <td>0.309728</td>\n",
       "      <td>8.532945</td>\n",
       "      <td>0.735361</td>\n",
       "    </tr>\n",
       "  </tbody>\n",
       "</table>\n",
       "</div>"
      ],
      "text/plain": [
       "   Unnamed: 0                       site SiteCode      Date flag  Latitude  \\\n",
       "0           0  CRLA1_04_21_2015_NM_0_csv    CRLA1  20150421   NM   42.8958   \n",
       "1           1  TONT1_05_09_2015_NM_0_csv    TONT1  20150509   NM   33.6548   \n",
       "2           2  BADL1_11_26_2015_NM_0_csv    BADL1  20151126   NM   43.7435   \n",
       "3           3  BRID1_10_27_2015_NM_0_csv    BRID1  20151027   NM   42.9749   \n",
       "4           4  SEQU1_04_03_2015_NM_0_csv    SEQU1  20150403   NM   36.4894   \n",
       "\n",
       "   Longitude  ECf:Value   ECf:Unc   MF:Value    MF:Unc  OCf:Value   OCf:Unc  \\\n",
       "0  -122.1361   1.844414  1.023308  76.541793  2.718720  23.343977  3.196060   \n",
       "1  -111.1068   0.218577  0.203142  23.273289  1.597004   3.774399  0.868154   \n",
       "2  -101.9412   0.057109  0.178062  11.188888  1.473206   1.902453  0.738827   \n",
       "3  -109.7579   0.090872  0.144012   6.564180  1.504830   1.569566  0.834177   \n",
       "4  -118.8291   1.623977  0.971745  60.448977  2.306680  16.223032  2.258965   \n",
       "\n",
       "   SO4f:Value  SO4f:Unc  NO3f:Value  NO3f:Unc  DUSTf:Value  DUSTf:Unc  \n",
       "0    6.800987  0.142307    1.642580  0.095802     8.725530   0.758188  \n",
       "1    3.132621  0.075339    2.733602  0.136727     4.686666   0.445060  \n",
       "2    4.275544  0.113381    2.193672  0.136355     1.007311   0.121622  \n",
       "3    0.788829  0.036832    0.556859  0.107056     0.337955   0.107560  \n",
       "4    8.185925  0.169281    7.541357  0.309728     8.532945   0.735361  "
      ]
     },
     "execution_count": 7,
     "metadata": {},
     "output_type": "execute_result"
    }
   ],
   "source": [
    "df_meas.head()"
   ]
  },
  {
   "cell_type": "code",
   "execution_count": 8,
   "metadata": {},
   "outputs": [],
   "source": [
    "df_meas = df_meas.set_index(\"site\")"
   ]
  },
  {
   "cell_type": "code",
   "execution_count": 9,
   "metadata": {},
   "outputs": [],
   "source": [
    "df_OC = pd.DataFrame(df_meas[[\"OCf:Value\",\"OCf:Unc\"]]) #df_meas.loc[df_meas.flag == \"NM\",[\"OCf:Value\",\"OCf:Unc\"]] "
   ]
  },
  {
   "cell_type": "code",
   "execution_count": 10,
   "metadata": {},
   "outputs": [
    {
     "data": {
      "text/html": [
       "<div>\n",
       "<style scoped>\n",
       "    .dataframe tbody tr th:only-of-type {\n",
       "        vertical-align: middle;\n",
       "    }\n",
       "\n",
       "    .dataframe tbody tr th {\n",
       "        vertical-align: top;\n",
       "    }\n",
       "\n",
       "    .dataframe thead th {\n",
       "        text-align: right;\n",
       "    }\n",
       "</style>\n",
       "<table border=\"1\" class=\"dataframe\">\n",
       "  <thead>\n",
       "    <tr style=\"text-align: right;\">\n",
       "      <th></th>\n",
       "      <th>wavenumber</th>\n",
       "      <th>ACAD1_01_06_2015_NM_0_csv</th>\n",
       "      <th>ACAD1_01_09_2015_NM_0_csv</th>\n",
       "      <th>ACAD1_01_12_2015_NM_0_csv</th>\n",
       "      <th>ACAD1_01_15_2015_NM_0_csv</th>\n",
       "      <th>ACAD1_01_18_2015_NM_0_csv</th>\n",
       "      <th>ACAD1_01_21_2015_NM_0_csv</th>\n",
       "      <th>ACAD1_01_24_2015_NM_0_csv</th>\n",
       "      <th>ACAD1_01_27_2015_NM_0_csv</th>\n",
       "      <th>ACAD1_01_30_2015_NM_0_csv</th>\n",
       "      <th>...</th>\n",
       "      <th>YOSE1_07_02_2015_FB_0_csv</th>\n",
       "      <th>YOSEX_01_15_2015_FB_0_csv</th>\n",
       "      <th>YOSEX_02_05_2015_FB_0_csv</th>\n",
       "      <th>YOSEX_05_21_2015_FB_0_csv</th>\n",
       "      <th>YOSEX_06_11_2015_FB_0_csv</th>\n",
       "      <th>YOSEX_09_03_2015_FB_0_csv</th>\n",
       "      <th>YOSEX_10_15_2015_FB_0_csv</th>\n",
       "      <th>YOSEX_11_05_2015_FB_0_csv</th>\n",
       "      <th>ZICA1_08_13_2015_FB_0_csv</th>\n",
       "      <th>ZICA1_09_03_2015_FB_0_csv</th>\n",
       "    </tr>\n",
       "  </thead>\n",
       "  <tbody>\n",
       "    <tr>\n",
       "      <th>0</th>\n",
       "      <td>3998.423206</td>\n",
       "      <td>0.35778</td>\n",
       "      <td>0.58858</td>\n",
       "      <td>0.55091</td>\n",
       "      <td>0.49739</td>\n",
       "      <td>0.46597</td>\n",
       "      <td>0.42318</td>\n",
       "      <td>0.41571</td>\n",
       "      <td>0.34475</td>\n",
       "      <td>0.62313</td>\n",
       "      <td>...</td>\n",
       "      <td>0.24296</td>\n",
       "      <td>0.29209</td>\n",
       "      <td>0.40211</td>\n",
       "      <td>0.63614</td>\n",
       "      <td>0.54269</td>\n",
       "      <td>0.67122</td>\n",
       "      <td>0.53922</td>\n",
       "      <td>0.64828</td>\n",
       "      <td>0.40594</td>\n",
       "      <td>0.52207</td>\n",
       "    </tr>\n",
       "    <tr>\n",
       "      <th>1</th>\n",
       "      <td>3997.137539</td>\n",
       "      <td>0.35760</td>\n",
       "      <td>0.58832</td>\n",
       "      <td>0.55055</td>\n",
       "      <td>0.49715</td>\n",
       "      <td>0.46570</td>\n",
       "      <td>0.42296</td>\n",
       "      <td>0.41546</td>\n",
       "      <td>0.34452</td>\n",
       "      <td>0.62289</td>\n",
       "      <td>...</td>\n",
       "      <td>0.24282</td>\n",
       "      <td>0.29193</td>\n",
       "      <td>0.40188</td>\n",
       "      <td>0.63588</td>\n",
       "      <td>0.54250</td>\n",
       "      <td>0.67098</td>\n",
       "      <td>0.53898</td>\n",
       "      <td>0.64796</td>\n",
       "      <td>0.40579</td>\n",
       "      <td>0.52184</td>\n",
       "    </tr>\n",
       "    <tr>\n",
       "      <th>2</th>\n",
       "      <td>3995.851872</td>\n",
       "      <td>0.35743</td>\n",
       "      <td>0.58806</td>\n",
       "      <td>0.55019</td>\n",
       "      <td>0.49690</td>\n",
       "      <td>0.46543</td>\n",
       "      <td>0.42273</td>\n",
       "      <td>0.41520</td>\n",
       "      <td>0.34430</td>\n",
       "      <td>0.62265</td>\n",
       "      <td>...</td>\n",
       "      <td>0.24269</td>\n",
       "      <td>0.29177</td>\n",
       "      <td>0.40166</td>\n",
       "      <td>0.63563</td>\n",
       "      <td>0.54231</td>\n",
       "      <td>0.67074</td>\n",
       "      <td>0.53873</td>\n",
       "      <td>0.64762</td>\n",
       "      <td>0.40565</td>\n",
       "      <td>0.52161</td>\n",
       "    </tr>\n",
       "    <tr>\n",
       "      <th>3</th>\n",
       "      <td>3994.566206</td>\n",
       "      <td>0.35725</td>\n",
       "      <td>0.58781</td>\n",
       "      <td>0.54984</td>\n",
       "      <td>0.49665</td>\n",
       "      <td>0.46516</td>\n",
       "      <td>0.42250</td>\n",
       "      <td>0.41493</td>\n",
       "      <td>0.34407</td>\n",
       "      <td>0.62240</td>\n",
       "      <td>...</td>\n",
       "      <td>0.24255</td>\n",
       "      <td>0.29161</td>\n",
       "      <td>0.40143</td>\n",
       "      <td>0.63538</td>\n",
       "      <td>0.54213</td>\n",
       "      <td>0.67051</td>\n",
       "      <td>0.53848</td>\n",
       "      <td>0.64729</td>\n",
       "      <td>0.40550</td>\n",
       "      <td>0.52138</td>\n",
       "    </tr>\n",
       "    <tr>\n",
       "      <th>4</th>\n",
       "      <td>3993.280539</td>\n",
       "      <td>0.35708</td>\n",
       "      <td>0.58756</td>\n",
       "      <td>0.54948</td>\n",
       "      <td>0.49640</td>\n",
       "      <td>0.46489</td>\n",
       "      <td>0.42227</td>\n",
       "      <td>0.41466</td>\n",
       "      <td>0.34384</td>\n",
       "      <td>0.62215</td>\n",
       "      <td>...</td>\n",
       "      <td>0.24241</td>\n",
       "      <td>0.29145</td>\n",
       "      <td>0.40120</td>\n",
       "      <td>0.63512</td>\n",
       "      <td>0.54196</td>\n",
       "      <td>0.67027</td>\n",
       "      <td>0.53823</td>\n",
       "      <td>0.64696</td>\n",
       "      <td>0.40535</td>\n",
       "      <td>0.52114</td>\n",
       "    </tr>\n",
       "  </tbody>\n",
       "</table>\n",
       "<p>5 rows × 19939 columns</p>\n",
       "</div>"
      ],
      "text/plain": [
       "    wavenumber  ACAD1_01_06_2015_NM_0_csv  ACAD1_01_09_2015_NM_0_csv  \\\n",
       "0  3998.423206                    0.35778                    0.58858   \n",
       "1  3997.137539                    0.35760                    0.58832   \n",
       "2  3995.851872                    0.35743                    0.58806   \n",
       "3  3994.566206                    0.35725                    0.58781   \n",
       "4  3993.280539                    0.35708                    0.58756   \n",
       "\n",
       "   ACAD1_01_12_2015_NM_0_csv  ACAD1_01_15_2015_NM_0_csv  \\\n",
       "0                    0.55091                    0.49739   \n",
       "1                    0.55055                    0.49715   \n",
       "2                    0.55019                    0.49690   \n",
       "3                    0.54984                    0.49665   \n",
       "4                    0.54948                    0.49640   \n",
       "\n",
       "   ACAD1_01_18_2015_NM_0_csv  ACAD1_01_21_2015_NM_0_csv  \\\n",
       "0                    0.46597                    0.42318   \n",
       "1                    0.46570                    0.42296   \n",
       "2                    0.46543                    0.42273   \n",
       "3                    0.46516                    0.42250   \n",
       "4                    0.46489                    0.42227   \n",
       "\n",
       "   ACAD1_01_24_2015_NM_0_csv  ACAD1_01_27_2015_NM_0_csv  \\\n",
       "0                    0.41571                    0.34475   \n",
       "1                    0.41546                    0.34452   \n",
       "2                    0.41520                    0.34430   \n",
       "3                    0.41493                    0.34407   \n",
       "4                    0.41466                    0.34384   \n",
       "\n",
       "   ACAD1_01_30_2015_NM_0_csv            ...              \\\n",
       "0                    0.62313            ...               \n",
       "1                    0.62289            ...               \n",
       "2                    0.62265            ...               \n",
       "3                    0.62240            ...               \n",
       "4                    0.62215            ...               \n",
       "\n",
       "   YOSE1_07_02_2015_FB_0_csv  YOSEX_01_15_2015_FB_0_csv  \\\n",
       "0                    0.24296                    0.29209   \n",
       "1                    0.24282                    0.29193   \n",
       "2                    0.24269                    0.29177   \n",
       "3                    0.24255                    0.29161   \n",
       "4                    0.24241                    0.29145   \n",
       "\n",
       "   YOSEX_02_05_2015_FB_0_csv  YOSEX_05_21_2015_FB_0_csv  \\\n",
       "0                    0.40211                    0.63614   \n",
       "1                    0.40188                    0.63588   \n",
       "2                    0.40166                    0.63563   \n",
       "3                    0.40143                    0.63538   \n",
       "4                    0.40120                    0.63512   \n",
       "\n",
       "   YOSEX_06_11_2015_FB_0_csv  YOSEX_09_03_2015_FB_0_csv  \\\n",
       "0                    0.54269                    0.67122   \n",
       "1                    0.54250                    0.67098   \n",
       "2                    0.54231                    0.67074   \n",
       "3                    0.54213                    0.67051   \n",
       "4                    0.54196                    0.67027   \n",
       "\n",
       "   YOSEX_10_15_2015_FB_0_csv  YOSEX_11_05_2015_FB_0_csv  \\\n",
       "0                    0.53922                    0.64828   \n",
       "1                    0.53898                    0.64796   \n",
       "2                    0.53873                    0.64762   \n",
       "3                    0.53848                    0.64729   \n",
       "4                    0.53823                    0.64696   \n",
       "\n",
       "   ZICA1_08_13_2015_FB_0_csv  ZICA1_09_03_2015_FB_0_csv  \n",
       "0                    0.40594                    0.52207  \n",
       "1                    0.40579                    0.52184  \n",
       "2                    0.40565                    0.52161  \n",
       "3                    0.40550                    0.52138  \n",
       "4                    0.40535                    0.52114  \n",
       "\n",
       "[5 rows x 19939 columns]"
      ]
     },
     "execution_count": 10,
     "metadata": {},
     "output_type": "execute_result"
    }
   ],
   "source": [
    "df_spec.head()"
   ]
  },
  {
   "cell_type": "markdown",
   "metadata": {},
   "source": [
    "### Data Processing"
   ]
  },
  {
   "cell_type": "code",
   "execution_count": 11,
   "metadata": {},
   "outputs": [],
   "source": [
    "df_spec = df_spec.T"
   ]
  },
  {
   "cell_type": "code",
   "execution_count": 12,
   "metadata": {},
   "outputs": [
    {
     "data": {
      "text/html": [
       "<div>\n",
       "<style scoped>\n",
       "    .dataframe tbody tr th:only-of-type {\n",
       "        vertical-align: middle;\n",
       "    }\n",
       "\n",
       "    .dataframe tbody tr th {\n",
       "        vertical-align: top;\n",
       "    }\n",
       "\n",
       "    .dataframe thead th {\n",
       "        text-align: right;\n",
       "    }\n",
       "</style>\n",
       "<table border=\"1\" class=\"dataframe\">\n",
       "  <thead>\n",
       "    <tr style=\"text-align: right;\">\n",
       "      <th></th>\n",
       "      <th>0</th>\n",
       "      <th>1</th>\n",
       "      <th>2</th>\n",
       "      <th>3</th>\n",
       "      <th>4</th>\n",
       "      <th>5</th>\n",
       "      <th>6</th>\n",
       "      <th>7</th>\n",
       "      <th>8</th>\n",
       "      <th>9</th>\n",
       "      <th>...</th>\n",
       "      <th>2774</th>\n",
       "      <th>2775</th>\n",
       "      <th>2776</th>\n",
       "      <th>2777</th>\n",
       "      <th>2778</th>\n",
       "      <th>2779</th>\n",
       "      <th>2780</th>\n",
       "      <th>2781</th>\n",
       "      <th>2782</th>\n",
       "      <th>2783</th>\n",
       "    </tr>\n",
       "  </thead>\n",
       "  <tbody>\n",
       "    <tr>\n",
       "      <th>wavenumber</th>\n",
       "      <td>3998.423206</td>\n",
       "      <td>3997.137539</td>\n",
       "      <td>3995.851872</td>\n",
       "      <td>3994.566206</td>\n",
       "      <td>3993.280539</td>\n",
       "      <td>3991.994872</td>\n",
       "      <td>3990.709206</td>\n",
       "      <td>3989.423539</td>\n",
       "      <td>3988.137873</td>\n",
       "      <td>3986.852206</td>\n",
       "      <td>...</td>\n",
       "      <td>431.983986</td>\n",
       "      <td>430.698320</td>\n",
       "      <td>429.412653</td>\n",
       "      <td>428.126986</td>\n",
       "      <td>426.841320</td>\n",
       "      <td>425.555653</td>\n",
       "      <td>424.269986</td>\n",
       "      <td>422.984320</td>\n",
       "      <td>421.698653</td>\n",
       "      <td>420.412987</td>\n",
       "    </tr>\n",
       "    <tr>\n",
       "      <th>ACAD1_01_06_2015_NM_0_csv</th>\n",
       "      <td>0.357780</td>\n",
       "      <td>0.357600</td>\n",
       "      <td>0.357430</td>\n",
       "      <td>0.357250</td>\n",
       "      <td>0.357080</td>\n",
       "      <td>0.356890</td>\n",
       "      <td>0.356710</td>\n",
       "      <td>0.356520</td>\n",
       "      <td>0.356340</td>\n",
       "      <td>0.356150</td>\n",
       "      <td>...</td>\n",
       "      <td>-0.074765</td>\n",
       "      <td>-0.074292</td>\n",
       "      <td>-0.073728</td>\n",
       "      <td>-0.073047</td>\n",
       "      <td>-0.072208</td>\n",
       "      <td>-0.071185</td>\n",
       "      <td>-0.069949</td>\n",
       "      <td>-0.068499</td>\n",
       "      <td>-0.066864</td>\n",
       "      <td>-0.065079</td>\n",
       "    </tr>\n",
       "    <tr>\n",
       "      <th>ACAD1_01_09_2015_NM_0_csv</th>\n",
       "      <td>0.588580</td>\n",
       "      <td>0.588320</td>\n",
       "      <td>0.588060</td>\n",
       "      <td>0.587810</td>\n",
       "      <td>0.587560</td>\n",
       "      <td>0.587310</td>\n",
       "      <td>0.587070</td>\n",
       "      <td>0.586820</td>\n",
       "      <td>0.586570</td>\n",
       "      <td>0.586320</td>\n",
       "      <td>...</td>\n",
       "      <td>-0.099660</td>\n",
       "      <td>-0.099046</td>\n",
       "      <td>-0.098279</td>\n",
       "      <td>-0.097314</td>\n",
       "      <td>-0.096101</td>\n",
       "      <td>-0.094638</td>\n",
       "      <td>-0.092941</td>\n",
       "      <td>-0.091018</td>\n",
       "      <td>-0.088871</td>\n",
       "      <td>-0.086477</td>\n",
       "    </tr>\n",
       "    <tr>\n",
       "      <th>ACAD1_01_12_2015_NM_0_csv</th>\n",
       "      <td>0.550910</td>\n",
       "      <td>0.550550</td>\n",
       "      <td>0.550190</td>\n",
       "      <td>0.549840</td>\n",
       "      <td>0.549480</td>\n",
       "      <td>0.549120</td>\n",
       "      <td>0.548750</td>\n",
       "      <td>0.548380</td>\n",
       "      <td>0.548010</td>\n",
       "      <td>0.547640</td>\n",
       "      <td>...</td>\n",
       "      <td>-0.095560</td>\n",
       "      <td>-0.095277</td>\n",
       "      <td>-0.094907</td>\n",
       "      <td>-0.094408</td>\n",
       "      <td>-0.093729</td>\n",
       "      <td>-0.092851</td>\n",
       "      <td>-0.091786</td>\n",
       "      <td>-0.090555</td>\n",
       "      <td>-0.089180</td>\n",
       "      <td>-0.087647</td>\n",
       "    </tr>\n",
       "    <tr>\n",
       "      <th>ACAD1_01_15_2015_NM_0_csv</th>\n",
       "      <td>0.497390</td>\n",
       "      <td>0.497150</td>\n",
       "      <td>0.496900</td>\n",
       "      <td>0.496650</td>\n",
       "      <td>0.496400</td>\n",
       "      <td>0.496150</td>\n",
       "      <td>0.495900</td>\n",
       "      <td>0.495640</td>\n",
       "      <td>0.495390</td>\n",
       "      <td>0.495150</td>\n",
       "      <td>...</td>\n",
       "      <td>-0.105530</td>\n",
       "      <td>-0.105590</td>\n",
       "      <td>-0.105570</td>\n",
       "      <td>-0.105420</td>\n",
       "      <td>-0.105160</td>\n",
       "      <td>-0.104810</td>\n",
       "      <td>-0.104370</td>\n",
       "      <td>-0.103790</td>\n",
       "      <td>-0.103030</td>\n",
       "      <td>-0.102080</td>\n",
       "    </tr>\n",
       "  </tbody>\n",
       "</table>\n",
       "<p>5 rows × 2784 columns</p>\n",
       "</div>"
      ],
      "text/plain": [
       "                                  0            1            2            3     \\\n",
       "wavenumber                 3998.423206  3997.137539  3995.851872  3994.566206   \n",
       "ACAD1_01_06_2015_NM_0_csv     0.357780     0.357600     0.357430     0.357250   \n",
       "ACAD1_01_09_2015_NM_0_csv     0.588580     0.588320     0.588060     0.587810   \n",
       "ACAD1_01_12_2015_NM_0_csv     0.550910     0.550550     0.550190     0.549840   \n",
       "ACAD1_01_15_2015_NM_0_csv     0.497390     0.497150     0.496900     0.496650   \n",
       "\n",
       "                                  4            5            6            7     \\\n",
       "wavenumber                 3993.280539  3991.994872  3990.709206  3989.423539   \n",
       "ACAD1_01_06_2015_NM_0_csv     0.357080     0.356890     0.356710     0.356520   \n",
       "ACAD1_01_09_2015_NM_0_csv     0.587560     0.587310     0.587070     0.586820   \n",
       "ACAD1_01_12_2015_NM_0_csv     0.549480     0.549120     0.548750     0.548380   \n",
       "ACAD1_01_15_2015_NM_0_csv     0.496400     0.496150     0.495900     0.495640   \n",
       "\n",
       "                                  8            9        ...            2774  \\\n",
       "wavenumber                 3988.137873  3986.852206     ...      431.983986   \n",
       "ACAD1_01_06_2015_NM_0_csv     0.356340     0.356150     ...       -0.074765   \n",
       "ACAD1_01_09_2015_NM_0_csv     0.586570     0.586320     ...       -0.099660   \n",
       "ACAD1_01_12_2015_NM_0_csv     0.548010     0.547640     ...       -0.095560   \n",
       "ACAD1_01_15_2015_NM_0_csv     0.495390     0.495150     ...       -0.105530   \n",
       "\n",
       "                                 2775        2776        2777        2778  \\\n",
       "wavenumber                 430.698320  429.412653  428.126986  426.841320   \n",
       "ACAD1_01_06_2015_NM_0_csv   -0.074292   -0.073728   -0.073047   -0.072208   \n",
       "ACAD1_01_09_2015_NM_0_csv   -0.099046   -0.098279   -0.097314   -0.096101   \n",
       "ACAD1_01_12_2015_NM_0_csv   -0.095277   -0.094907   -0.094408   -0.093729   \n",
       "ACAD1_01_15_2015_NM_0_csv   -0.105590   -0.105570   -0.105420   -0.105160   \n",
       "\n",
       "                                 2779        2780        2781        2782  \\\n",
       "wavenumber                 425.555653  424.269986  422.984320  421.698653   \n",
       "ACAD1_01_06_2015_NM_0_csv   -0.071185   -0.069949   -0.068499   -0.066864   \n",
       "ACAD1_01_09_2015_NM_0_csv   -0.094638   -0.092941   -0.091018   -0.088871   \n",
       "ACAD1_01_12_2015_NM_0_csv   -0.092851   -0.091786   -0.090555   -0.089180   \n",
       "ACAD1_01_15_2015_NM_0_csv   -0.104810   -0.104370   -0.103790   -0.103030   \n",
       "\n",
       "                                 2783  \n",
       "wavenumber                 420.412987  \n",
       "ACAD1_01_06_2015_NM_0_csv   -0.065079  \n",
       "ACAD1_01_09_2015_NM_0_csv   -0.086477  \n",
       "ACAD1_01_12_2015_NM_0_csv   -0.087647  \n",
       "ACAD1_01_15_2015_NM_0_csv   -0.102080  \n",
       "\n",
       "[5 rows x 2784 columns]"
      ]
     },
     "execution_count": 12,
     "metadata": {},
     "output_type": "execute_result"
    }
   ],
   "source": [
    "df_spec.head()"
   ]
  },
  {
   "cell_type": "markdown",
   "metadata": {},
   "source": [
    "#  Merge IR spectra with Measure Data Frame\n",
    "This will ensure that the data points are aligned by the label"
   ]
  },
  {
   "cell_type": "code",
   "execution_count": 13,
   "metadata": {},
   "outputs": [],
   "source": [
    "pd_merge = df_OC.merge(df_spec, right_index=True, left_index=True)"
   ]
  },
  {
   "cell_type": "code",
   "execution_count": 14,
   "metadata": {},
   "outputs": [],
   "source": [
    "df_split = df_split.set_index(\"site\", drop=True).drop([\"Unnamed: 0\"], axis=1)"
   ]
  },
  {
   "cell_type": "code",
   "execution_count": 15,
   "metadata": {},
   "outputs": [],
   "source": [
    "pd_merge_again = pd_merge.merge(df_split, right_index=True, left_index=True)"
   ]
  },
  {
   "cell_type": "code",
   "execution_count": 16,
   "metadata": {
    "scrolled": true
   },
   "outputs": [
    {
     "data": {
      "text/plain": [
       "CRLA1_04_21_2015_NM_0_csv       23.343977\n",
       "TONT1_05_09_2015_NM_0_csv        3.774399\n",
       "BADL1_11_26_2015_NM_0_csv        1.902453\n",
       "BRID1_10_27_2015_NM_0_csv        1.569566\n",
       "SEQU1_04_03_2015_NM_0_csv       16.223032\n",
       "PINN1_08_04_2015_NM_QC_0_csv     1.969049\n",
       "PINN1_08_04_2015_NM_0_csv        1.969049\n",
       "BRIS1_12_17_2015_NM_0_csv        9.704800\n",
       "BRCA1_04_15_2015_NM_0_csv        1.304018\n",
       "WHIT1_12_14_2015_NM_0_csv        1.178174\n",
       "DOME1_08_31_2015_NM_0_csv       24.109274\n",
       "GLAC1_04_09_2015_NM_0_csv        7.833412\n",
       "LOST1_03_07_2015_NM_0_csv        3.838577\n",
       "MAKA2_03_31_2015_NM_0_csv        0.127425\n",
       "ELLI1_08_13_2015_NM_2_0_csv     16.295581\n",
       "BADL1_10_09_2015_NM_0_csv       21.264523\n",
       "MOZI1_04_15_2015_NM_0_csv        1.834183\n",
       "IKBA1_01_06_2015_NM_0_csv        4.680329\n",
       "SHEN1_02_08_2015_NM_0_csv       16.457420\n",
       "PHOE5_11_23_2015_NM_0_csv       35.038568\n",
       "MORA1_04_21_2015_NM_0_csv        8.615637\n",
       "BYIS1_08_07_2015_NM_0_csv        1.922358\n",
       "SIPS1_08_01_2015_NM_0_csv       13.305918\n",
       "NOCA1_10_06_2015_NM_0_csv       16.050682\n",
       "SAGU1_08_31_2015_NM_0_csv        5.935330\n",
       "PUSO1_09_27_2015_NM_0_csv       14.070471\n",
       "ELDO1_07_05_2015_NM_0_csv       22.482693\n",
       "GRBA1_11_08_2015_NM_0_csv        3.655902\n",
       "HACR1_11_14_2015_NM_0_csv        0.545790\n",
       "VILA1_11_14_2015_NM_0_csv        8.991403\n",
       "                                  ...    \n",
       "ROMA1_11_29_2015_NM_0_csv       18.477812\n",
       "TALL1_09_18_2015_NM_0_csv        8.313629\n",
       "LIGO1_01_03_2015_NM_0_csv        4.878443\n",
       "NOAB1_12_02_2015_NM_0_csv        1.672064\n",
       "ORPI1_12_11_2015_NM_0_csv        3.535918\n",
       "JARB1_01_12_2015_NM_0_csv        0.584111\n",
       "DOME1_06_23_2015_NM_0_csv       12.876485\n",
       "CABI1_02_02_2015_NM_0_csv        0.122775\n",
       "NOCA1_08_10_2015_NM_0_csv       26.175892\n",
       "SAGA1_03_28_2015_NM_0_csv       10.213571\n",
       "BRMA1_10_12_2015_NM_0_csv       13.564118\n",
       "MACA1_05_21_2015_NM_2_0_csv      7.987811\n",
       "FLTO1_02_05_2015_NM_0_csv        1.610026\n",
       "BALD1_08_01_2015_NM_0_csv        5.332989\n",
       "JARB1_01_27_2015_NM_0_csv        0.707816\n",
       "SNPA1_07_02_2015_NM_0_csv       20.976840\n",
       "NOCH1_10_03_2015_NM_0_csv        9.039304\n",
       "KALM1_10_12_2015_NM_0_csv        8.268333\n",
       "DOME1_07_05_2015_NM_0_csv       13.661500\n",
       "BRID1_09_03_2015_NM_0_csv        3.779421\n",
       "SAMAX_02_17_2015_NM_0_csv        9.514126\n",
       "CRES1_05_21_2015_NM_1_csv        0.730139\n",
       "IKBA1_07_08_2015_NM_0_csv        3.443278\n",
       "SHEN1_04_09_2015_NM_0_csv        3.717662\n",
       "THRO1_10_09_2015_NM_0_csv        9.521567\n",
       "SYCA1_09_06_2015_NM_0_csv        7.048397\n",
       "LOST1_10_15_2015_NM_0_csv        7.630647\n",
       "GRBA1_02_23_2015_NM_0_csv        8.156161\n",
       "YOSEX_07_23_2015_NM_0_csv        8.682605\n",
       "PHOE5_03_25_2015_NM_0_csv       13.914491\n",
       "Name: OCf:Value, Length: 18008, dtype: float64"
      ]
     },
     "execution_count": 16,
     "metadata": {},
     "output_type": "execute_result"
    }
   ],
   "source": [
    "pd_merge_again[\"OCf:Value\"]"
   ]
  },
  {
   "cell_type": "code",
   "execution_count": 17,
   "metadata": {},
   "outputs": [],
   "source": [
    "set_train = pd_merge_again[pd_merge_again[\"usage\"] == \"calibration\"]"
   ]
  },
  {
   "cell_type": "code",
   "execution_count": 18,
   "metadata": {},
   "outputs": [],
   "source": [
    "set_test = pd_merge_again[pd_merge_again[\"usage\"] == \"test\"]"
   ]
  },
  {
   "cell_type": "code",
   "execution_count": 19,
   "metadata": {},
   "outputs": [],
   "source": [
    "df_OCU_tr = set_train[\"OCf:Unc\"]\n",
    "df_OCU_te = set_test[\"OCf:Unc\"]"
   ]
  },
  {
   "cell_type": "code",
   "execution_count": 22,
   "metadata": {},
   "outputs": [],
   "source": [
    "y_tr = set_train[\"OCf:Value\"]\n",
    "y_te = set_test[\"OCf:Value\"]\n",
    "x_tr = set_train.drop([\"OCf:Value\",\"OCf:Unc\",\"usage\"], axis=1)\n",
    "x_te = set_test.drop([\"OCf:Value\",\"OCf:Unc\",\"usage\"], axis=1)"
   ]
  },
  {
   "cell_type": "markdown",
   "metadata": {},
   "source": [
    "### LinearRegression"
   ]
  },
  {
   "cell_type": "code",
   "execution_count": 23,
   "metadata": {},
   "outputs": [],
   "source": [
    "lr = LinearRegression()"
   ]
  },
  {
   "cell_type": "code",
   "execution_count": 55,
   "metadata": {},
   "outputs": [
    {
     "data": {
      "text/plain": [
       "array([0.97329975, 0.980349  , 0.981138  ])"
      ]
     },
     "execution_count": 55,
     "metadata": {},
     "output_type": "execute_result"
    }
   ],
   "source": [
    "cross_val_score(lr, x_tr, y_tr, cv=3)"
   ]
  },
  {
   "cell_type": "code",
   "execution_count": 65,
   "metadata": {},
   "outputs": [
    {
     "data": {
      "text/plain": [
       "LinearRegression(copy_X=True, fit_intercept=True, n_jobs=None,\n",
       "         normalize=False)"
      ]
     },
     "execution_count": 65,
     "metadata": {},
     "output_type": "execute_result"
    }
   ],
   "source": [
    "lr.fit(x_tr,y_tr)"
   ]
  },
  {
   "cell_type": "code",
   "execution_count": 66,
   "metadata": {},
   "outputs": [],
   "source": [
    "y_pred_tr = lr.predict(x_tr)\n",
    "y_pred_te = lr.predict(x_te)"
   ]
  },
  {
   "cell_type": "code",
   "execution_count": 67,
   "metadata": {},
   "outputs": [
    {
     "data": {
      "text/plain": [
       "Text(0, 0.5, 'Predicted y')"
      ]
     },
     "execution_count": 67,
     "metadata": {},
     "output_type": "execute_result"
    },
    {
     "data": {
      "image/png": "[encoded data removed]",
      "text/plain": [
       "<Figure size 432x288 with 1 Axes>"
      ]
     },
     "metadata": {
      "needs_background": "light"
     },
     "output_type": "display_data"
    }
   ],
   "source": [
    "plt.scatter(y_te,y_pred_te)\n",
    "u = np.linspace(0,500)\n",
    "plt.plot(u,u, c='black')\n",
    "plt.xlabel(\"True y\")\n",
    "plt.ylabel(\"Predicted y\")"
   ]
  },
  {
   "cell_type": "code",
   "execution_count": 68,
   "metadata": {},
   "outputs": [
    {
     "data": {
      "text/plain": [
       "0.9756956784630024"
      ]
     },
     "execution_count": 68,
     "metadata": {},
     "output_type": "execute_result"
    }
   ],
   "source": [
    "r2_score(y_te,y_pred_te)"
   ]
  },
  {
   "cell_type": "code",
   "execution_count": 69,
   "metadata": {},
   "outputs": [],
   "source": [
    "#bias_tr = (y_tr - y_pred_tr) / df_OCU_tr\n",
    "bias_te = (y_te - y_pred_te) / df_OCU_te"
   ]
  },
  {
   "cell_type": "code",
   "execution_count": 30,
   "metadata": {},
   "outputs": [],
   "source": [
    "#SNR_tr = y_tr / df_OCU_tr\n",
    "SNR_te = y_te / df_OCU_te"
   ]
  },
  {
   "cell_type": "code",
   "execution_count": 71,
   "metadata": {},
   "outputs": [
    {
     "data": {
      "text/plain": [
       "Text(0, 0.5, 'bias')"
      ]
     },
     "execution_count": 71,
     "metadata": {},
     "output_type": "execute_result"
    },
    {
     "data": {
      "image/png": "[encoded data removed]",
      "text/plain": [
       "<Figure size 432x288 with 1 Axes>"
      ]
     },
     "metadata": {
      "needs_background": "light"
     },
     "output_type": "display_data"
    }
   ],
   "source": [
    "plt.scatter(SNR_te,bias_te)\n",
    "plt.title(\"linear\")\n",
    "plt.xlabel(\"SNR\")\n",
    "plt.ylabel(\"bias\")"
   ]
  },
  {
   "cell_type": "markdown",
   "metadata": {},
   "source": [
    "### Ridge regression"
   ]
  },
  {
   "cell_type": "code",
   "execution_count": 48,
   "metadata": {},
   "outputs": [],
   "source": [
    "ridge = Ridge(alpha=1e-7)"
   ]
  },
  {
   "cell_type": "code",
   "execution_count": 630,
   "metadata": {},
   "outputs": [
    {
     "data": {
      "text/plain": [
       "array([0.96034018, 0.97338227, 0.98764913, 0.9838716 , 0.97640509,\n",
       "       0.98800678, 0.98294154, 0.98752153, 0.9901491 , 0.98282066])"
      ]
     },
     "execution_count": 630,
     "metadata": {},
     "output_type": "execute_result"
    }
   ],
   "source": [
    "cross_val_score(ridge,x_tr,y_tr, cv=10)"
   ]
  },
  {
   "cell_type": "code",
   "execution_count": 631,
   "metadata": {},
   "outputs": [],
   "source": [
    "ridge.fit(x_tr,y_tr)\n",
    "ridge.fit(x_te,y_te)\n",
    "y_pred_tr_ridge = ridge.predict(x_tr)\n",
    "y_pred_te_ridge = ridge.predict(x_te)"
   ]
  },
  {
   "cell_type": "code",
   "execution_count": 632,
   "metadata": {},
   "outputs": [
    {
     "data": {
      "text/plain": [
       "Text(0, 0.5, 'Predicted y')"
      ]
     },
     "execution_count": 632,
     "metadata": {},
     "output_type": "execute_result"
    },
    {
     "data": {
      "image/png": "[encoded data removed]",
      "text/plain": [
       "<Figure size 432x288 with 1 Axes>"
      ]
     },
     "metadata": {
      "needs_background": "light"
     },
     "output_type": "display_data"
    }
   ],
   "source": [
    "plt.scatter(y_te,y_pred_te_ridge)\n",
    "u = np.linspace(0,500)\n",
    "plt.plot(u,u, c='black')\n",
    "plt.xlabel(\"True y\")\n",
    "plt.ylabel(\"Predicted y\")\n"
   ]
  },
  {
   "cell_type": "code",
   "execution_count": 633,
   "metadata": {},
   "outputs": [
    {
     "data": {
      "text/plain": [
       "0.9934309407327009"
      ]
     },
     "execution_count": 633,
     "metadata": {},
     "output_type": "execute_result"
    }
   ],
   "source": [
    "r2_score(y_te,y_pred_te_ridge)"
   ]
  },
  {
   "cell_type": "code",
   "execution_count": 623,
   "metadata": {
    "scrolled": true
   },
   "outputs": [
    {
     "data": {
      "text/plain": [
       "Text(0, 0.5, 'bias')"
      ]
     },
     "execution_count": 623,
     "metadata": {},
     "output_type": "execute_result"
    },
    {
     "data": {
      "image/png": "[encoded data removed]",
      "text/plain": [
       "<Figure size 432x288 with 1 Axes>"
      ]
     },
     "metadata": {
      "needs_background": "light"
     },
     "output_type": "display_data"
    }
   ],
   "source": [
    "bias_tr_ridge = (y_tr - y_pred_tr_ridge) / df_OCU_tr\n",
    "bias_te_ridge = (y_te - y_pred_te_ridge) / df_OCU_te\n",
    "plt.scatter(SNR_te,bias_te_ridge)\n",
    "plt.title(\"ridge\")\n",
    "plt.xlabel(\"SNR\")\n",
    "plt.ylabel(\"bias\")"
   ]
  },
  {
   "cell_type": "markdown",
   "metadata": {},
   "source": [
    "### Neural Network"
   ]
  },
  {
   "cell_type": "code",
   "execution_count": 24,
   "metadata": {},
   "outputs": [],
   "source": [
    "nn = MLPRegressor(hidden_layer_sizes=(100, ), activation='relu', solver='adam', alpha=0.000001, batch_size='auto', learning_rate='constant', learning_rate_init=0.001, power_t=0.5, max_iter=1000, shuffle=True, random_state=None, tol=0.0001, verbose=False, warm_start=False, momentum=0.9, nesterovs_momentum=True, early_stopping=False, validation_fraction=0.1, beta_1=0.9, beta_2=0.999, epsilon=1e-08, n_iter_no_change=10)\n",
    "#nn.hidden_layer_sizes=(100, )\n",
    "#nn.(hidden_layer_sizes=(100, ), activation=’relu’, solver=’adam’, alpha=0.0001, batch_size=’auto’, learning_rate=’constant’, learning_rate_init=0.001, power_t=0.5, max_iter=200, shuffle=True, random_state=None, tol=0.0001, verbose=False, warm_start=False, momentum=0.9, nesterovs_momentum=True, early_stopping=False, validation_fraction=0.1, beta_1=0.9, beta_2=0.999, epsilon=1e-08, n_iter_no_change=10)"
   ]
  },
  {
   "cell_type": "code",
   "execution_count": 25,
   "metadata": {},
   "outputs": [
    {
     "data": {
      "text/plain": [
       "MLPRegressor(activation='relu', alpha=1e-06, batch_size='auto', beta_1=0.9,\n",
       "       beta_2=0.999, early_stopping=False, epsilon=1e-08,\n",
       "       hidden_layer_sizes=(100,), learning_rate='constant',\n",
       "       learning_rate_init=0.001, max_iter=1000, momentum=0.9,\n",
       "       n_iter_no_change=10, nesterovs_momentum=True, power_t=0.5,\n",
       "       random_state=None, shuffle=True, solver='adam', tol=0.0001,\n",
       "       validation_fraction=0.1, verbose=False, warm_start=False)"
      ]
     },
     "execution_count": 25,
     "metadata": {},
     "output_type": "execute_result"
    }
   ],
   "source": [
    "nn.fit(x_tr,y_tr)"
   ]
  },
  {
   "cell_type": "code",
   "execution_count": 26,
   "metadata": {},
   "outputs": [],
   "source": [
    "y_pred_tr_nn = nn.predict(x_tr)\n",
    "y_pred_te_nn = nn.predict(x_te)"
   ]
  },
  {
   "cell_type": "code",
   "execution_count": 27,
   "metadata": {},
   "outputs": [
    {
     "data": {
      "text/plain": [
       "Text(0, 0.5, 'Predicted y')"
      ]
     },
     "execution_count": 27,
     "metadata": {},
     "output_type": "execute_result"
    },
    {
     "data": {
      "image/png": "[encoded data removed]",
      "text/plain": [
       "<Figure size 432x288 with 1 Axes>"
      ]
     },
     "metadata": {
      "needs_background": "light"
     },
     "output_type": "display_data"
    }
   ],
   "source": [
    "plt.scatter(y_te,y_pred_te_nn)\n",
    "u = np.linspace(0,500)\n",
    "plt.plot(u,u, c='black')\n",
    "plt.xlabel(\"True y\")\n",
    "plt.ylabel(\"Predicted y\")"
   ]
  },
  {
   "cell_type": "code",
   "execution_count": 28,
   "metadata": {},
   "outputs": [
    {
     "data": {
      "text/plain": [
       "0.9672108438833417"
      ]
     },
     "execution_count": 28,
     "metadata": {},
     "output_type": "execute_result"
    }
   ],
   "source": [
    "r2_score(y_tr,y_pred_tr_nn)"
   ]
  },
  {
   "cell_type": "code",
   "execution_count": 31,
   "metadata": {},
   "outputs": [
    {
     "data": {
      "text/plain": [
       "Text(0, 0.5, 'bias')"
      ]
     },
     "execution_count": 31,
     "metadata": {},
     "output_type": "execute_result"
    },
    {
     "data": {
      "image/png": "[encoded data removed]",
      "text/plain": [
       "<Figure size 432x288 with 1 Axes>"
      ]
     },
     "metadata": {
      "needs_background": "light"
     },
     "output_type": "display_data"
    }
   ],
   "source": [
    "bias_tr_nn = (y_tr - y_pred_tr_nn) / df_OCU_tr\n",
    "bias_te_nn = (y_te - y_pred_te_nn) / df_OCU_te\n",
    "plt.scatter(SNR_te,bias_te_nn)\n",
    "plt.title(\"NN\")\n",
    "plt.xlabel(\"SNR\")\n",
    "plt.ylabel(\"bias\")"
   ]
  },
  {
   "cell_type": "markdown",
   "metadata": {},
   "source": [
    "### 2nd derivative"
   ]
  },
  {
   "cell_type": "code",
   "execution_count": 269,
   "metadata": {},
   "outputs": [],
   "source": [
    "df_derive = df_derive.T"
   ]
  },
  {
   "cell_type": "code",
   "execution_count": 270,
   "metadata": {},
   "outputs": [],
   "source": [
    "pd_der_merge = df_OC.merge(df_derive, right_index=True, left_index=True)"
   ]
  },
  {
   "cell_type": "code",
   "execution_count": 271,
   "metadata": {},
   "outputs": [
    {
     "data": {
      "text/html": [
       "<div>\n",
       "<style scoped>\n",
       "    .dataframe tbody tr th:only-of-type {\n",
       "        vertical-align: middle;\n",
       "    }\n",
       "\n",
       "    .dataframe tbody tr th {\n",
       "        vertical-align: top;\n",
       "    }\n",
       "\n",
       "    .dataframe thead th {\n",
       "        text-align: right;\n",
       "    }\n",
       "</style>\n",
       "<table border=\"1\" class=\"dataframe\">\n",
       "  <thead>\n",
       "    <tr style=\"text-align: right;\">\n",
       "      <th></th>\n",
       "      <th>usage</th>\n",
       "    </tr>\n",
       "    <tr>\n",
       "      <th>site</th>\n",
       "      <th></th>\n",
       "    </tr>\n",
       "  </thead>\n",
       "  <tbody>\n",
       "    <tr>\n",
       "      <th>CRLA1_04_21_2015_NM_0_csv</th>\n",
       "      <td>calibration</td>\n",
       "    </tr>\n",
       "    <tr>\n",
       "      <th>TONT1_05_09_2015_NM_0_csv</th>\n",
       "      <td>calibration</td>\n",
       "    </tr>\n",
       "    <tr>\n",
       "      <th>BADL1_11_26_2015_NM_0_csv</th>\n",
       "      <td>calibration</td>\n",
       "    </tr>\n",
       "    <tr>\n",
       "      <th>BRID1_10_27_2015_NM_0_csv</th>\n",
       "      <td>calibration</td>\n",
       "    </tr>\n",
       "    <tr>\n",
       "      <th>SEQU1_04_03_2015_NM_0_csv</th>\n",
       "      <td>calibration</td>\n",
       "    </tr>\n",
       "    <tr>\n",
       "      <th>PINN1_08_04_2015_NM_QC_0_csv</th>\n",
       "      <td>calibration</td>\n",
       "    </tr>\n",
       "    <tr>\n",
       "      <th>BRIS1_12_17_2015_NM_0_csv</th>\n",
       "      <td>calibration</td>\n",
       "    </tr>\n",
       "    <tr>\n",
       "      <th>BRCA1_04_15_2015_NM_0_csv</th>\n",
       "      <td>calibration</td>\n",
       "    </tr>\n",
       "    <tr>\n",
       "      <th>ORPI1_09_03_2015_FB_0_csv</th>\n",
       "      <td>calibration</td>\n",
       "    </tr>\n",
       "  </tbody>\n",
       "</table>\n",
       "</div>"
      ],
      "text/plain": [
       "                                    usage\n",
       "site                                     \n",
       "CRLA1_04_21_2015_NM_0_csv     calibration\n",
       "TONT1_05_09_2015_NM_0_csv     calibration\n",
       "BADL1_11_26_2015_NM_0_csv     calibration\n",
       "BRID1_10_27_2015_NM_0_csv     calibration\n",
       "SEQU1_04_03_2015_NM_0_csv     calibration\n",
       "PINN1_08_04_2015_NM_QC_0_csv  calibration\n",
       "BRIS1_12_17_2015_NM_0_csv     calibration\n",
       "BRCA1_04_15_2015_NM_0_csv     calibration\n",
       "ORPI1_09_03_2015_FB_0_csv     calibration"
      ]
     },
     "execution_count": 271,
     "metadata": {},
     "output_type": "execute_result"
    }
   ],
   "source": [
    "df_split.head(9)"
   ]
  },
  {
   "cell_type": "code",
   "execution_count": 272,
   "metadata": {},
   "outputs": [],
   "source": [
    "pd_der_again = pd_der_merge.merge(df_split, right_index=True, left_index=True)"
   ]
  },
  {
   "cell_type": "code",
   "execution_count": 273,
   "metadata": {},
   "outputs": [],
   "source": [
    "set_train_der = pd_der_again[pd_der_again[\"usage\"] == \"calibration\"]"
   ]
  },
  {
   "cell_type": "code",
   "execution_count": 274,
   "metadata": {},
   "outputs": [],
   "source": [
    "set_test_der = pd_der_again[pd_der_again[\"usage\"] == \"test\"]"
   ]
  },
  {
   "cell_type": "code",
   "execution_count": 275,
   "metadata": {},
   "outputs": [],
   "source": [
    "y_tr_der = set_train_der[\"OCf:Value\"]\n",
    "y_te_der = set_test_der[\"OCf:Value\"]\n",
    "x_tr_der = set_train_der.drop([\"OCf:Value\",\"OCf:Unc\",\"usage\"], axis=1)\n",
    "x_te_der = set_test_der.drop([\"OCf:Value\",\"OCf:Unc\",\"usage\"], axis=1)"
   ]
  },
  {
   "cell_type": "code",
   "execution_count": 175,
   "metadata": {},
   "outputs": [
    {
     "data": {
      "text/plain": [
       "LinearRegression(copy_X=True, fit_intercept=True, n_jobs=1, normalize=False)"
      ]
     },
     "execution_count": 175,
     "metadata": {},
     "output_type": "execute_result"
    }
   ],
   "source": [
    "lr.fit(x_tr_der,y_tr_der)"
   ]
  },
  {
   "cell_type": "code",
   "execution_count": 177,
   "metadata": {},
   "outputs": [],
   "source": [
    "der_predict_tr = lr.predict(x_tr_der)"
   ]
  },
  {
   "cell_type": "code",
   "execution_count": 178,
   "metadata": {},
   "outputs": [
    {
     "data": {
      "text/plain": [
       "Text(0,0.5,'Predicted y')"
      ]
     },
     "execution_count": 178,
     "metadata": {},
     "output_type": "execute_result"
    },
    {
     "data": {
      "image/png": "[encoded data removed]",
      "text/plain": [
       "<Figure size 432x288 with 1 Axes>"
      ]
     },
     "metadata": {
      "needs_background": "light"
     },
     "output_type": "display_data"
    }
   ],
   "source": [
    "plt.scatter(y_tr,der_predict_tr)\n",
    "u = np.linspace(0,500)\n",
    "plt.plot(u,u, c='black')\n",
    "plt.xlabel(\"True y\")\n",
    "plt.ylabel(\"Predicted y\")"
   ]
  },
  {
   "cell_type": "code",
   "execution_count": 179,
   "metadata": {},
   "outputs": [
    {
     "data": {
      "text/plain": [
       "0.9938977307958035"
      ]
     },
     "execution_count": 179,
     "metadata": {},
     "output_type": "execute_result"
    }
   ],
   "source": [
    "r2_score(y_tr,der_predict_tr)"
   ]
  },
  {
   "cell_type": "code",
   "execution_count": 186,
   "metadata": {},
   "outputs": [
    {
     "data": {
      "text/plain": [
       "CRLA1_04_21_2015_NM_0_csv      -1.664240e-07\n",
       "TONT1_05_09_2015_NM_0_csv      -2.567684e-07\n",
       "BADL1_11_26_2015_NM_0_csv      -3.991203e-07\n",
       "BRID1_10_27_2015_NM_0_csv       4.606378e-08\n",
       "SEQU1_04_03_2015_NM_0_csv       9.093881e-08\n",
       "PINN1_08_04_2015_NM_QC_0_csv   -6.154715e-07\n",
       "BRIS1_12_17_2015_NM_0_csv      -3.292817e-07\n",
       "BRCA1_04_15_2015_NM_0_csv       9.093881e-08\n",
       "WHIT1_12_14_2015_NM_0_csv      -8.321198e-09\n",
       "DOME1_08_31_2015_NM_0_csv       1.444322e-07\n",
       "GLAC1_04_09_2015_NM_0_csv       3.661327e-07\n",
       "LOST1_03_07_2015_NM_0_csv      -3.209605e-07\n",
       "MAKA2_03_31_2015_NM_0_csv      -4.763886e-07\n",
       "ELLI1_08_13_2015_NM_2_0_csv    -2.169455e-08\n",
       "BADL1_10_09_2015_NM_0_csv      -1.845523e-07\n",
       "MOZI1_04_15_2015_NM_0_csv       9.331629e-08\n",
       "IKBA1_01_06_2015_NM_0_csv      -4.332967e-07\n",
       "SHEN1_02_08_2015_NM_0_csv      -1.393801e-07\n",
       "PHOE5_11_23_2015_NM_0_csv      -2.835151e-07\n",
       "MORA1_04_21_2015_NM_0_csv      -1.227377e-07\n",
       "BYIS1_08_07_2015_NM_0_csv      -3.269042e-07\n",
       "SIPS1_08_01_2015_NM_0_csv      -4.009034e-07\n",
       "NOCA1_10_06_2015_NM_0_csv      -2.270498e-07\n",
       "SAGU1_08_31_2015_NM_0_csv       3.711849e-07\n",
       "PUSO1_09_27_2015_NM_0_csv      -6.110137e-07\n",
       "ELDO1_07_05_2015_NM_0_csv      -8.529228e-08\n",
       "GRBA1_11_08_2015_NM_0_csv      -3.173943e-07\n",
       "HACR1_11_14_2015_NM_0_csv       1.313561e-07\n",
       "VILA1_11_14_2015_NM_0_csv       2.199174e-07\n",
       "PENO1_06_14_2015_NM_0_csv      -1.043122e-07\n",
       "                                    ...     \n",
       "STAR1_01_06_2015_NM_0_csv      -5.162115e-07\n",
       "SAGO1_01_03_2015_NM_0_csv      -1.634521e-07\n",
       "GRSA1_11_23_2015_NM_0_csv      -1.037178e-07\n",
       "LYEB1_12_23_2015_NM_0_csv      -3.099646e-07\n",
       "PORE1_04_27_2015_NM_0_csv       2.181343e-07\n",
       "CEBL1_07_17_2015_NM_0_csv       1.595887e-07\n",
       "CRLA1_03_07_2015_NM_0_csv      -3.590003e-07\n",
       "SAGO1_07_20_2015_NM_0_csv      -3.771286e-07\n",
       "PHOE1_01_30_2015_NM_0_csv      -5.111593e-07\n",
       "PACK1_04_15_2015_NM_0_csv       2.273470e-07\n",
       "IKBA1_06_29_2015_NM_0_csv      -3.129365e-07\n",
       "GICL1_06_29_2015_NM_0_csv      -4.457334e-18\n",
       "OKEF1_05_27_2015_NM_0_csv       1.631549e-07\n",
       "WEMI1_05_21_2015_NM_0_csv      -1.896044e-07\n",
       "HOOV1_08_13_2015_NM_0_csv       3.376029e-07\n",
       "WHPA1_08_01_2015_NM_0_csv      -2.594431e-07\n",
       "SENE1_02_11_2015_NM_0_csv       2.805433e-07\n",
       "MONT1_08_31_2015_NM_0_csv      -1.833635e-07\n",
       "MELA1_04_09_2015_NM_0_csv      -4.835211e-07\n",
       "SHRO1_09_15_2015_NM_0_csv      -7.697108e-07\n",
       "SAGU1_08_22_2015_NM_0_csv      -9.123600e-08\n",
       "FRRE1_03_19_2015_NM_0_csv      -1.049065e-07\n",
       "PENO1_02_26_2015_NM_0_csv      -6.181462e-08\n",
       "LASU2_02_17_2015_NM_0_csv       3.402776e-07\n",
       "LOST1_01_24_2015_NM_0_csv       5.795120e-08\n",
       "TRIN1_06_05_2015_NM_0_csv       4.309192e-08\n",
       "NOCA1_04_21_2015_NM_0_csv       1.925763e-07\n",
       "SIME1_11_02_2015_NM_0_csv       7.013581e-08\n",
       "ELLI1_04_03_2015_NM_0_csv      -4.071443e-08\n",
       "SAWE1_02_05_2015_NM_0_csv      -1.479985e-07\n",
       "Name: 0, Length: 13362, dtype: float64"
      ]
     },
     "execution_count": 186,
     "metadata": {},
     "output_type": "execute_result"
    }
   ],
   "source": [
    "x_tr_der[x_tr_der.index.contains(\"_NM_\")]"
   ]
  },
  {
   "cell_type": "markdown",
   "metadata": {},
   "source": [
    "## Clustering"
   ]
  },
  {
   "cell_type": "code",
   "execution_count": 469,
   "metadata": {},
   "outputs": [
    {
     "data": {
      "text/plain": [
       "KMeans(algorithm='auto', copy_x=True, init='k-means++', max_iter=300,\n",
       "    n_clusters=2, n_init=10, n_jobs=None, precompute_distances='auto',\n",
       "    random_state=0, tol=0.0001, verbose=0)"
      ]
     },
     "execution_count": 469,
     "metadata": {},
     "output_type": "execute_result"
    }
   ],
   "source": [
    "\n",
    "km = KMeans(n_clusters=2,random_state=0)\n",
    "region_cluster=range(1600,2300) #must be between 0, 2784\n",
    "#km.fit(x_tr.iloc[:,region_cluster])\n",
    "km.fit(x_tr_der.iloc[:,region_cluster]**2)"
   ]
  },
  {
   "cell_type": "markdown",
   "metadata": {},
   "source": [
    "## Linear Regression of Clusters\n"
   ]
  },
  {
   "cell_type": "code",
   "execution_count": 542,
   "metadata": {},
   "outputs": [],
   "source": [
    "def train(x_trr,y_trr,kmm,reg_type):\n",
    "    \"\"\"This will find the regression coefficients for each cluster in x_tr.\n",
    "        It will output a list of linear regression classes. Each element contains hyperparameters for each cluster\"\"\"\n",
    "    \n",
    "    regressions_list = [ eval(reg_type) for i in range(km.n_clusters)]\n",
    "    \n",
    "    for cluster in range(kmm.n_clusters):\n",
    "        \n",
    "        cluster_indices=np.argwhere( kmm.labels_ == cluster).flatten()\n",
    "        \n",
    "        regressions_list[cluster].fit(x_trr.iloc[cluster_indices,:],y_trr[cluster_indices])\n",
    "    \n",
    "    return regressions_list"
   ]
  },
  {
   "cell_type": "code",
   "execution_count": 543,
   "metadata": {},
   "outputs": [],
   "source": [
    "def predict_OC(x,k_means,reg_list,*argv):\n",
    "    \"\"\" Function takes k_means class already containing clusters as k_means.\n",
    "        Also takes linear regression list of lr classes of size equal to number of clusters\n",
    "        Takes in x values and outputs predicted ys by classifying x in clusters and predicting their y value\n",
    "        with linear regression\"\"\"\n",
    "    if argv ==0:\n",
    "        x_clus=x\n",
    "    else:\n",
    "        x_clus=argv[0]\n",
    "    labels_=k_means.predict(x_clus) #do clustering\n",
    "    y=np.zeros(x.shape[0])\n",
    "    \n",
    "    for cluster in range(k_means.n_clusters):\n",
    "        indices=np.argwhere( labels_ == cluster).flatten()\n",
    "        y[indices]=reg_list[cluster].predict(x.iloc[indices,:])\n",
    "    return y"
   ]
  },
  {
   "cell_type": "code",
   "execution_count": 472,
   "metadata": {},
   "outputs": [
    {
     "name": "stdout",
     "output_type": "stream",
     "text": [
      "LinearRegression(copy_X=True, fit_intercept=True, n_jobs=None,\n",
      "         normalize=False)\n"
     ]
    }
   ],
   "source": [
    "reg_list=train(x_tr_der,y_tr,km,'LinearRegression')\n"
   ]
  },
  {
   "cell_type": "code",
   "execution_count": 473,
   "metadata": {},
   "outputs": [
    {
     "name": "stdout",
     "output_type": "stream",
     "text": [
      "(13362,)\n",
      "(4646,)\n"
     ]
    }
   ],
   "source": [
    "y_pred_tr_cl=predict_OC(x_tr_der,km,reg_list,x_tr_der.iloc[:,region_cluster]**2)\n",
    "y_pred_te_cl=predict_OC(x_te_der,km,reg_list,x_te_der.iloc[:,region_cluster]**2)\n",
    "\n",
    "#y_pred_tr_cl=predict_OC(x_tr,km,reg_list,x_tr.iloc[:,region_cluster])\n",
    "#y_pred_te_cl=predict_OC(x_te,km,reg_list,x_te.iloc[:,region_cluster])\n"
   ]
  },
  {
   "cell_type": "markdown",
   "metadata": {},
   "source": [
    "# Cluster Plots "
   ]
  },
  {
   "cell_type": "code",
   "execution_count": 474,
   "metadata": {},
   "outputs": [
    {
     "data": {
      "text/plain": [
       "Text(0, 0.5, 'Predicted y')"
      ]
     },
     "execution_count": 474,
     "metadata": {},
     "output_type": "execute_result"
    },
    {
     "data": {
      "image/png": "[encoded data removed]",
      "text/plain": [
       "<Figure size 432x288 with 1 Axes>"
      ]
     },
     "metadata": {
      "needs_background": "light"
     },
     "output_type": "display_data"
    }
   ],
   "source": [
    "plt.scatter(y_te,y_pred_te_cl)\n",
    "u = np.linspace(0,500)\n",
    "plt.plot(u,u, c='black')\n",
    "plt.xlabel(\"True y\")\n",
    "plt.ylabel(\"Predicted y\")"
   ]
  },
  {
   "cell_type": "code",
   "execution_count": 475,
   "metadata": {},
   "outputs": [
    {
     "data": {
      "text/plain": [
       "0.9709600200534851"
      ]
     },
     "execution_count": 475,
     "metadata": {},
     "output_type": "execute_result"
    }
   ],
   "source": [
    "r2_score(y_te,y_pred_te_cl)"
   ]
  },
  {
   "cell_type": "code",
   "execution_count": 369,
   "metadata": {},
   "outputs": [],
   "source": [
    "def BiasPlot(y_pred,y,y_unc,title):\n",
    "    \"\"\"Title must be a string\"\"\"\n",
    "    SNR = y/y_unc\n",
    "    bias = (y - y_pred)/y_unc \n",
    "    plt.scatter(SNR,bias)\n",
    "    plt.title(title)\n",
    "    plt.xlabel(\"SNR\")\n",
    "    plt.ylabel(\"bias\")"
   ]
  },
  {
   "cell_type": "code",
   "execution_count": 476,
   "metadata": {},
   "outputs": [
    {
     "data": {
      "image/png": "[encoded data removed]",
      "text/plain": [
       "<Figure size 432x288 with 1 Axes>"
      ]
     },
     "metadata": {
      "needs_background": "light"
     },
     "output_type": "display_data"
    }
   ],
   "source": [
    "BiasPlot(y_pred_te_cl,y_te, df_OCU_te,title='Cluster Bias')"
   ]
  },
  {
   "cell_type": "code",
   "execution_count": 470,
   "metadata": {},
   "outputs": [
    {
     "data": {
      "image/png": "[encoded data removed]",
      "text/plain": [
       "<Figure size 432x288 with 1 Axes>"
      ]
     },
     "metadata": {
      "needs_background": "light"
     },
     "output_type": "display_data"
    }
   ],
   "source": [
    "for cluster_center in km.cluster_centers_:\n",
    "    plt.plot(region_cluster,cluster_center)\n"
   ]
  },
  {
   "cell_type": "markdown",
   "metadata": {},
   "source": [
    "## Cross Validation Implementation\n",
    "Here we will compare the effectiveness of each method by decreasing the training size and observing how well this training size predicts the test (complement of training size)."
   ]
  },
  {
   "cell_type": "code",
   "execution_count": 636,
   "metadata": {},
   "outputs": [],
   "source": [
    "def cross_validation_sample_size(x_tr,y_tr,regression_method,k_fold,seed,No_clusters):\n",
    "    \"\"\"Splits training data into train and test. \n",
    "    Train size is given by sample size.\n",
    "    Does inverted k-fold because train sample is smallest:\n",
    "    For example if the k_fold is 4, 1/4th of the data will be train, and 3/4th will be test. \n",
    "    \"\"\"\n",
    "    reg=eval(regression_method)\n",
    "    indices=build_k_indices(y_tr,k_fold,seed)\n",
    "    avg_mse = 0\n",
    "    avg_r2 = 0\n",
    "    \n",
    "    if No_clusters <2:\n",
    "        \n",
    "    \n",
    "        for k in range(k_fold):\n",
    "            #training sub data\n",
    "            x_tr_sub = x_tr.iloc[indices[k],:]\n",
    "            y_tr_sub = y_tr[indices[k]]\n",
    "\n",
    "            #drop training indices, select test subdata\n",
    "            #indices_ = np.delete(indices, (k), axis=0).flatten() #Take the complement of the data as test\n",
    "            indices_ = np.delete(indices, (k), axis=0).flatten()[:int(len(y_tr)/2)] #take half of the train data\n",
    "            x_te_sub = x_tr.iloc[indices_,:]\n",
    "            y_te_sub = y_tr[indices_]\n",
    "\n",
    "            reg.fit(x_tr_sub,y_tr_sub)\n",
    "            y_te_sub_pred = reg.predict(x_te_sub)\n",
    "            \n",
    "            \n",
    "            #Compute loss and r2\n",
    "            avg_mse = avg_mse+mean_squared_error(y_te_sub,y_te_sub_pred)\n",
    "            avg_r2 = avg_r2+ r2_score(y_te_sub, y_te_sub_pred)\n",
    "            \n",
    "            print('Fold # %i Test mean squared error: %.2f' % (k+1,mean_squared_error(y_te_sub, y_te_sub_pred)))\n",
    "            print('Fold # %i Test R2: %.2f' % (k+1,r2_score(y_te_sub, y_te_sub_pred)))\n",
    "        print('Training Sample Size: ',int(len(y_tr)/k_fold))\n",
    "        return  avg_mse/k_fold,avg_r2/k_fold,int(len(y_tr)/k_fold)\n",
    "    else: #more than 2 clusters wanted\n",
    "        \n",
    "        km_ = KMeans(n_clusters=No_clusters,random_state=0)\n",
    "        region_cluster = range(1600,2300) #must be between 0, 2784\n",
    "        \n",
    "        for k in range(k_fold):\n",
    "            x_tr_sub = x_tr.iloc[indices[k],:]\n",
    "            y_tr_sub = y_tr[indices[k]]\n",
    "            \n",
    "            km_.fit(x_tr_sub.iloc[:,region_cluster]**2) #create cluster based on region of interest for training sample\n",
    "            \n",
    "            reg_list_=train(x_tr_sub,y_tr_sub,km_,regression_method) #train data\n",
    "            \n",
    "            #Get test data\n",
    "            #indices_ = np.delete(indices, (k), axis=0).flatten() #Take the complement of the data as test\n",
    "            indices_ = np.delete(indices, (k), axis=0).flatten()[:int(len(y_tr)/2)] #take half of the data as test\n",
    "            x_te_sub = x_tr.iloc[indices_,:]\n",
    "            y_te_sub = y_tr[indices_]\n",
    "            \n",
    "            #Predict test data\n",
    "            y_te_sub_pred = predict_OC(x_te_sub,km_,reg_list_,x_te_sub.iloc[:,region_cluster]**2)\n",
    "            \n",
    "            #Compute loss and r2\n",
    "            \n",
    "            avg_mse = avg_mse+mean_squared_error(y_te_sub,y_te_sub_pred)\n",
    "            avg_r2 = avg_r2+ r2_score(y_te_sub, y_te_sub_pred)\n",
    "            \n",
    "            print('Fold # %i Test Mean squared error: %.2f' % (k+1,mean_squared_error(y_te_sub, y_te_sub_pred)))\n",
    "            print('Fold # %i Test R2: %.2f' % (k+1,r2_score(y_te_sub, y_te_sub_pred)))\n",
    "        \n",
    "        print('Training Sample Size: ',int(len(y_tr)/k_fold))\n",
    "        return avg_mse/k_fold,avg_r2/k_fold,int(len(y_tr)/k_fold)\n",
    "            \n",
    "            \n",
    "    "
   ]
  },
  {
   "cell_type": "code",
   "execution_count": 526,
   "metadata": {},
   "outputs": [],
   "source": [
    "def build_k_indices(y, k_fold, seed):\n",
    "    \n",
    "    num_row = y.shape[0]\n",
    "    interval = int(num_row / k_fold)\n",
    "    np.random.seed(seed)\n",
    "    indices = np.random.permutation(num_row)\n",
    "    k_indices = [indices[k * interval: (k + 1) * interval] for k in range(k_fold)]\n",
    "\n",
    "    return np.array(k_indices)"
   ]
  },
  {
   "cell_type": "markdown",
   "metadata": {},
   "source": [
    "## Linear Regression Comparison (Simple and Clustered)\n"
   ]
  },
  {
   "cell_type": "code",
   "execution_count": 552,
   "metadata": {},
   "outputs": [
    {
     "name": "stdout",
     "output_type": "stream",
     "text": [
      "Fold # 1 Mean squared error: 12.65\n",
      "Fold # 1 R2: 0.95\n",
      "Fold # 2 Mean squared error: 12.11\n",
      "Fold # 2 R2: 0.96\n",
      "Fold # 3 Mean squared error: 10.90\n",
      "Fold # 3 R2: 0.96\n",
      "Training Sample Size:  4454\n"
     ]
    }
   ],
   "source": [
    "cross_validation_sample_size(x_tr,y_tr,'LinearRegression()',3,1,1) "
   ]
  },
  {
   "cell_type": "code",
   "execution_count": 553,
   "metadata": {},
   "outputs": [
    {
     "name": "stdout",
     "output_type": "stream",
     "text": [
      "Fold # 1 Test Mean squared error: 30.91\n",
      "Fold # 1 Test R2: 0.89\n",
      "Fold # 2 Test Mean squared error: 31.74\n",
      "Fold # 2 Test R2: 0.90\n",
      "Fold # 3 Test Mean squared error: 23.90\n",
      "Fold # 3 Test R2: 0.92\n",
      "Training Sample Size:  4454\n"
     ]
    }
   ],
   "source": [
    "cross_validation_sample_size(x_tr,y_tr,'LinearRegression()',3,1,2) "
   ]
  },
  {
   "cell_type": "code",
   "execution_count": 554,
   "metadata": {},
   "outputs": [
    {
     "name": "stdout",
     "output_type": "stream",
     "text": [
      "Fold # 1 Mean squared error: 12.08\n",
      "Fold # 1 R2: 0.96\n",
      "Fold # 2 Mean squared error: 12.00\n",
      "Fold # 2 R2: 0.96\n",
      "Fold # 3 Mean squared error: 10.86\n",
      "Fold # 3 R2: 0.96\n",
      "Training Sample Size:  4454\n"
     ]
    }
   ],
   "source": [
    "cross_validation_sample_size(x_tr_der,y_tr,'LinearRegression()',3,1,1)"
   ]
  },
  {
   "cell_type": "code",
   "execution_count": 555,
   "metadata": {},
   "outputs": [
    {
     "name": "stdout",
     "output_type": "stream",
     "text": [
      "Fold # 1 Test Mean squared error: 37.41\n",
      "Fold # 1 Test R2: 0.86\n",
      "Fold # 2 Test Mean squared error: 47.96\n",
      "Fold # 2 Test R2: 0.85\n",
      "Fold # 3 Test Mean squared error: 56.86\n",
      "Fold # 3 Test R2: 0.81\n",
      "Training Sample Size:  4454\n"
     ]
    }
   ],
   "source": [
    "cross_validation_sample_size(x_tr_der,y_tr,'LinearRegression()',3,1,2) #Try with two clusters"
   ]
  },
  {
   "cell_type": "markdown",
   "metadata": {},
   "source": [
    "We see that the simple linear regression is a lot better than clustering the data with the method above. Also, we see that the derivative smoothing seems to yield better predictive results. "
   ]
  },
  {
   "cell_type": "code",
   "execution_count": 570,
   "metadata": {},
   "outputs": [
    {
     "name": "stdout",
     "output_type": "stream",
     "text": [
      "Fold # 1 Test mean squared error: 5.13\n",
      "Fold # 1 Test R2: 0.98\n",
      "Fold # 2 Test mean squared error: 5.71\n",
      "Fold # 2 Test R2: 0.98\n",
      "Fold # 3 Test mean squared error: 5.65\n",
      "Fold # 3 Test R2: 0.98\n",
      "Training Sample Size:  4454\n"
     ]
    }
   ],
   "source": [
    "cross_validation_sample_size(x_tr_der,y_tr,'Ridge(alpha=0.0000001)',3,1,1)"
   ]
  },
  {
   "cell_type": "code",
   "execution_count": 617,
   "metadata": {},
   "outputs": [
    {
     "name": "stdout",
     "output_type": "stream",
     "text": [
      "Fold # 1 Test Mean squared error: 6.04\n",
      "Fold # 1 Test R2: 0.98\n",
      "Fold # 2 Test Mean squared error: 6.05\n",
      "Fold # 2 Test R2: 0.98\n",
      "Fold # 3 Test Mean squared error: 6.69\n",
      "Fold # 3 Test R2: 0.98\n",
      "Training Sample Size:  4454\n"
     ]
    },
    {
     "data": {
      "text/plain": [
       "(6.259998292352473, 0.9806352983542223, 4454)"
      ]
     },
     "execution_count": 617,
     "metadata": {},
     "output_type": "execute_result"
    }
   ],
   "source": [
    "cross_validation_sample_size(x_tr_der,y_tr,'Ridge(alpha=0.0000001)',3,1,2)"
   ]
  },
  {
   "cell_type": "markdown",
   "metadata": {},
   "source": [
    "We see that adding a small penalizer really avoids overfitting!However, clustering doesn't do much\n",
    "\n"
   ]
  },
  {
   "cell_type": "code",
   "execution_count": 637,
   "metadata": {},
   "outputs": [
    {
     "name": "stdout",
     "output_type": "stream",
     "text": [
      "Fold # 1 Test mean squared error: 6.94\n",
      "Fold # 1 Test R2: 0.97\n",
      "Fold # 2 Test mean squared error: 5.84\n",
      "Fold # 2 Test R2: 0.98\n",
      "Fold # 3 Test mean squared error: 6.17\n",
      "Fold # 3 Test R2: 0.98\n",
      "Fold # 4 Test mean squared error: 6.61\n",
      "Fold # 4 Test R2: 0.98\n",
      "Training Sample Size:  3340\n"
     ]
    },
    {
     "data": {
      "text/plain": [
       "(6.388469788934838, 0.9781446939703133, 3340)"
      ]
     },
     "execution_count": 637,
     "metadata": {},
     "output_type": "execute_result"
    }
   ],
   "source": [
    "cross_validation_sample_size(x_tr_der,y_tr,'Ridge(alpha=0.0000001,normalize=False)',4,1,1) #increase k_fold"
   ]
  },
  {
   "cell_type": "markdown",
   "metadata": {},
   "source": [
    "## Lasso  "
   ]
  },
  {
   "cell_type": "code",
   "execution_count": 572,
   "metadata": {},
   "outputs": [
    {
     "name": "stderr",
     "output_type": "stream",
     "text": [
      "c:\\users\\danie\\appdata\\local\\programs\\python\\python37\\lib\\site-packages\\sklearn\\linear_model\\coordinate_descent.py:491: ConvergenceWarning: Objective did not converge. You might want to increase the number of iterations. Fitting data with very small alpha may cause precision problems.\n",
      "  ConvergenceWarning)\n"
     ]
    },
    {
     "name": "stdout",
     "output_type": "stream",
     "text": [
      "Fold # 1 Test mean squared error: 5.15\n",
      "Fold # 1 Test R2: 0.98\n"
     ]
    },
    {
     "name": "stderr",
     "output_type": "stream",
     "text": [
      "c:\\users\\danie\\appdata\\local\\programs\\python\\python37\\lib\\site-packages\\sklearn\\linear_model\\coordinate_descent.py:491: ConvergenceWarning: Objective did not converge. You might want to increase the number of iterations. Fitting data with very small alpha may cause precision problems.\n",
      "  ConvergenceWarning)\n"
     ]
    },
    {
     "name": "stdout",
     "output_type": "stream",
     "text": [
      "Fold # 2 Test mean squared error: 5.58\n",
      "Fold # 2 Test R2: 0.98\n",
      "Fold # 3 Test mean squared error: 5.49\n",
      "Fold # 3 Test R2: 0.98\n",
      "Training Sample Size:  4454\n"
     ]
    },
    {
     "name": "stderr",
     "output_type": "stream",
     "text": [
      "c:\\users\\danie\\appdata\\local\\programs\\python\\python37\\lib\\site-packages\\sklearn\\linear_model\\coordinate_descent.py:491: ConvergenceWarning: Objective did not converge. You might want to increase the number of iterations. Fitting data with very small alpha may cause precision problems.\n",
      "  ConvergenceWarning)\n"
     ]
    }
   ],
   "source": [
    "cross_validation_sample_size(x_tr_der,y_tr,'Lasso(alpha=0.0001,normalize=True,max_iter=2000)',3,1,1) #"
   ]
  },
  {
   "cell_type": "markdown",
   "metadata": {},
   "source": [
    "## Min Sample Size for Ridge "
   ]
  },
  {
   "cell_type": "code",
   "execution_count": 638,
   "metadata": {},
   "outputs": [
    {
     "name": "stdout",
     "output_type": "stream",
     "text": [
      "Fold # 1 Test mean squared error: 6.94\n",
      "Fold # 1 Test R2: 0.97\n",
      "Fold # 2 Test mean squared error: 5.84\n",
      "Fold # 2 Test R2: 0.98\n",
      "Fold # 3 Test mean squared error: 6.17\n",
      "Fold # 3 Test R2: 0.98\n",
      "Fold # 4 Test mean squared error: 6.61\n",
      "Fold # 4 Test R2: 0.98\n",
      "Training Sample Size:  3340\n",
      "Fold # 1 Test mean squared error: 6.36\n",
      "Fold # 1 Test R2: 0.98\n",
      "Fold # 2 Test mean squared error: 7.05\n",
      "Fold # 2 Test R2: 0.97\n",
      "Fold # 3 Test mean squared error: 6.43\n",
      "Fold # 3 Test R2: 0.98\n",
      "Fold # 4 Test mean squared error: 7.67\n",
      "Fold # 4 Test R2: 0.98\n",
      "Fold # 5 Test mean squared error: 8.83\n",
      "Fold # 5 Test R2: 0.97\n",
      "Fold # 6 Test mean squared error: 6.46\n",
      "Fold # 6 Test R2: 0.98\n",
      "Fold # 7 Test mean squared error: 6.55\n",
      "Fold # 7 Test R2: 0.98\n",
      "Fold # 8 Test mean squared error: 9.09\n",
      "Fold # 8 Test R2: 0.97\n",
      "Training Sample Size:  1670\n",
      "Fold # 1 Test mean squared error: 9.15\n",
      "Fold # 1 Test R2: 0.97\n",
      "Fold # 2 Test mean squared error: 7.08\n",
      "Fold # 2 Test R2: 0.98\n",
      "Fold # 3 Test mean squared error: 7.19\n",
      "Fold # 3 Test R2: 0.98\n",
      "Fold # 4 Test mean squared error: 8.33\n",
      "Fold # 4 Test R2: 0.97\n",
      "Fold # 5 Test mean squared error: 7.45\n",
      "Fold # 5 Test R2: 0.98\n",
      "Fold # 6 Test mean squared error: 8.37\n",
      "Fold # 6 Test R2: 0.97\n",
      "Fold # 7 Test mean squared error: 11.77\n",
      "Fold # 7 Test R2: 0.97\n",
      "Fold # 8 Test mean squared error: 8.55\n",
      "Fold # 8 Test R2: 0.97\n",
      "Fold # 9 Test mean squared error: 9.59\n",
      "Fold # 9 Test R2: 0.97\n",
      "Fold # 10 Test mean squared error: 10.68\n",
      "Fold # 10 Test R2: 0.97\n",
      "Fold # 11 Test mean squared error: 8.05\n",
      "Fold # 11 Test R2: 0.98\n",
      "Fold # 12 Test mean squared error: 10.45\n",
      "Fold # 12 Test R2: 0.97\n",
      "Fold # 13 Test mean squared error: 6.97\n",
      "Fold # 13 Test R2: 0.98\n",
      "Fold # 14 Test mean squared error: 8.04\n",
      "Fold # 14 Test R2: 0.98\n",
      "Fold # 15 Test mean squared error: 9.43\n",
      "Fold # 15 Test R2: 0.97\n",
      "Fold # 16 Test mean squared error: 11.13\n",
      "Fold # 16 Test R2: 0.97\n",
      "Training Sample Size:  835\n",
      "Fold # 1 Test mean squared error: 11.95\n",
      "Fold # 1 Test R2: 0.96\n",
      "Fold # 2 Test mean squared error: 10.60\n",
      "Fold # 2 Test R2: 0.97\n",
      "Fold # 3 Test mean squared error: 10.58\n",
      "Fold # 3 Test R2: 0.97\n",
      "Fold # 4 Test mean squared error: 7.62\n",
      "Fold # 4 Test R2: 0.98\n",
      "Fold # 5 Test mean squared error: 12.62\n",
      "Fold # 5 Test R2: 0.96\n",
      "Fold # 6 Test mean squared error: 10.75\n",
      "Fold # 6 Test R2: 0.97\n",
      "Fold # 7 Test mean squared error: 9.68\n",
      "Fold # 7 Test R2: 0.97\n",
      "Fold # 8 Test mean squared error: 11.51\n",
      "Fold # 8 Test R2: 0.97\n",
      "Fold # 9 Test mean squared error: 10.49\n",
      "Fold # 9 Test R2: 0.97\n",
      "Fold # 10 Test mean squared error: 11.43\n",
      "Fold # 10 Test R2: 0.97\n",
      "Fold # 11 Test mean squared error: 15.77\n",
      "Fold # 11 Test R2: 0.95\n",
      "Fold # 12 Test mean squared error: 10.82\n",
      "Fold # 12 Test R2: 0.96\n",
      "Fold # 13 Test mean squared error: 14.01\n",
      "Fold # 13 Test R2: 0.96\n",
      "Fold # 14 Test mean squared error: 12.60\n",
      "Fold # 14 Test R2: 0.96\n",
      "Fold # 15 Test mean squared error: 9.41\n",
      "Fold # 15 Test R2: 0.97\n",
      "Fold # 16 Test mean squared error: 10.21\n",
      "Fold # 16 Test R2: 0.97\n",
      "Fold # 17 Test mean squared error: 10.79\n",
      "Fold # 17 Test R2: 0.97\n",
      "Fold # 18 Test mean squared error: 10.85\n",
      "Fold # 18 Test R2: 0.97\n",
      "Fold # 19 Test mean squared error: 14.79\n",
      "Fold # 19 Test R2: 0.96\n",
      "Fold # 20 Test mean squared error: 11.96\n",
      "Fold # 20 Test R2: 0.96\n",
      "Fold # 21 Test mean squared error: 9.94\n",
      "Fold # 21 Test R2: 0.97\n",
      "Fold # 22 Test mean squared error: 13.91\n",
      "Fold # 22 Test R2: 0.96\n",
      "Fold # 23 Test mean squared error: 10.33\n",
      "Fold # 23 Test R2: 0.97\n",
      "Fold # 24 Test mean squared error: 13.40\n",
      "Fold # 24 Test R2: 0.96\n",
      "Fold # 25 Test mean squared error: 12.51\n",
      "Fold # 25 Test R2: 0.96\n",
      "Fold # 26 Test mean squared error: 8.43\n",
      "Fold # 26 Test R2: 0.97\n",
      "Fold # 27 Test mean squared error: 9.00\n",
      "Fold # 27 Test R2: 0.97\n",
      "Fold # 28 Test mean squared error: 23.48\n",
      "Fold # 28 Test R2: 0.93\n",
      "Fold # 29 Test mean squared error: 10.47\n",
      "Fold # 29 Test R2: 0.97\n",
      "Fold # 30 Test mean squared error: 14.17\n",
      "Fold # 30 Test R2: 0.96\n",
      "Fold # 31 Test mean squared error: 11.58\n",
      "Fold # 31 Test R2: 0.97\n",
      "Fold # 32 Test mean squared error: 15.17\n",
      "Fold # 32 Test R2: 0.95\n",
      "Training Sample Size:  417\n",
      "Fold # 1 Test mean squared error: 12.96\n",
      "Fold # 1 Test R2: 0.96\n",
      "Fold # 2 Test mean squared error: 16.05\n",
      "Fold # 2 Test R2: 0.95\n",
      "Fold # 3 Test mean squared error: 15.60\n",
      "Fold # 3 Test R2: 0.95\n",
      "Fold # 4 Test mean squared error: 12.08\n",
      "Fold # 4 Test R2: 0.96\n",
      "Fold # 5 Test mean squared error: 22.21\n",
      "Fold # 5 Test R2: 0.93\n",
      "Fold # 6 Test mean squared error: 15.85\n",
      "Fold # 6 Test R2: 0.95\n",
      "Fold # 7 Test mean squared error: 8.76\n",
      "Fold # 7 Test R2: 0.97\n",
      "Fold # 8 Test mean squared error: 16.27\n",
      "Fold # 8 Test R2: 0.95\n",
      "Fold # 9 Test mean squared error: 26.89\n",
      "Fold # 9 Test R2: 0.92\n",
      "Fold # 10 Test mean squared error: 14.70\n",
      "Fold # 10 Test R2: 0.96\n",
      "Fold # 11 Test mean squared error: 11.97\n",
      "Fold # 11 Test R2: 0.96\n",
      "Fold # 12 Test mean squared error: 22.31\n",
      "Fold # 12 Test R2: 0.93\n",
      "Fold # 13 Test mean squared error: 10.49\n",
      "Fold # 13 Test R2: 0.96\n",
      "Fold # 14 Test mean squared error: 13.75\n",
      "Fold # 14 Test R2: 0.96\n",
      "Fold # 15 Test mean squared error: 13.74\n",
      "Fold # 15 Test R2: 0.96\n",
      "Fold # 16 Test mean squared error: 14.48\n",
      "Fold # 16 Test R2: 0.96\n",
      "Fold # 17 Test mean squared error: 16.00\n",
      "Fold # 17 Test R2: 0.95\n",
      "Fold # 18 Test mean squared error: 13.75\n",
      "Fold # 18 Test R2: 0.96\n",
      "Fold # 19 Test mean squared error: 18.98\n",
      "Fold # 19 Test R2: 0.94\n",
      "Fold # 20 Test mean squared error: 14.40\n",
      "Fold # 20 Test R2: 0.96\n",
      "Fold # 21 Test mean squared error: 13.58\n",
      "Fold # 21 Test R2: 0.96\n",
      "Fold # 22 Test mean squared error: 21.70\n",
      "Fold # 22 Test R2: 0.94\n",
      "Fold # 23 Test mean squared error: 16.38\n",
      "Fold # 23 Test R2: 0.95\n",
      "Fold # 24 Test mean squared error: 11.05\n",
      "Fold # 24 Test R2: 0.96\n",
      "Fold # 25 Test mean squared error: 13.49\n",
      "Fold # 25 Test R2: 0.96\n",
      "Fold # 26 Test mean squared error: 17.69\n",
      "Fold # 26 Test R2: 0.95\n",
      "Fold # 27 Test mean squared error: 19.01\n",
      "Fold # 27 Test R2: 0.94\n",
      "Fold # 28 Test mean squared error: 15.05\n",
      "Fold # 28 Test R2: 0.96\n",
      "Fold # 29 Test mean squared error: 10.92\n",
      "Fold # 29 Test R2: 0.97\n",
      "Fold # 30 Test mean squared error: 13.38\n",
      "Fold # 30 Test R2: 0.96\n",
      "Fold # 31 Test mean squared error: 12.63\n",
      "Fold # 31 Test R2: 0.96\n",
      "Fold # 32 Test mean squared error: 16.60\n",
      "Fold # 32 Test R2: 0.95\n",
      "Fold # 33 Test mean squared error: 10.94\n",
      "Fold # 33 Test R2: 0.97\n",
      "Fold # 34 Test mean squared error: 17.68\n",
      "Fold # 34 Test R2: 0.95\n",
      "Fold # 35 Test mean squared error: 13.09\n",
      "Fold # 35 Test R2: 0.96\n",
      "Fold # 36 Test mean squared error: 16.27\n",
      "Fold # 36 Test R2: 0.95\n",
      "Fold # 37 Test mean squared error: 20.16\n",
      "Fold # 37 Test R2: 0.94\n",
      "Fold # 38 Test mean squared error: 18.12\n",
      "Fold # 38 Test R2: 0.95\n",
      "Fold # 39 Test mean squared error: 16.81\n",
      "Fold # 39 Test R2: 0.95\n",
      "Fold # 40 Test mean squared error: 16.64\n",
      "Fold # 40 Test R2: 0.95\n",
      "Fold # 41 Test mean squared error: 21.70\n",
      "Fold # 41 Test R2: 0.94\n",
      "Fold # 42 Test mean squared error: 11.21\n",
      "Fold # 42 Test R2: 0.97\n",
      "Fold # 43 Test mean squared error: 15.46\n",
      "Fold # 43 Test R2: 0.95\n",
      "Fold # 44 Test mean squared error: 15.71\n",
      "Fold # 44 Test R2: 0.95\n",
      "Fold # 45 Test mean squared error: 19.28\n",
      "Fold # 45 Test R2: 0.94\n",
      "Fold # 46 Test mean squared error: 15.83\n",
      "Fold # 46 Test R2: 0.95\n",
      "Fold # 47 Test mean squared error: 16.55\n",
      "Fold # 47 Test R2: 0.95\n",
      "Fold # 48 Test mean squared error: 14.06\n",
      "Fold # 48 Test R2: 0.96\n",
      "Fold # 49 Test mean squared error: 19.55\n",
      "Fold # 49 Test R2: 0.94\n",
      "Fold # 50 Test mean squared error: 16.85\n",
      "Fold # 50 Test R2: 0.95\n",
      "Fold # 51 Test mean squared error: 14.94\n",
      "Fold # 51 Test R2: 0.96\n",
      "Fold # 52 Test mean squared error: 27.69\n",
      "Fold # 52 Test R2: 0.92\n",
      "Fold # 53 Test mean squared error: 13.51\n",
      "Fold # 53 Test R2: 0.96\n",
      "Fold # 54 Test mean squared error: 12.31\n",
      "Fold # 54 Test R2: 0.96\n",
      "Fold # 55 Test mean squared error: 33.67\n",
      "Fold # 55 Test R2: 0.90\n",
      "Fold # 56 Test mean squared error: 15.24\n",
      "Fold # 56 Test R2: 0.95\n",
      "Fold # 57 Test mean squared error: 16.02\n",
      "Fold # 57 Test R2: 0.95\n",
      "Fold # 58 Test mean squared error: 14.51\n",
      "Fold # 58 Test R2: 0.96\n",
      "Fold # 59 Test mean squared error: 17.40\n",
      "Fold # 59 Test R2: 0.95\n",
      "Fold # 60 Test mean squared error: 16.25\n",
      "Fold # 60 Test R2: 0.95\n",
      "Fold # 61 Test mean squared error: 17.87\n",
      "Fold # 61 Test R2: 0.95\n",
      "Fold # 62 Test mean squared error: 20.91\n",
      "Fold # 62 Test R2: 0.94\n",
      "Fold # 63 Test mean squared error: 37.85\n",
      "Fold # 63 Test R2: 0.89\n",
      "Fold # 64 Test mean squared error: 15.85\n",
      "Fold # 64 Test R2: 0.95\n",
      "Training Sample Size:  208\n",
      "Fold # 1 Test mean squared error: 25.94\n",
      "Fold # 1 Test R2: 0.92\n",
      "Fold # 2 Test mean squared error: 23.61\n",
      "Fold # 2 Test R2: 0.93\n"
     ]
    },
    {
     "name": "stdout",
     "output_type": "stream",
     "text": [
      "Fold # 3 Test mean squared error: 36.27\n",
      "Fold # 3 Test R2: 0.89\n",
      "Fold # 4 Test mean squared error: 23.24\n",
      "Fold # 4 Test R2: 0.93\n",
      "Fold # 5 Test mean squared error: 20.99\n",
      "Fold # 5 Test R2: 0.94\n",
      "Fold # 6 Test mean squared error: 19.46\n",
      "Fold # 6 Test R2: 0.94\n",
      "Fold # 7 Test mean squared error: 20.38\n",
      "Fold # 7 Test R2: 0.94\n",
      "Fold # 8 Test mean squared error: 16.41\n",
      "Fold # 8 Test R2: 0.95\n",
      "Fold # 9 Test mean squared error: 27.26\n",
      "Fold # 9 Test R2: 0.92\n",
      "Fold # 10 Test mean squared error: 34.33\n",
      "Fold # 10 Test R2: 0.90\n",
      "Fold # 11 Test mean squared error: 24.97\n",
      "Fold # 11 Test R2: 0.93\n",
      "Fold # 12 Test mean squared error: 27.20\n",
      "Fold # 12 Test R2: 0.92\n",
      "Fold # 13 Test mean squared error: 11.28\n",
      "Fold # 13 Test R2: 0.97\n",
      "Fold # 14 Test mean squared error: 35.46\n",
      "Fold # 14 Test R2: 0.90\n",
      "Fold # 15 Test mean squared error: 39.94\n",
      "Fold # 15 Test R2: 0.88\n",
      "Fold # 16 Test mean squared error: 18.90\n",
      "Fold # 16 Test R2: 0.94\n",
      "Fold # 17 Test mean squared error: 51.56\n",
      "Fold # 17 Test R2: 0.85\n",
      "Fold # 18 Test mean squared error: 33.11\n",
      "Fold # 18 Test R2: 0.90\n",
      "Fold # 19 Test mean squared error: 23.42\n",
      "Fold # 19 Test R2: 0.93\n",
      "Fold # 20 Test mean squared error: 19.00\n",
      "Fold # 20 Test R2: 0.94\n",
      "Fold # 21 Test mean squared error: 15.97\n",
      "Fold # 21 Test R2: 0.95\n",
      "Fold # 22 Test mean squared error: 20.42\n",
      "Fold # 22 Test R2: 0.94\n",
      "Fold # 23 Test mean squared error: 24.88\n",
      "Fold # 23 Test R2: 0.93\n",
      "Fold # 24 Test mean squared error: 34.15\n",
      "Fold # 24 Test R2: 0.90\n",
      "Fold # 25 Test mean squared error: 40.77\n",
      "Fold # 25 Test R2: 0.88\n",
      "Fold # 26 Test mean squared error: 12.61\n",
      "Fold # 26 Test R2: 0.96\n",
      "Fold # 27 Test mean squared error: 29.61\n",
      "Fold # 27 Test R2: 0.91\n",
      "Fold # 28 Test mean squared error: 18.77\n",
      "Fold # 28 Test R2: 0.94\n",
      "Fold # 29 Test mean squared error: 17.69\n",
      "Fold # 29 Test R2: 0.95\n",
      "Fold # 30 Test mean squared error: 18.92\n",
      "Fold # 30 Test R2: 0.94\n",
      "Fold # 31 Test mean squared error: 20.97\n",
      "Fold # 31 Test R2: 0.94\n",
      "Fold # 32 Test mean squared error: 19.93\n",
      "Fold # 32 Test R2: 0.94\n",
      "Fold # 33 Test mean squared error: 21.24\n",
      "Fold # 33 Test R2: 0.94\n",
      "Fold # 34 Test mean squared error: 22.70\n",
      "Fold # 34 Test R2: 0.93\n",
      "Fold # 35 Test mean squared error: 12.74\n",
      "Fold # 35 Test R2: 0.96\n",
      "Fold # 36 Test mean squared error: 47.25\n",
      "Fold # 36 Test R2: 0.86\n",
      "Fold # 37 Test mean squared error: 37.19\n",
      "Fold # 37 Test R2: 0.89\n",
      "Fold # 38 Test mean squared error: 21.18\n",
      "Fold # 38 Test R2: 0.94\n",
      "Fold # 39 Test mean squared error: 19.53\n",
      "Fold # 39 Test R2: 0.94\n",
      "Fold # 40 Test mean squared error: 25.91\n",
      "Fold # 40 Test R2: 0.92\n",
      "Fold # 41 Test mean squared error: 19.09\n",
      "Fold # 41 Test R2: 0.94\n",
      "Fold # 42 Test mean squared error: 24.06\n",
      "Fold # 42 Test R2: 0.93\n",
      "Fold # 43 Test mean squared error: 25.23\n",
      "Fold # 43 Test R2: 0.93\n",
      "Fold # 44 Test mean squared error: 27.13\n",
      "Fold # 44 Test R2: 0.92\n",
      "Fold # 45 Test mean squared error: 19.46\n",
      "Fold # 45 Test R2: 0.94\n",
      "Fold # 46 Test mean squared error: 40.26\n",
      "Fold # 46 Test R2: 0.88\n",
      "Fold # 47 Test mean squared error: 13.55\n",
      "Fold # 47 Test R2: 0.96\n",
      "Fold # 48 Test mean squared error: 25.43\n",
      "Fold # 48 Test R2: 0.92\n",
      "Fold # 49 Test mean squared error: 25.05\n",
      "Fold # 49 Test R2: 0.93\n",
      "Fold # 50 Test mean squared error: 33.96\n",
      "Fold # 50 Test R2: 0.90\n",
      "Fold # 51 Test mean squared error: 23.97\n",
      "Fold # 51 Test R2: 0.93\n",
      "Fold # 52 Test mean squared error: 18.56\n",
      "Fold # 52 Test R2: 0.95\n",
      "Fold # 53 Test mean squared error: 21.33\n",
      "Fold # 53 Test R2: 0.94\n",
      "Fold # 54 Test mean squared error: 24.96\n",
      "Fold # 54 Test R2: 0.93\n",
      "Fold # 55 Test mean squared error: 24.85\n",
      "Fold # 55 Test R2: 0.93\n",
      "Fold # 56 Test mean squared error: 26.46\n",
      "Fold # 56 Test R2: 0.92\n",
      "Fold # 57 Test mean squared error: 18.55\n",
      "Fold # 57 Test R2: 0.95\n",
      "Fold # 58 Test mean squared error: 20.38\n",
      "Fold # 58 Test R2: 0.94\n",
      "Fold # 59 Test mean squared error: 19.03\n",
      "Fold # 59 Test R2: 0.94\n",
      "Fold # 60 Test mean squared error: 24.03\n",
      "Fold # 60 Test R2: 0.93\n",
      "Fold # 61 Test mean squared error: 25.24\n",
      "Fold # 61 Test R2: 0.93\n",
      "Fold # 62 Test mean squared error: 16.29\n",
      "Fold # 62 Test R2: 0.95\n",
      "Fold # 63 Test mean squared error: 24.90\n",
      "Fold # 63 Test R2: 0.93\n",
      "Fold # 64 Test mean squared error: 21.00\n",
      "Fold # 64 Test R2: 0.94\n",
      "Fold # 65 Test mean squared error: 13.11\n",
      "Fold # 65 Test R2: 0.96\n",
      "Fold # 66 Test mean squared error: 22.14\n",
      "Fold # 66 Test R2: 0.93\n",
      "Fold # 67 Test mean squared error: 34.74\n",
      "Fold # 67 Test R2: 0.90\n",
      "Fold # 68 Test mean squared error: 26.88\n",
      "Fold # 68 Test R2: 0.92\n",
      "Fold # 69 Test mean squared error: 16.15\n",
      "Fold # 69 Test R2: 0.95\n",
      "Fold # 70 Test mean squared error: 19.15\n",
      "Fold # 70 Test R2: 0.94\n",
      "Fold # 71 Test mean squared error: 22.06\n",
      "Fold # 71 Test R2: 0.93\n",
      "Fold # 72 Test mean squared error: 24.32\n",
      "Fold # 72 Test R2: 0.93\n",
      "Fold # 73 Test mean squared error: 31.59\n",
      "Fold # 73 Test R2: 0.91\n",
      "Fold # 74 Test mean squared error: 27.43\n",
      "Fold # 74 Test R2: 0.92\n",
      "Fold # 75 Test mean squared error: 28.42\n",
      "Fold # 75 Test R2: 0.91\n",
      "Fold # 76 Test mean squared error: 26.58\n",
      "Fold # 76 Test R2: 0.92\n",
      "Fold # 77 Test mean squared error: 36.51\n",
      "Fold # 77 Test R2: 0.89\n",
      "Fold # 78 Test mean squared error: 21.95\n",
      "Fold # 78 Test R2: 0.93\n",
      "Fold # 79 Test mean squared error: 18.69\n",
      "Fold # 79 Test R2: 0.94\n",
      "Fold # 80 Test mean squared error: 41.33\n",
      "Fold # 80 Test R2: 0.88\n",
      "Fold # 81 Test mean squared error: 24.09\n",
      "Fold # 81 Test R2: 0.93\n",
      "Fold # 82 Test mean squared error: 36.04\n",
      "Fold # 82 Test R2: 0.89\n",
      "Fold # 83 Test mean squared error: 15.09\n",
      "Fold # 83 Test R2: 0.95\n",
      "Fold # 84 Test mean squared error: 20.93\n",
      "Fold # 84 Test R2: 0.94\n",
      "Fold # 85 Test mean squared error: 21.57\n",
      "Fold # 85 Test R2: 0.94\n",
      "Fold # 86 Test mean squared error: 23.08\n",
      "Fold # 86 Test R2: 0.93\n",
      "Fold # 87 Test mean squared error: 24.95\n",
      "Fold # 87 Test R2: 0.93\n",
      "Fold # 88 Test mean squared error: 18.62\n",
      "Fold # 88 Test R2: 0.94\n",
      "Fold # 89 Test mean squared error: 19.36\n",
      "Fold # 89 Test R2: 0.94\n",
      "Fold # 90 Test mean squared error: 34.77\n",
      "Fold # 90 Test R2: 0.90\n",
      "Fold # 91 Test mean squared error: 15.96\n",
      "Fold # 91 Test R2: 0.95\n",
      "Fold # 92 Test mean squared error: 21.91\n",
      "Fold # 92 Test R2: 0.93\n",
      "Fold # 93 Test mean squared error: 22.47\n",
      "Fold # 93 Test R2: 0.93\n",
      "Fold # 94 Test mean squared error: 20.00\n",
      "Fold # 94 Test R2: 0.94\n",
      "Fold # 95 Test mean squared error: 15.09\n",
      "Fold # 95 Test R2: 0.95\n",
      "Fold # 96 Test mean squared error: 21.69\n",
      "Fold # 96 Test R2: 0.94\n",
      "Fold # 97 Test mean squared error: 32.40\n",
      "Fold # 97 Test R2: 0.90\n",
      "Fold # 98 Test mean squared error: 22.68\n",
      "Fold # 98 Test R2: 0.93\n",
      "Fold # 99 Test mean squared error: 20.77\n",
      "Fold # 99 Test R2: 0.94\n",
      "Fold # 100 Test mean squared error: 30.94\n",
      "Fold # 100 Test R2: 0.91\n",
      "Fold # 101 Test mean squared error: 27.90\n",
      "Fold # 101 Test R2: 0.92\n",
      "Fold # 102 Test mean squared error: 19.11\n",
      "Fold # 102 Test R2: 0.94\n",
      "Fold # 103 Test mean squared error: 45.57\n",
      "Fold # 103 Test R2: 0.86\n",
      "Fold # 104 Test mean squared error: 31.70\n",
      "Fold # 104 Test R2: 0.91\n",
      "Fold # 105 Test mean squared error: 18.51\n",
      "Fold # 105 Test R2: 0.94\n",
      "Fold # 106 Test mean squared error: 27.06\n",
      "Fold # 106 Test R2: 0.92\n",
      "Fold # 107 Test mean squared error: 19.77\n",
      "Fold # 107 Test R2: 0.94\n",
      "Fold # 108 Test mean squared error: 16.56\n",
      "Fold # 108 Test R2: 0.95\n",
      "Fold # 109 Test mean squared error: 27.87\n",
      "Fold # 109 Test R2: 0.92\n",
      "Fold # 110 Test mean squared error: 35.59\n",
      "Fold # 110 Test R2: 0.89\n",
      "Fold # 111 Test mean squared error: 25.37\n",
      "Fold # 111 Test R2: 0.92\n",
      "Fold # 112 Test mean squared error: 20.95\n",
      "Fold # 112 Test R2: 0.94\n",
      "Fold # 113 Test mean squared error: 17.31\n",
      "Fold # 113 Test R2: 0.95\n",
      "Fold # 114 Test mean squared error: 25.35\n",
      "Fold # 114 Test R2: 0.92\n",
      "Fold # 115 Test mean squared error: 18.54\n",
      "Fold # 115 Test R2: 0.94\n",
      "Fold # 116 Test mean squared error: 25.40\n",
      "Fold # 116 Test R2: 0.92\n",
      "Fold # 117 Test mean squared error: 20.96\n",
      "Fold # 117 Test R2: 0.94\n",
      "Fold # 118 Test mean squared error: 21.37\n",
      "Fold # 118 Test R2: 0.94\n",
      "Fold # 119 Test mean squared error: 18.35\n",
      "Fold # 119 Test R2: 0.95\n",
      "Fold # 120 Test mean squared error: 26.18\n",
      "Fold # 120 Test R2: 0.92\n",
      "Fold # 121 Test mean squared error: 21.51\n",
      "Fold # 121 Test R2: 0.94\n",
      "Fold # 122 Test mean squared error: 18.69\n",
      "Fold # 122 Test R2: 0.94\n",
      "Fold # 123 Test mean squared error: 34.01\n",
      "Fold # 123 Test R2: 0.90\n",
      "Fold # 124 Test mean squared error: 19.64\n",
      "Fold # 124 Test R2: 0.94\n",
      "Fold # 125 Test mean squared error: 23.23\n",
      "Fold # 125 Test R2: 0.93\n",
      "Fold # 126 Test mean squared error: 45.81\n",
      "Fold # 126 Test R2: 0.86\n",
      "Fold # 127 Test mean squared error: 17.87\n",
      "Fold # 127 Test R2: 0.95\n",
      "Fold # 128 Test mean squared error: 31.50\n",
      "Fold # 128 Test R2: 0.91\n",
      "Training Sample Size:  104\n"
     ]
    },
    {
     "name": "stdout",
     "output_type": "stream",
     "text": [
      "Fold # 1 Test mean squared error: 24.00\n",
      "Fold # 1 Test R2: 0.93\n",
      "Fold # 2 Test mean squared error: 28.65\n",
      "Fold # 2 Test R2: 0.91\n",
      "Fold # 3 Test mean squared error: 32.68\n",
      "Fold # 3 Test R2: 0.90\n",
      "Fold # 4 Test mean squared error: 32.83\n",
      "Fold # 4 Test R2: 0.90\n",
      "Fold # 5 Test mean squared error: 82.67\n",
      "Fold # 5 Test R2: 0.75\n",
      "Fold # 6 Test mean squared error: 40.26\n",
      "Fold # 6 Test R2: 0.88\n",
      "Fold # 7 Test mean squared error: 23.41\n",
      "Fold # 7 Test R2: 0.93\n",
      "Fold # 8 Test mean squared error: 45.39\n",
      "Fold # 8 Test R2: 0.86\n",
      "Fold # 9 Test mean squared error: 23.37\n",
      "Fold # 9 Test R2: 0.93\n",
      "Fold # 10 Test mean squared error: 20.65\n",
      "Fold # 10 Test R2: 0.94\n",
      "Fold # 11 Test mean squared error: 42.28\n",
      "Fold # 11 Test R2: 0.87\n",
      "Fold # 12 Test mean squared error: 24.98\n",
      "Fold # 12 Test R2: 0.93\n",
      "Fold # 13 Test mean squared error: 27.22\n",
      "Fold # 13 Test R2: 0.92\n",
      "Fold # 14 Test mean squared error: 47.32\n",
      "Fold # 14 Test R2: 0.86\n",
      "Fold # 15 Test mean squared error: 15.54\n",
      "Fold # 15 Test R2: 0.95\n",
      "Fold # 16 Test mean squared error: 32.39\n",
      "Fold # 16 Test R2: 0.90\n",
      "Fold # 17 Test mean squared error: 96.39\n",
      "Fold # 17 Test R2: 0.71\n",
      "Fold # 18 Test mean squared error: 33.70\n",
      "Fold # 18 Test R2: 0.90\n",
      "Fold # 19 Test mean squared error: 59.97\n",
      "Fold # 19 Test R2: 0.82\n",
      "Fold # 20 Test mean squared error: 52.35\n",
      "Fold # 20 Test R2: 0.84\n",
      "Fold # 21 Test mean squared error: 41.29\n",
      "Fold # 21 Test R2: 0.87\n",
      "Fold # 22 Test mean squared error: 27.56\n",
      "Fold # 22 Test R2: 0.92\n",
      "Fold # 23 Test mean squared error: 52.89\n",
      "Fold # 23 Test R2: 0.84\n",
      "Fold # 24 Test mean squared error: 48.46\n",
      "Fold # 24 Test R2: 0.85\n",
      "Fold # 25 Test mean squared error: 21.40\n",
      "Fold # 25 Test R2: 0.94\n",
      "Fold # 26 Test mean squared error: 28.12\n",
      "Fold # 26 Test R2: 0.91\n",
      "Fold # 27 Test mean squared error: 42.01\n",
      "Fold # 27 Test R2: 0.87\n",
      "Fold # 28 Test mean squared error: 47.81\n",
      "Fold # 28 Test R2: 0.86\n",
      "Fold # 29 Test mean squared error: 53.41\n",
      "Fold # 29 Test R2: 0.84\n",
      "Fold # 30 Test mean squared error: 53.06\n",
      "Fold # 30 Test R2: 0.84\n",
      "Fold # 31 Test mean squared error: 25.64\n",
      "Fold # 31 Test R2: 0.92\n",
      "Fold # 32 Test mean squared error: 68.08\n",
      "Fold # 32 Test R2: 0.80\n",
      "Fold # 33 Test mean squared error: 68.44\n",
      "Fold # 33 Test R2: 0.80\n",
      "Fold # 34 Test mean squared error: 86.35\n",
      "Fold # 34 Test R2: 0.74\n",
      "Fold # 35 Test mean squared error: 72.56\n",
      "Fold # 35 Test R2: 0.78\n",
      "Fold # 36 Test mean squared error: 48.38\n",
      "Fold # 36 Test R2: 0.86\n",
      "Fold # 37 Test mean squared error: 37.90\n",
      "Fold # 37 Test R2: 0.89\n",
      "Fold # 38 Test mean squared error: 28.76\n",
      "Fold # 38 Test R2: 0.91\n",
      "Fold # 39 Test mean squared error: 24.02\n",
      "Fold # 39 Test R2: 0.93\n",
      "Fold # 40 Test mean squared error: 21.91\n",
      "Fold # 40 Test R2: 0.93\n",
      "Fold # 41 Test mean squared error: 26.91\n",
      "Fold # 41 Test R2: 0.92\n",
      "Fold # 42 Test mean squared error: 27.00\n",
      "Fold # 42 Test R2: 0.91\n",
      "Fold # 43 Test mean squared error: 33.07\n",
      "Fold # 43 Test R2: 0.90\n",
      "Fold # 44 Test mean squared error: 22.55\n",
      "Fold # 44 Test R2: 0.93\n",
      "Fold # 45 Test mean squared error: 67.39\n",
      "Fold # 45 Test R2: 0.80\n",
      "Fold # 46 Test mean squared error: 31.11\n",
      "Fold # 46 Test R2: 0.91\n",
      "Fold # 47 Test mean squared error: 46.11\n",
      "Fold # 47 Test R2: 0.86\n",
      "Fold # 48 Test mean squared error: 53.60\n",
      "Fold # 48 Test R2: 0.84\n",
      "Fold # 49 Test mean squared error: 60.89\n",
      "Fold # 49 Test R2: 0.82\n",
      "Fold # 50 Test mean squared error: 47.33\n",
      "Fold # 50 Test R2: 0.86\n",
      "Fold # 51 Test mean squared error: 24.34\n",
      "Fold # 51 Test R2: 0.93\n",
      "Fold # 52 Test mean squared error: 21.43\n",
      "Fold # 52 Test R2: 0.93\n",
      "Fold # 53 Test mean squared error: 58.21\n",
      "Fold # 53 Test R2: 0.83\n",
      "Fold # 54 Test mean squared error: 38.61\n",
      "Fold # 54 Test R2: 0.88\n",
      "Fold # 55 Test mean squared error: 24.78\n",
      "Fold # 55 Test R2: 0.92\n",
      "Fold # 56 Test mean squared error: 35.57\n",
      "Fold # 56 Test R2: 0.89\n",
      "Fold # 57 Test mean squared error: 29.35\n",
      "Fold # 57 Test R2: 0.91\n",
      "Fold # 58 Test mean squared error: 21.77\n",
      "Fold # 58 Test R2: 0.93\n",
      "Fold # 59 Test mean squared error: 42.88\n",
      "Fold # 59 Test R2: 0.87\n",
      "Fold # 60 Test mean squared error: 27.90\n",
      "Fold # 60 Test R2: 0.92\n",
      "Fold # 61 Test mean squared error: 24.08\n",
      "Fold # 61 Test R2: 0.93\n",
      "Fold # 62 Test mean squared error: 24.20\n",
      "Fold # 62 Test R2: 0.93\n",
      "Fold # 63 Test mean squared error: 58.59\n",
      "Fold # 63 Test R2: 0.82\n",
      "Fold # 64 Test mean squared error: 21.73\n",
      "Fold # 64 Test R2: 0.93\n",
      "Fold # 65 Test mean squared error: 35.21\n",
      "Fold # 65 Test R2: 0.89\n",
      "Fold # 66 Test mean squared error: 49.91\n",
      "Fold # 66 Test R2: 0.85\n",
      "Fold # 67 Test mean squared error: 34.60\n",
      "Fold # 67 Test R2: 0.90\n",
      "Fold # 68 Test mean squared error: 39.27\n",
      "Fold # 68 Test R2: 0.88\n",
      "Fold # 69 Test mean squared error: 31.77\n",
      "Fold # 69 Test R2: 0.90\n",
      "Fold # 70 Test mean squared error: 14.78\n",
      "Fold # 70 Test R2: 0.96\n",
      "Fold # 71 Test mean squared error: 82.88\n",
      "Fold # 71 Test R2: 0.75\n",
      "Fold # 72 Test mean squared error: 71.99\n",
      "Fold # 72 Test R2: 0.78\n",
      "Fold # 73 Test mean squared error: 58.78\n",
      "Fold # 73 Test R2: 0.82\n",
      "Fold # 74 Test mean squared error: 73.21\n",
      "Fold # 74 Test R2: 0.78\n",
      "Fold # 75 Test mean squared error: 45.13\n",
      "Fold # 75 Test R2: 0.86\n",
      "Fold # 76 Test mean squared error: 27.80\n",
      "Fold # 76 Test R2: 0.92\n",
      "Fold # 77 Test mean squared error: 23.24\n",
      "Fold # 77 Test R2: 0.93\n",
      "Fold # 78 Test mean squared error: 34.21\n",
      "Fold # 78 Test R2: 0.90\n",
      "Fold # 79 Test mean squared error: 30.73\n",
      "Fold # 79 Test R2: 0.91\n",
      "Fold # 80 Test mean squared error: 41.66\n",
      "Fold # 80 Test R2: 0.87\n",
      "Fold # 81 Test mean squared error: 39.92\n",
      "Fold # 81 Test R2: 0.88\n",
      "Fold # 82 Test mean squared error: 21.02\n",
      "Fold # 82 Test R2: 0.94\n",
      "Fold # 83 Test mean squared error: 117.79\n",
      "Fold # 83 Test R2: 0.65\n",
      "Fold # 84 Test mean squared error: 37.23\n",
      "Fold # 84 Test R2: 0.89\n",
      "Fold # 85 Test mean squared error: 57.58\n",
      "Fold # 85 Test R2: 0.83\n",
      "Fold # 86 Test mean squared error: 33.30\n",
      "Fold # 86 Test R2: 0.90\n",
      "Fold # 87 Test mean squared error: 40.79\n",
      "Fold # 87 Test R2: 0.88\n",
      "Fold # 88 Test mean squared error: 43.26\n",
      "Fold # 88 Test R2: 0.87\n",
      "Fold # 89 Test mean squared error: 57.22\n",
      "Fold # 89 Test R2: 0.83\n",
      "Fold # 90 Test mean squared error: 45.22\n",
      "Fold # 90 Test R2: 0.86\n",
      "Fold # 91 Test mean squared error: 143.51\n",
      "Fold # 91 Test R2: 0.57\n",
      "Fold # 92 Test mean squared error: 61.16\n",
      "Fold # 92 Test R2: 0.82\n",
      "Fold # 93 Test mean squared error: 28.46\n",
      "Fold # 93 Test R2: 0.91\n",
      "Fold # 94 Test mean squared error: 20.66\n",
      "Fold # 94 Test R2: 0.94\n",
      "Fold # 95 Test mean squared error: 24.40\n",
      "Fold # 95 Test R2: 0.93\n",
      "Fold # 96 Test mean squared error: 36.65\n",
      "Fold # 96 Test R2: 0.88\n",
      "Fold # 97 Test mean squared error: 24.35\n",
      "Fold # 97 Test R2: 0.93\n",
      "Fold # 98 Test mean squared error: 55.81\n",
      "Fold # 98 Test R2: 0.83\n",
      "Fold # 99 Test mean squared error: 94.69\n",
      "Fold # 99 Test R2: 0.72\n",
      "Fold # 100 Test mean squared error: 45.95\n",
      "Fold # 100 Test R2: 0.86\n",
      "Fold # 101 Test mean squared error: 59.59\n",
      "Fold # 101 Test R2: 0.82\n",
      "Fold # 102 Test mean squared error: 28.70\n",
      "Fold # 102 Test R2: 0.91\n",
      "Fold # 103 Test mean squared error: 27.61\n",
      "Fold # 103 Test R2: 0.92\n",
      "Fold # 104 Test mean squared error: 32.29\n",
      "Fold # 104 Test R2: 0.90\n",
      "Fold # 105 Test mean squared error: 73.89\n",
      "Fold # 105 Test R2: 0.78\n",
      "Fold # 106 Test mean squared error: 27.10\n",
      "Fold # 106 Test R2: 0.92\n",
      "Fold # 107 Test mean squared error: 25.98\n",
      "Fold # 107 Test R2: 0.92\n",
      "Fold # 108 Test mean squared error: 30.85\n",
      "Fold # 108 Test R2: 0.91\n",
      "Fold # 109 Test mean squared error: 27.98\n",
      "Fold # 109 Test R2: 0.92\n",
      "Fold # 110 Test mean squared error: 50.81\n",
      "Fold # 110 Test R2: 0.85\n",
      "Fold # 111 Test mean squared error: 81.12\n",
      "Fold # 111 Test R2: 0.76\n",
      "Fold # 112 Test mean squared error: 69.48\n",
      "Fold # 112 Test R2: 0.79\n",
      "Fold # 113 Test mean squared error: 42.08\n",
      "Fold # 113 Test R2: 0.87\n",
      "Fold # 114 Test mean squared error: 22.05\n",
      "Fold # 114 Test R2: 0.93\n",
      "Fold # 115 Test mean squared error: 28.13\n",
      "Fold # 115 Test R2: 0.91\n",
      "Fold # 116 Test mean squared error: 77.15\n",
      "Fold # 116 Test R2: 0.77\n",
      "Fold # 117 Test mean squared error: 68.72\n",
      "Fold # 117 Test R2: 0.79\n",
      "Fold # 118 Test mean squared error: 24.69\n",
      "Fold # 118 Test R2: 0.93\n",
      "Fold # 119 Test mean squared error: 33.97\n",
      "Fold # 119 Test R2: 0.90\n",
      "Fold # 120 Test mean squared error: 30.98\n",
      "Fold # 120 Test R2: 0.91\n",
      "Fold # 121 Test mean squared error: 35.74\n",
      "Fold # 121 Test R2: 0.89\n",
      "Fold # 122 Test mean squared error: 37.02\n",
      "Fold # 122 Test R2: 0.89\n",
      "Fold # 123 Test mean squared error: 26.62\n",
      "Fold # 123 Test R2: 0.92\n",
      "Fold # 124 Test mean squared error: 21.77\n",
      "Fold # 124 Test R2: 0.93\n",
      "Fold # 125 Test mean squared error: 33.62\n",
      "Fold # 125 Test R2: 0.90\n",
      "Fold # 126 Test mean squared error: 37.75\n",
      "Fold # 126 Test R2: 0.89\n"
     ]
    },
    {
     "name": "stdout",
     "output_type": "stream",
     "text": [
      "Fold # 127 Test mean squared error: 21.55\n",
      "Fold # 127 Test R2: 0.94\n",
      "Fold # 128 Test mean squared error: 26.10\n",
      "Fold # 128 Test R2: 0.92\n",
      "Fold # 129 Test mean squared error: 23.09\n",
      "Fold # 129 Test R2: 0.93\n",
      "Fold # 130 Test mean squared error: 27.47\n",
      "Fold # 130 Test R2: 0.92\n",
      "Fold # 131 Test mean squared error: 22.76\n",
      "Fold # 131 Test R2: 0.93\n",
      "Fold # 132 Test mean squared error: 56.91\n",
      "Fold # 132 Test R2: 0.83\n",
      "Fold # 133 Test mean squared error: 40.73\n",
      "Fold # 133 Test R2: 0.88\n",
      "Fold # 134 Test mean squared error: 47.95\n",
      "Fold # 134 Test R2: 0.86\n",
      "Fold # 135 Test mean squared error: 37.52\n",
      "Fold # 135 Test R2: 0.89\n",
      "Fold # 136 Test mean squared error: 39.60\n",
      "Fold # 136 Test R2: 0.88\n",
      "Fold # 137 Test mean squared error: 20.88\n",
      "Fold # 137 Test R2: 0.94\n",
      "Fold # 138 Test mean squared error: 23.68\n",
      "Fold # 138 Test R2: 0.93\n",
      "Fold # 139 Test mean squared error: 25.82\n",
      "Fold # 139 Test R2: 0.92\n",
      "Fold # 140 Test mean squared error: 56.09\n",
      "Fold # 140 Test R2: 0.83\n",
      "Fold # 141 Test mean squared error: 167.71\n",
      "Fold # 141 Test R2: 0.50\n",
      "Fold # 142 Test mean squared error: 27.58\n",
      "Fold # 142 Test R2: 0.92\n",
      "Fold # 143 Test mean squared error: 28.65\n",
      "Fold # 143 Test R2: 0.91\n",
      "Fold # 144 Test mean squared error: 51.59\n",
      "Fold # 144 Test R2: 0.85\n",
      "Fold # 145 Test mean squared error: 41.55\n",
      "Fold # 145 Test R2: 0.88\n",
      "Fold # 146 Test mean squared error: 139.87\n",
      "Fold # 146 Test R2: 0.58\n",
      "Fold # 147 Test mean squared error: 31.42\n",
      "Fold # 147 Test R2: 0.91\n",
      "Fold # 148 Test mean squared error: 147.77\n",
      "Fold # 148 Test R2: 0.56\n",
      "Fold # 149 Test mean squared error: 32.71\n",
      "Fold # 149 Test R2: 0.90\n",
      "Fold # 150 Test mean squared error: 55.63\n",
      "Fold # 150 Test R2: 0.83\n",
      "Fold # 151 Test mean squared error: 43.41\n",
      "Fold # 151 Test R2: 0.87\n",
      "Fold # 152 Test mean squared error: 41.43\n",
      "Fold # 152 Test R2: 0.88\n",
      "Fold # 153 Test mean squared error: 70.63\n",
      "Fold # 153 Test R2: 0.79\n",
      "Fold # 154 Test mean squared error: 41.62\n",
      "Fold # 154 Test R2: 0.88\n",
      "Fold # 155 Test mean squared error: 29.69\n",
      "Fold # 155 Test R2: 0.91\n",
      "Fold # 156 Test mean squared error: 28.04\n",
      "Fold # 156 Test R2: 0.92\n",
      "Fold # 157 Test mean squared error: 24.47\n",
      "Fold # 157 Test R2: 0.93\n",
      "Fold # 158 Test mean squared error: 24.70\n",
      "Fold # 158 Test R2: 0.93\n",
      "Fold # 159 Test mean squared error: 54.76\n",
      "Fold # 159 Test R2: 0.84\n",
      "Fold # 160 Test mean squared error: 78.50\n",
      "Fold # 160 Test R2: 0.76\n",
      "Fold # 161 Test mean squared error: 47.21\n",
      "Fold # 161 Test R2: 0.86\n",
      "Fold # 162 Test mean squared error: 55.43\n",
      "Fold # 162 Test R2: 0.83\n",
      "Fold # 163 Test mean squared error: 36.24\n",
      "Fold # 163 Test R2: 0.89\n",
      "Fold # 164 Test mean squared error: 71.04\n",
      "Fold # 164 Test R2: 0.79\n",
      "Fold # 165 Test mean squared error: 38.41\n",
      "Fold # 165 Test R2: 0.88\n",
      "Fold # 166 Test mean squared error: 22.63\n",
      "Fold # 166 Test R2: 0.93\n",
      "Fold # 167 Test mean squared error: 27.59\n",
      "Fold # 167 Test R2: 0.92\n",
      "Fold # 168 Test mean squared error: 30.22\n",
      "Fold # 168 Test R2: 0.91\n",
      "Fold # 169 Test mean squared error: 31.93\n",
      "Fold # 169 Test R2: 0.90\n",
      "Fold # 170 Test mean squared error: 26.43\n",
      "Fold # 170 Test R2: 0.92\n",
      "Fold # 171 Test mean squared error: 19.09\n",
      "Fold # 171 Test R2: 0.94\n",
      "Fold # 172 Test mean squared error: 68.27\n",
      "Fold # 172 Test R2: 0.80\n",
      "Fold # 173 Test mean squared error: 25.68\n",
      "Fold # 173 Test R2: 0.92\n",
      "Fold # 174 Test mean squared error: 52.01\n",
      "Fold # 174 Test R2: 0.84\n",
      "Fold # 175 Test mean squared error: 20.82\n",
      "Fold # 175 Test R2: 0.94\n",
      "Fold # 176 Test mean squared error: 40.65\n",
      "Fold # 176 Test R2: 0.88\n",
      "Fold # 177 Test mean squared error: 22.84\n",
      "Fold # 177 Test R2: 0.93\n",
      "Fold # 178 Test mean squared error: 33.97\n",
      "Fold # 178 Test R2: 0.90\n",
      "Fold # 179 Test mean squared error: 32.16\n",
      "Fold # 179 Test R2: 0.90\n",
      "Fold # 180 Test mean squared error: 46.89\n",
      "Fold # 180 Test R2: 0.86\n",
      "Fold # 181 Test mean squared error: 32.62\n",
      "Fold # 181 Test R2: 0.90\n",
      "Fold # 182 Test mean squared error: 20.84\n",
      "Fold # 182 Test R2: 0.94\n",
      "Fold # 183 Test mean squared error: 31.75\n",
      "Fold # 183 Test R2: 0.90\n",
      "Fold # 184 Test mean squared error: 26.81\n",
      "Fold # 184 Test R2: 0.92\n",
      "Fold # 185 Test mean squared error: 30.61\n",
      "Fold # 185 Test R2: 0.91\n",
      "Fold # 186 Test mean squared error: 30.70\n",
      "Fold # 186 Test R2: 0.91\n",
      "Fold # 187 Test mean squared error: 103.84\n",
      "Fold # 187 Test R2: 0.69\n",
      "Fold # 188 Test mean squared error: 25.03\n",
      "Fold # 188 Test R2: 0.93\n",
      "Fold # 189 Test mean squared error: 39.98\n",
      "Fold # 189 Test R2: 0.88\n",
      "Fold # 190 Test mean squared error: 24.34\n",
      "Fold # 190 Test R2: 0.93\n",
      "Fold # 191 Test mean squared error: 25.67\n",
      "Fold # 191 Test R2: 0.92\n",
      "Fold # 192 Test mean squared error: 28.85\n",
      "Fold # 192 Test R2: 0.91\n",
      "Fold # 193 Test mean squared error: 74.42\n",
      "Fold # 193 Test R2: 0.78\n",
      "Fold # 194 Test mean squared error: 37.30\n",
      "Fold # 194 Test R2: 0.89\n",
      "Fold # 195 Test mean squared error: 78.51\n",
      "Fold # 195 Test R2: 0.76\n",
      "Fold # 196 Test mean squared error: 30.48\n",
      "Fold # 196 Test R2: 0.91\n",
      "Fold # 197 Test mean squared error: 22.27\n",
      "Fold # 197 Test R2: 0.93\n",
      "Fold # 198 Test mean squared error: 50.44\n",
      "Fold # 198 Test R2: 0.85\n",
      "Fold # 199 Test mean squared error: 57.17\n",
      "Fold # 199 Test R2: 0.83\n",
      "Fold # 200 Test mean squared error: 68.97\n",
      "Fold # 200 Test R2: 0.79\n",
      "Fold # 201 Test mean squared error: 30.70\n",
      "Fold # 201 Test R2: 0.91\n",
      "Fold # 202 Test mean squared error: 50.64\n",
      "Fold # 202 Test R2: 0.85\n",
      "Fold # 203 Test mean squared error: 22.48\n",
      "Fold # 203 Test R2: 0.93\n",
      "Fold # 204 Test mean squared error: 23.49\n",
      "Fold # 204 Test R2: 0.93\n",
      "Fold # 205 Test mean squared error: 43.23\n",
      "Fold # 205 Test R2: 0.87\n",
      "Fold # 206 Test mean squared error: 59.56\n",
      "Fold # 206 Test R2: 0.82\n",
      "Fold # 207 Test mean squared error: 60.15\n",
      "Fold # 207 Test R2: 0.82\n",
      "Fold # 208 Test mean squared error: 64.11\n",
      "Fold # 208 Test R2: 0.81\n",
      "Fold # 209 Test mean squared error: 23.44\n",
      "Fold # 209 Test R2: 0.93\n",
      "Fold # 210 Test mean squared error: 50.41\n",
      "Fold # 210 Test R2: 0.85\n",
      "Fold # 211 Test mean squared error: 30.54\n",
      "Fold # 211 Test R2: 0.91\n",
      "Fold # 212 Test mean squared error: 28.64\n",
      "Fold # 212 Test R2: 0.91\n",
      "Fold # 213 Test mean squared error: 39.87\n",
      "Fold # 213 Test R2: 0.88\n",
      "Fold # 214 Test mean squared error: 25.92\n",
      "Fold # 214 Test R2: 0.92\n",
      "Fold # 215 Test mean squared error: 18.77\n",
      "Fold # 215 Test R2: 0.94\n",
      "Fold # 216 Test mean squared error: 38.06\n",
      "Fold # 216 Test R2: 0.89\n",
      "Fold # 217 Test mean squared error: 47.13\n",
      "Fold # 217 Test R2: 0.86\n",
      "Fold # 218 Test mean squared error: 45.36\n",
      "Fold # 218 Test R2: 0.86\n",
      "Fold # 219 Test mean squared error: 41.25\n",
      "Fold # 219 Test R2: 0.88\n",
      "Fold # 220 Test mean squared error: 30.97\n",
      "Fold # 220 Test R2: 0.91\n",
      "Fold # 221 Test mean squared error: 35.15\n",
      "Fold # 221 Test R2: 0.89\n",
      "Fold # 222 Test mean squared error: 63.46\n",
      "Fold # 222 Test R2: 0.81\n",
      "Fold # 223 Test mean squared error: 30.91\n",
      "Fold # 223 Test R2: 0.91\n",
      "Fold # 224 Test mean squared error: 33.49\n",
      "Fold # 224 Test R2: 0.90\n",
      "Fold # 225 Test mean squared error: 41.24\n",
      "Fold # 225 Test R2: 0.88\n",
      "Fold # 226 Test mean squared error: 25.76\n",
      "Fold # 226 Test R2: 0.92\n",
      "Fold # 227 Test mean squared error: 26.70\n",
      "Fold # 227 Test R2: 0.92\n",
      "Fold # 228 Test mean squared error: 27.91\n",
      "Fold # 228 Test R2: 0.92\n",
      "Fold # 229 Test mean squared error: 26.80\n",
      "Fold # 229 Test R2: 0.92\n",
      "Fold # 230 Test mean squared error: 40.25\n",
      "Fold # 230 Test R2: 0.88\n",
      "Fold # 231 Test mean squared error: 47.99\n",
      "Fold # 231 Test R2: 0.86\n",
      "Fold # 232 Test mean squared error: 27.22\n",
      "Fold # 232 Test R2: 0.92\n",
      "Fold # 233 Test mean squared error: 24.46\n",
      "Fold # 233 Test R2: 0.93\n",
      "Fold # 234 Test mean squared error: 65.68\n",
      "Fold # 234 Test R2: 0.80\n",
      "Fold # 235 Test mean squared error: 26.04\n",
      "Fold # 235 Test R2: 0.92\n",
      "Fold # 236 Test mean squared error: 44.33\n",
      "Fold # 236 Test R2: 0.87\n",
      "Fold # 237 Test mean squared error: 21.26\n",
      "Fold # 237 Test R2: 0.94\n",
      "Fold # 238 Test mean squared error: 135.19\n",
      "Fold # 238 Test R2: 0.60\n",
      "Fold # 239 Test mean squared error: 64.53\n",
      "Fold # 239 Test R2: 0.81\n",
      "Fold # 240 Test mean squared error: 55.08\n",
      "Fold # 240 Test R2: 0.84\n",
      "Fold # 241 Test mean squared error: 37.05\n",
      "Fold # 241 Test R2: 0.89\n",
      "Fold # 242 Test mean squared error: 27.30\n",
      "Fold # 242 Test R2: 0.92\n",
      "Fold # 243 Test mean squared error: 41.95\n",
      "Fold # 243 Test R2: 0.87\n",
      "Fold # 244 Test mean squared error: 25.00\n",
      "Fold # 244 Test R2: 0.93\n",
      "Fold # 245 Test mean squared error: 45.05\n",
      "Fold # 245 Test R2: 0.87\n",
      "Fold # 246 Test mean squared error: 39.39\n",
      "Fold # 246 Test R2: 0.88\n",
      "Fold # 247 Test mean squared error: 27.31\n",
      "Fold # 247 Test R2: 0.92\n",
      "Fold # 248 Test mean squared error: 21.95\n",
      "Fold # 248 Test R2: 0.93\n",
      "Fold # 249 Test mean squared error: 43.68\n",
      "Fold # 249 Test R2: 0.87\n"
     ]
    },
    {
     "name": "stdout",
     "output_type": "stream",
     "text": [
      "Fold # 250 Test mean squared error: 55.91\n",
      "Fold # 250 Test R2: 0.83\n",
      "Fold # 251 Test mean squared error: 35.62\n",
      "Fold # 251 Test R2: 0.89\n",
      "Fold # 252 Test mean squared error: 71.79\n",
      "Fold # 252 Test R2: 0.78\n",
      "Fold # 253 Test mean squared error: 25.53\n",
      "Fold # 253 Test R2: 0.92\n",
      "Fold # 254 Test mean squared error: 19.73\n",
      "Fold # 254 Test R2: 0.94\n",
      "Fold # 255 Test mean squared error: 53.67\n",
      "Fold # 255 Test R2: 0.84\n",
      "Fold # 256 Test mean squared error: 116.26\n",
      "Fold # 256 Test R2: 0.65\n",
      "Training Sample Size:  52\n"
     ]
    }
   ],
   "source": [
    "ks = 9\n",
    "\n",
    "#mse = np.zeros((ks-2,1))\n",
    "#r2 = np.zeros((ks-2,1))\n",
    "mse_vec = []\n",
    "r2_vec = []\n",
    "sample_Size_vec = []\n",
    "for k in range(2,ks):\n",
    "    k = int(2**k)\n",
    "    mse,r2,ss=cross_validation_sample_size(x_tr_der,y_tr,'Ridge(alpha=0.0000001,normalize=False)',k,1,1) #increase k_fold\n",
    "    \n",
    "    mse_vec.append(mse)\n",
    "    r2_vec.append(r2)\n",
    "    sample_Size_vec.append(ss)\n",
    "    \n"
   ]
  },
  {
   "cell_type": "code",
   "execution_count": 639,
   "metadata": {},
   "outputs": [
    {
     "data": {
      "text/plain": [
       "Text(0, 0.5, 'MSE')"
      ]
     },
     "execution_count": 639,
     "metadata": {},
     "output_type": "execute_result"
    },
    {
     "data": {
      "image/png": "[encoded data removed]",
      "text/plain": [
       "<Figure size 432x288 with 1 Axes>"
      ]
     },
     "metadata": {
      "needs_background": "light"
     },
     "output_type": "display_data"
    }
   ],
   "source": [
    "plt.scatter(sample_Size_vec[:-1], mse_vec[:-1])\n",
    "plt.title('Ridge Regression')\n",
    "plt.xlabel('Sample Size')\n",
    "plt.ylabel('MSE')"
   ]
  },
  {
   "cell_type": "code",
   "execution_count": null,
   "metadata": {},
   "outputs": [],
   "source": [
    "#We can still optimize the alpha for the smaller sample sizes and see if the mse can be improved"
   ]
  },
  {
   "cell_type": "code",
   "execution_count": 606,
   "metadata": {},
   "outputs": [
    {
     "name": "stdout",
     "output_type": "stream",
     "text": [
      "Fold # 1 Test mean squared error: 13.60\n",
      "Fold # 1 Test R2: 0.95\n",
      "Fold # 2 Test mean squared error: 8.22\n",
      "Fold # 2 Test R2: 0.97\n",
      "Fold # 3 Test mean squared error: 14.36\n",
      "Fold # 3 Test R2: 0.95\n",
      "Fold # 4 Test mean squared error: 9.97\n",
      "Fold # 4 Test R2: 0.96\n",
      "Fold # 5 Test mean squared error: 11.32\n",
      "Fold # 5 Test R2: 0.96\n",
      "Fold # 6 Test mean squared error: 9.20\n",
      "Fold # 6 Test R2: 0.97\n",
      "Fold # 7 Test mean squared error: 9.70\n",
      "Fold # 7 Test R2: 0.97\n",
      "Fold # 8 Test mean squared error: 12.69\n",
      "Fold # 8 Test R2: 0.96\n",
      "Fold # 9 Test mean squared error: 10.34\n",
      "Fold # 9 Test R2: 0.97\n",
      "Fold # 10 Test mean squared error: 12.08\n",
      "Fold # 10 Test R2: 0.96\n",
      "Fold # 11 Test mean squared error: 14.19\n",
      "Fold # 11 Test R2: 0.95\n",
      "Fold # 12 Test mean squared error: 16.28\n",
      "Fold # 12 Test R2: 0.95\n",
      "Fold # 13 Test mean squared error: 8.70\n",
      "Fold # 13 Test R2: 0.97\n",
      "Fold # 14 Test mean squared error: 13.59\n",
      "Fold # 14 Test R2: 0.96\n",
      "Fold # 15 Test mean squared error: 17.25\n",
      "Fold # 15 Test R2: 0.94\n",
      "Fold # 16 Test mean squared error: 10.35\n",
      "Fold # 16 Test R2: 0.96\n",
      "Fold # 17 Test mean squared error: 22.16\n",
      "Fold # 17 Test R2: 0.93\n",
      "Fold # 18 Test mean squared error: 13.43\n",
      "Fold # 18 Test R2: 0.96\n",
      "Fold # 19 Test mean squared error: 12.32\n",
      "Fold # 19 Test R2: 0.96\n",
      "Training Sample Size:  703\n"
     ]
    },
    {
     "data": {
      "text/plain": [
       "(12.618729245383387, 0.9578826070318234, 703)"
      ]
     },
     "execution_count": 606,
     "metadata": {},
     "output_type": "execute_result"
    }
   ],
   "source": [
    "cross_validation_sample_size(x_tr_der,y_tr,'Ridge(alpha=0.000001,normalize=False)',19,1,1)"
   ]
  },
  {
   "cell_type": "code",
   "execution_count": 607,
   "metadata": {},
   "outputs": [
    {
     "name": "stdout",
     "output_type": "stream",
     "text": [
      "Fold # 1 Test mean squared error: 10.08\n",
      "Fold # 1 Test R2: 0.97\n",
      "Fold # 2 Test mean squared error: 6.85\n",
      "Fold # 2 Test R2: 0.98\n",
      "Fold # 3 Test mean squared error: 7.86\n",
      "Fold # 3 Test R2: 0.97\n",
      "Fold # 4 Test mean squared error: 6.54\n",
      "Fold # 4 Test R2: 0.98\n",
      "Fold # 5 Test mean squared error: 7.10\n",
      "Fold # 5 Test R2: 0.98\n",
      "Fold # 6 Test mean squared error: 9.00\n",
      "Fold # 6 Test R2: 0.97\n",
      "Fold # 7 Test mean squared error: 7.31\n",
      "Fold # 7 Test R2: 0.98\n",
      "Fold # 8 Test mean squared error: 9.92\n",
      "Fold # 8 Test R2: 0.97\n",
      "Fold # 9 Test mean squared error: 8.39\n",
      "Fold # 9 Test R2: 0.97\n",
      "Fold # 10 Test mean squared error: 7.23\n",
      "Fold # 10 Test R2: 0.98\n",
      "Fold # 11 Test mean squared error: 7.28\n",
      "Fold # 11 Test R2: 0.98\n",
      "Fold # 12 Test mean squared error: 8.33\n",
      "Fold # 12 Test R2: 0.97\n",
      "Fold # 13 Test mean squared error: 9.59\n",
      "Fold # 13 Test R2: 0.97\n",
      "Fold # 14 Test mean squared error: 6.85\n",
      "Fold # 14 Test R2: 0.98\n",
      "Fold # 15 Test mean squared error: 7.73\n",
      "Fold # 15 Test R2: 0.97\n",
      "Fold # 16 Test mean squared error: 8.02\n",
      "Fold # 16 Test R2: 0.97\n",
      "Fold # 17 Test mean squared error: 9.44\n",
      "Fold # 17 Test R2: 0.97\n",
      "Fold # 18 Test mean squared error: 7.38\n",
      "Fold # 18 Test R2: 0.98\n",
      "Fold # 19 Test mean squared error: 8.35\n",
      "Fold # 19 Test R2: 0.97\n",
      "Training Sample Size:  703\n"
     ]
    },
    {
     "data": {
      "text/plain": [
       "(8.064736099576976, 0.9729734315848413, 703)"
      ]
     },
     "execution_count": 607,
     "metadata": {},
     "output_type": "execute_result"
    }
   ],
   "source": [
    "cross_validation_sample_size(x_tr_der,y_tr,'Ridge(alpha=0.00000001,normalize=False)',19,1,1)"
   ]
  },
  {
   "cell_type": "markdown",
   "metadata": {},
   "source": [
    "Alpha seems to be optimized at 1e-7"
   ]
  },
  {
   "cell_type": "markdown",
   "metadata": {},
   "source": [
    "# PCA\n"
   ]
  },
  {
   "cell_type": "code",
   "execution_count": 32,
   "metadata": {},
   "outputs": [],
   "source": [
    "# Compute PCA keeping only he n_components\n",
    "pca = PCA(n_components=100)"
   ]
  },
  {
   "cell_type": "code",
   "execution_count": 33,
   "metadata": {},
   "outputs": [],
   "source": [
    "# fit and transform train set and transform test set\n",
    "pca_tr = pca.fit_transform(x_tr)\n",
    "pca_te = pca.transform(x_te)"
   ]
  },
  {
   "cell_type": "code",
   "execution_count": 34,
   "metadata": {},
   "outputs": [
    {
     "data": {
      "text/plain": [
       "LinearRegression(copy_X=True, fit_intercept=True, n_jobs=None,\n",
       "         normalize=False)"
      ]
     },
     "execution_count": 34,
     "metadata": {},
     "output_type": "execute_result"
    }
   ],
   "source": [
    "#fit linear Regression model on PCA data\n",
    "lr.fit(pca_tr, y_tr)"
   ]
  },
  {
   "cell_type": "code",
   "execution_count": 35,
   "metadata": {},
   "outputs": [],
   "source": [
    "y_pred_pca = lr.predict(pca_te)"
   ]
  },
  {
   "cell_type": "code",
   "execution_count": 36,
   "metadata": {},
   "outputs": [
    {
     "data": {
      "text/plain": [
       "Text(0, 0.5, 'Predicted y')"
      ]
     },
     "execution_count": 36,
     "metadata": {},
     "output_type": "execute_result"
    },
    {
     "data": {
      "image/png": "[encoded data removed]",
      "text/plain": [
       "<Figure size 432x288 with 1 Axes>"
      ]
     },
     "metadata": {
      "needs_background": "light"
     },
     "output_type": "display_data"
    }
   ],
   "source": [
    "# display plot to see \"accuracy\" of the model\n",
    "plt.scatter(y_te,y_pred_pca)\n",
    "u = np.linspace(0,500)\n",
    "plt.plot(u,u, c='black')\n",
    "plt.xlabel(\"True y\")\n",
    "plt.ylabel(\"Predicted y\")"
   ]
  },
  {
   "cell_type": "code",
   "execution_count": 37,
   "metadata": {},
   "outputs": [
    {
     "data": {
      "text/plain": [
       "0.9795106303753589"
      ]
     },
     "execution_count": 37,
     "metadata": {},
     "output_type": "execute_result"
    }
   ],
   "source": [
    "r2_score(y_te,y_pred_pca)"
   ]
  },
  {
   "cell_type": "markdown",
   "metadata": {},
   "source": [
    "Almost as good as when using all the features"
   ]
  },
  {
   "cell_type": "code",
   "execution_count": 38,
   "metadata": {},
   "outputs": [],
   "source": [
    "# Check performance of pca models with different number of components\n",
    "max_pca_feat = 100\n",
    "\n",
    "def compute_scores(X,y):\n",
    "    \"\"\"Compute cross-validation on pca model with different number of components\"\"\"\n",
    "    pca = PCA()\n",
    "    pca_scores = []\n",
    "    \n",
    "    for n_feat in range(1,max_pca_feat):\n",
    "        pca.n_components = n_feat\n",
    "        pca_scores.append(np.mean(cross_val_score(pca,X,y, cv=3)))\n",
    "        print(n_feat)\n",
    "    return pca_scores"
   ]
  },
  {
   "cell_type": "code",
   "execution_count": 39,
   "metadata": {},
   "outputs": [],
   "source": [
    "# trick: Use pickle to avoid recalculating\n",
    "import pickle\n",
    "\n",
    "def load_pickle(file_path):\n",
    "    with open(file_path, 'rb') as file:\n",
    "        return pickle.load(file)\n",
    "\n",
    "def save_pickle(result, file_path):\n",
    "    with open(file_path, 'wb') as file:\n",
    "        pickle.dump(result, file)\n",
    "\n",
    "def features_computation(X,y):\n",
    "    try:\n",
    "        return load_pickle('./pca_cv_scores')\n",
    "    except (FileNotFoundError, EOFError) as e:\n",
    "        pca_scores = compute_scores(X,y)\n",
    "        save_pickle(pca_scores, './pca_cv_scores')\n",
    "        return pca_scores"
   ]
  },
  {
   "cell_type": "code",
   "execution_count": 40,
   "metadata": {},
   "outputs": [],
   "source": [
    "# compute cv_score of pca models with different number of components\n",
    "pca_scores = features_computation(x_tr,y_tr)"
   ]
  },
  {
   "cell_type": "code",
   "execution_count": 41,
   "metadata": {},
   "outputs": [
    {
     "data": {
      "text/plain": [
       "Text(0.5, 1.0, 'Number of Features')"
      ]
     },
     "execution_count": 41,
     "metadata": {},
     "output_type": "execute_result"
    },
    {
     "data": {
      "image/png": "[encoded data removed]",
      "text/plain": [
       "<Figure size 432x288 with 1 Axes>"
      ]
     },
     "metadata": {
      "needs_background": "light"
     },
     "output_type": "display_data"
    }
   ],
   "source": [
    "# Display plot to help determine how many features to keep to not lose too much information\n",
    "plt.plot(pca_scores)\n",
    "plt.ylabel(\"CV scores\")\n",
    "plt.xlabel(\"n_components\")\n",
    "plt.title(\"Number of Features\")"
   ]
  },
  {
   "cell_type": "markdown",
   "metadata": {},
   "source": [
    "## Training Set Reduction"
   ]
  },
  {
   "cell_type": "code",
   "execution_count": 42,
   "metadata": {},
   "outputs": [],
   "source": [
    "# Check performance of pca models with diff training set size // n_components = 100 determined in the above cell\n",
    "def compute_min_set(X,y):\n",
    "    \"\"\"Compute cross-validation on pca model with different training set size\"\"\"\n",
    "    \n",
    "    pca = PCA(n_components=100)\n",
    "    pca_scores = []\n",
    "    length = X.shape[0]\n",
    "    k = 50\n",
    "    div = round(length/k)\n",
    "    for i in range(k):\n",
    "        pca_scores.append(np.mean(cross_val_score(pca,X.iloc[:(1+i)*div,:],y[:(1+i)*div], cv=3)))\n",
    "        print(i)\n",
    "    return pca_scores"
   ]
  },
  {
   "cell_type": "code",
   "execution_count": 43,
   "metadata": {},
   "outputs": [
    {
     "name": "stdout",
     "output_type": "stream",
     "text": [
      "0\n",
      "1\n",
      "2\n",
      "3\n",
      "4\n",
      "5\n",
      "6\n",
      "7\n",
      "8\n",
      "9\n",
      "10\n",
      "11\n",
      "12\n",
      "13\n",
      "14\n",
      "15\n",
      "16\n",
      "17\n",
      "18\n",
      "19\n",
      "20\n",
      "21\n",
      "22\n",
      "23\n",
      "24\n",
      "25\n",
      "26\n",
      "27\n",
      "28\n",
      "29\n",
      "30\n",
      "31\n",
      "32\n",
      "33\n",
      "34\n",
      "35\n",
      "36\n",
      "37\n",
      "38\n",
      "39\n",
      "40\n",
      "41\n",
      "42\n",
      "43\n",
      "44\n",
      "45\n",
      "46\n",
      "47\n",
      "48\n",
      "49\n"
     ]
    }
   ],
   "source": [
    "# compute cv_score of pca model with increasing training set size\n",
    "min_set_score = compute_min_set(x_tr,y_tr)"
   ]
  },
  {
   "cell_type": "code",
   "execution_count": 44,
   "metadata": {},
   "outputs": [
    {
     "data": {
      "text/plain": [
       "Text(0.5, 1.0, 'Training set size')"
      ]
     },
     "execution_count": 44,
     "metadata": {},
     "output_type": "execute_result"
    },
    {
     "data": {
      "image/png": "[encoded data removed]",
      "text/plain": [
       "<Figure size 432x288 with 1 Axes>"
      ]
     },
     "metadata": {
      "needs_background": "light"
     },
     "output_type": "display_data"
    }
   ],
   "source": [
    "# Display plot\n",
    "plt.plot(min_set_score)\n",
    "plt.ylabel(\"CV scores\")\n",
    "plt.xlabel(\"# slice[length/k]\")\n",
    "plt.title(\"Training set size\")"
   ]
  },
  {
   "cell_type": "code",
   "execution_count": 45,
   "metadata": {},
   "outputs": [
    {
     "data": {
      "text/plain": [
       "array([49, 48, 46, 47, 45, 44, 43, 42, 41, 40, 35, 34, 39, 33, 38, 37, 36,\n",
       "       32, 31, 30, 29, 28, 27, 26, 25, 24,  4,  8,  7,  5,  6, 23, 22, 20,\n",
       "        9,  3, 21, 18, 19, 10, 17, 16, 11,  2, 13, 12, 14, 15,  1,  0],\n",
       "      dtype=int64)"
      ]
     },
     "execution_count": 45,
     "metadata": {},
     "output_type": "execute_result"
    }
   ],
   "source": [
    "# index of the highest to the lowest values\n",
    "np.argsort(min_set_score)[::-1]"
   ]
  },
  {
   "cell_type": "markdown",
   "metadata": {},
   "source": [
    "We can see that, we could take only ~ 8/50 of the train set to get almost the same performance"
   ]
  },
  {
   "cell_type": "code",
   "execution_count": 46,
   "metadata": {},
   "outputs": [
    {
     "data": {
      "text/plain": [
       "0.9753447168576164"
      ]
     },
     "execution_count": 46,
     "metadata": {},
     "output_type": "execute_result"
    },
    {
     "data": {
      "image/png": "[encoded data removed]",
      "text/plain": [
       "<Figure size 432x288 with 1 Axes>"
      ]
     },
     "metadata": {
      "needs_background": "light"
     },
     "output_type": "display_data"
    }
   ],
   "source": [
    "# Test what we found \n",
    "pca = PCA(n_components=100)\n",
    "k = 50\n",
    "length = x_tr.shape[0]\n",
    "div = round(length/k)\n",
    "slices = 8\n",
    "ind = round(slices*div)\n",
    "x_train = x_tr.iloc[:ind,:]\n",
    "y_train = y_tr[:ind]\n",
    "\n",
    "pca_train = pca.fit_transform(x_train)\n",
    "pca_test = pca.transform(x_te)\n",
    "\n",
    "lr.fit(pca_train, y_train)\n",
    "\n",
    "y_pred_pca = lr.predict(pca_test)\n",
    "\n",
    "plt.scatter(y_te,y_pred_pca)\n",
    "u = np.linspace(0,500)\n",
    "plt.plot(u,u, c='black')\n",
    "plt.xlabel(\"True y\")\n",
    "plt.ylabel(\"Predicted y\")\n",
    "\n",
    "r2_score(y_te,y_pred_pca)"
   ]
  },
  {
   "cell_type": "code",
   "execution_count": 49,
   "metadata": {},
   "outputs": [
    {
     "data": {
      "text/plain": [
       "0.9753518559295916"
      ]
     },
     "execution_count": 49,
     "metadata": {},
     "output_type": "execute_result"
    },
    {
     "data": {
      "image/png": "[encoded data removed]",
      "text/plain": [
       "<Figure size 432x288 with 1 Axes>"
      ]
     },
     "metadata": {
      "needs_background": "light"
     },
     "output_type": "display_data"
    }
   ],
   "source": [
    "# Test what we found \n",
    "pca = PCA(n_components=100)\n",
    "k = 50\n",
    "length = x_tr.shape[0]\n",
    "div = round(length/k)\n",
    "slices = 8\n",
    "ind = round(slices*div)\n",
    "x_train = x_tr.iloc[:ind,:]\n",
    "y_train = y_tr[:ind]\n",
    "\n",
    "pca_train = pca.fit_transform(x_train)\n",
    "pca_test = pca.transform(x_te)\n",
    "\n",
    "ridge.fit(pca_train, y_train)\n",
    "\n",
    "y_pred_pca = ridge.predict(pca_test)\n",
    "\n",
    "plt.scatter(y_te,y_pred_pca)\n",
    "u = np.linspace(0,500)\n",
    "plt.plot(u,u, c='black')\n",
    "plt.xlabel(\"True y\")\n",
    "plt.ylabel(\"Predicted y\")\n",
    "\n",
    "r2_score(y_te,y_pred_pca)"
   ]
  },
  {
   "cell_type": "code",
   "execution_count": 51,
   "metadata": {},
   "outputs": [
    {
     "data": {
      "text/plain": [
       "Text(0, 0.5, 'bias')"
      ]
     },
     "execution_count": 51,
     "metadata": {},
     "output_type": "execute_result"
    },
    {
     "data": {
      "image/png": "[encoded data removed]",
      "text/plain": [
       "<Figure size 432x288 with 1 Axes>"
      ]
     },
     "metadata": {
      "needs_background": "light"
     },
     "output_type": "display_data"
    }
   ],
   "source": [
    "bias_test = (y_te - y_pred_pca) / df_OCU_te\n",
    "\n",
    "plt.scatter(SNR_te,bias_test)\n",
    "plt.title(\"PCA\")\n",
    "plt.xlabel(\"SNR\")\n",
    "plt.ylabel(\"bias\")"
   ]
  },
  {
   "cell_type": "code",
   "execution_count": null,
   "metadata": {},
   "outputs": [],
   "source": []
  },
  {
   "cell_type": "code",
   "execution_count": null,
   "metadata": {},
   "outputs": [],
   "source": []
  }
 ],
 "metadata": {
  "kernelspec": {
   "display_name": "Python 3",
   "language": "python",
   "name": "python3"
  },
  "language_info": {
   "codemirror_mode": {
    "name": "ipython",
    "version": 3
   },
   "file_extension": ".py",
   "mimetype": "text/x-python",
   "name": "python",
   "nbconvert_exporter": "python",
   "pygments_lexer": "ipython3",
   "version": "3.7.0"
  }
 },
 "nbformat": 4,
 "nbformat_minor": 2
}
